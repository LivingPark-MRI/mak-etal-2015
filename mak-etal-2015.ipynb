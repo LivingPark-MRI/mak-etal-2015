{
 "cells": [
  {
   "cell_type": "markdown",
   "id": "83c4d379",
   "metadata": {},
   "source": [
    "# Mak et al, 2015"
   ]
  },
  {
   "cell_type": "markdown",
   "id": "d7af16a1",
   "metadata": {},
   "source": [
    "## Introduction"
   ]
  },
  {
   "cell_type": "markdown",
   "id": "1effb044",
   "metadata": {},
   "source": [
    "In this notebook we will identify PPMI subjects to reproduce the following paper:\n",
    "\n",
    "<div class=\"alert alert-block alert-success\"> E. Mak et al., <a href=\"https://academic.oup.com/brain/article/138/10/2974/2468704?login=false\" style=\"text-decoration: none;\">“Baseline and longitudinal grey matter changes in newly diagnosed Parkinson’s disease: ICICLE-PD study,”</a> Brain, vol. 138, no. 10, pp. 2974–2986, 2015.\n",
    "</div>"
   ]
  },
  {
   "cell_type": "markdown",
   "id": "e06c4d69",
   "metadata": {},
   "source": [
    "This study involved 105 subjects with newly diagnosed idiopathic Parkinson’s disease (PD) and 37 healthy matched controls. \n",
    "\n",
    "Among the 105 PD subjects, they classified 39 subjects as PD with mild cognitive impairment (PD-MCI) and 66 subjects as PD with no cognitive impairment (PD-NC).\n",
    "\n",
    "The demographics and clinical characteristics were as follows (table extracted from the paper):"
   ]
  },
  {
   "cell_type": "markdown",
   "id": "9e3a1e69",
   "metadata": {},
   "source": [
    "<img src=\"images/cohort_table.jpeg\"/>"
   ]
  },
  {
   "cell_type": "markdown",
   "id": "bce26ffb",
   "metadata": {},
   "source": [
    "The subjects had a serial 3 T structural magnetic resonance imaging (MRI) scans with clinical and neuropsychological assessments at baseline and, at 18 months follow-up.\n",
    "\n",
    "These MRI were processed with Freesurfer, an image processing software, to measure the cortical thickness and subcortical volumes at baseline and follow-up. \n",
    "\n",
    "The key result of the paper reveals that PD-MCI shows more extensive atrophy and greater percentage of cortical thinning compared to PD-NC, as illustrated below in Table 2 and Figure 2C (extracted from paper) respectively. "
   ]
  },
  {
   "cell_type": "markdown",
   "id": "be948620",
   "metadata": {},
   "source": [
    "<img src=\"images/change_in_subcortical_volumes.jpeg\"/>"
   ]
  },
  {
   "cell_type": "markdown",
   "id": "c0eb9963",
   "metadata": {},
   "source": [
    "<figure>\n",
    "    \n",
    "<img src=\"images/change_in_cortical_thinning.jpg\"/>\n",
    "\n",
    "<figcaption>\n",
    "    <b>Figure 2C. Vertex-wise comparisons of percentage change in cortical thinning over 18 months.</b>\n",
    "    The colour bar shows the logarithmic scale of P-values (−log10). Lh = left hemisphere; Rh = right hemisphere.</figcaption>\n",
    "\n",
    "</figure>\n"
   ]
  },
  {
   "cell_type": "markdown",
   "id": "0e98321f",
   "metadata": {},
   "source": [
    "In this notebook, we aim at reproducing these results using the PPMI dataset."
   ]
  },
  {
   "cell_type": "markdown",
   "id": "aaba2d52",
   "metadata": {},
   "source": [
    "## Importing modules"
   ]
  },
  {
   "cell_type": "markdown",
   "id": "8c6ce4cb",
   "metadata": {},
   "source": [
    "First, let's initialize the notebook by installing software dependencies and importing libraries that we're going to use."
   ]
  },
  {
   "cell_type": "code",
   "execution_count": 1,
   "id": "ef6e5121",
   "metadata": {},
   "outputs": [
    {
     "name": "stdout",
     "output_type": "stream",
     "text": [
      "This notebook was run on 2023-03-03 19:34:19 UTC +0000\n"
     ]
    }
   ],
   "source": [
    "import os\n",
    "import sys\n",
    "import csv\n",
    "import rich\n",
    "import getpass\n",
    "import paramiko\n",
    "import numpy as np\n",
    "import pandas as pd\n",
    "import livingpark_utils\n",
    "import warnings\n",
    "from pingouin import ancova\n",
    "from rich.table import Table\n",
    "from itertools import product\n",
    "from tqdm.notebook import tqdm\n",
    "import matplotlib.pyplot as plt\n",
    "from rich.console import Console\n",
    "from itertools import combinations\n",
    "from collections import namedtuple\n",
    "from collections import defaultdict\n",
    "from collections.abc import Iterable\n",
    "from livingpark_utils import clinical\n",
    "from livingpark_utils import download\n",
    "from livingpark_utils.scripts import run\n",
    "from livingpark_utils.dataset import ppmi\n",
    "from livingpark_utils.maketal import maketal\n",
    "import livingpark_utils.visualization as visualization\n",
    "from statsmodels.stats.multicomp import pairwise_tukeyhsd\n",
    "\n",
    "inputs_dir = os.path.join(os.getcwd(), \"inputs/study_files\")\n",
    "outputs_dir = os.path.join(os.getcwd(), \"outputs\")\n",
    "data_dir = os.path.join(os.getcwd(), \"data\")\n",
    "\n",
    "utils = livingpark_utils.LivingParkUtils()\n",
    "downloader = download.ppmi.Downloader(utils.study_files_dir)\n",
    "utils.notebook_init()\n",
    "\n",
    "warnings.filterwarnings(\"ignore\")"
   ]
  },
  {
   "cell_type": "markdown",
   "id": "fd70ac01",
   "metadata": {},
   "source": [
    "## Cohort Preparation"
   ]
  },
  {
   "cell_type": "markdown",
   "id": "214a1194",
   "metadata": {},
   "source": [
    "The first step in reproducing the paper is to build a PPMI cohort that looks the closest to Table 1. For this, we will use PPMI Study Data files."
   ]
  },
  {
   "cell_type": "markdown",
   "id": "e2fc3b14",
   "metadata": {},
   "source": [
    "## PPMI study data files download"
   ]
  },
  {
   "cell_type": "markdown",
   "id": "b85b9c3e",
   "metadata": {},
   "source": [
    "The required PPMI study files to build the cohort are:\n",
    "\n",
    "|Files|Used to retrieve|\n",
    "|:---|:---|\n",
    "|Demographics | gender|\n",
    "|Age at visit | age|\n",
    "|Socio-Economics| years of education|\n",
    "|Participant Status | PD subjects and healthy controls|\n",
    "|Primary Clinical Diagnosis | subjects with no PD nor other neurological disorder |\n",
    "|Cognitive Categorization | PD-MCI and PD-NC subjects| \n",
    "|PD Diagnosis History | disease duration| \n",
    "|MDS UPDRS Part III | Hoehn and Yahr scores|\n",
    "|LEDD Concomitant Medication Log | LEDD scores|\n",
    "|Montreal Cognitive Assessment MoCA | MoCA and MMSE scores|\n",
    "|Geriatric Depression Scale Short Version | GDS scores|\n",
    "\n",
    "\n",
    "We will use the LivingPark utils library to download these files from the notebook. "
   ]
  },
  {
   "cell_type": "code",
   "execution_count": 2,
   "id": "425943b3",
   "metadata": {},
   "outputs": [
    {
     "name": "stdout",
     "output_type": "stream",
     "text": [
      "Download skipped: No missing files!\n"
     ]
    }
   ],
   "source": [
    "required_files = [\n",
    "    \"Demographics.csv\",\n",
    "    \"Age_at_visit.csv\",\n",
    "    \"MDS_UPDRS_Part_III.csv\",\n",
    "    \"Socio-Economics.csv\",\n",
    "    \"LEDD_Concomitant_Medication_Log.csv\",\n",
    "    \"Montreal_Cognitive_Assessment__MoCA_.csv\",\n",
    "    \"PD_Diagnosis_History.csv\",\n",
    "    \"Cognitive_Categorization.csv\",\n",
    "    \"Participant_Status.csv\",\n",
    "    \"Primary_Clinical_Diagnosis.csv\",\n",
    "    \"Geriatric_Depression_Scale__Short_Version_.csv\"\n",
    "]\n",
    "\n",
    "utils.get_study_files(required_files, default=downloader)"
   ]
  },
  {
   "cell_type": "markdown",
   "id": "d1ab4c82",
   "metadata": {},
   "source": [
    "## LivingPark utility notebook download "
   ]
  },
  {
   "cell_type": "markdown",
   "id": "e2c1dfa7",
   "metadata": {},
   "source": [
    "We will also import notebooks from LivingPark utils to clean data which produce the following files:\n",
    "\n",
    "* <code>MRI_info.csv</code>: contains 3D T1-weighted images by visit\n",
    "* <code>MDS_UPDRS_Part_III_clean.csv</code>: contains cleaned-up PDSTATE and PDTRTMNT"
   ]
  },
  {
   "cell_type": "code",
   "execution_count": null,
   "id": "54551ace",
   "metadata": {
    "scrolled": true
   },
   "outputs": [],
   "source": [
    "from livingpark_utils.scripts import mri_metadata\n",
    "run.mri_metadata()"
   ]
  },
  {
   "cell_type": "code",
   "execution_count": null,
   "id": "069a77eb",
   "metadata": {
    "scrolled": true
   },
   "outputs": [],
   "source": [
    "from livingpark_utils.scripts import pd_status\n",
    "run.pd_status()"
   ]
  },
  {
   "cell_type": "markdown",
   "id": "2c05593f",
   "metadata": {},
   "source": [
    "## Data Exploration"
   ]
  },
  {
   "cell_type": "markdown",
   "id": "72a0250a",
   "metadata": {},
   "source": [
    "Now that we have all the required files, we will start by preparing the data for cohort matching.\n",
    "\n",
    "We will also analyze the PPMI dataset in order to gain a better understanding of the demographics and clinical characteristics of the data."
   ]
  },
  {
   "cell_type": "code",
   "execution_count": 3,
   "id": "fd784d38",
   "metadata": {},
   "outputs": [],
   "source": [
    "# Styling visualization plots\n",
    "plt.rcParams[\"figure.figsize\"] = (16, 8)\n",
    "plt.rcParams['axes.facecolor'] = '#F2F5F9'\n",
    "plt.rcParams['axes.edgecolor'] = 'none'\n",
    "plt.rcParams['axes.grid'] = False\n",
    "plt.rcParams['grid.color'] = 'white'\n",
    "plt.rcParams[\"figure.autolayout\"] = True\n",
    "color = '#2A2A2A'"
   ]
  },
  {
   "cell_type": "markdown",
   "id": "c65c20cd",
   "metadata": {},
   "source": [
    "### Demographics Characteristics"
   ]
  },
  {
   "cell_type": "markdown",
   "id": "61b1668c",
   "metadata": {},
   "source": [
    "### Cohort Definition"
   ]
  },
  {
   "cell_type": "markdown",
   "id": "f4de2760",
   "metadata": {},
   "source": [
    "First, we will extract participants defined as healthy controls and diagnosed with Parkinson's disease."
   ]
  },
  {
   "cell_type": "markdown",
   "id": "ad1359c1",
   "metadata": {},
   "source": [
    "We obtain the following distribution of participants across the cohort in the PPMI dataset:"
   ]
  },
  {
   "cell_type": "code",
   "execution_count": 4,
   "id": "172119a3",
   "metadata": {},
   "outputs": [
    {
     "data": {
      "image/png": "[encoded data removed]",
      "text/plain": [
       "<Figure size 1600x800 with 1 Axes>"
      ]
     },
     "metadata": {},
     "output_type": "display_data"
    }
   ],
   "source": [
    "participants = pd.read_csv(os.path.join(inputs_dir, \"Participant_Status.csv\"), usecols=[\"PATNO\", \"COHORT\"])\n",
    "participants = participants[participants[\"COHORT\"].isin([1, 2])] # Only keep PD(1) and HC(2).\n",
    "\n",
    "pd_patients = participants[participants[\"COHORT\"] == 1] # Dataframe with PD only\n",
    "hc = participants[participants[\"COHORT\"] == 2] # Dataframe with HC only\n",
    "\n",
    "prim_diag = pd.read_csv(os.path.join(inputs_dir, \"Primary_Clinical_Diagnosis.csv\"), usecols=[\"PATNO\", \"PRIMDIAG\"])\n",
    "\n",
    "# Only keep no PD nor other neurological disorder (PRIMDIAG 17)\n",
    "prim_diag = prim_diag[prim_diag[\"PRIMDIAG\"].isin([17])].drop_duplicates()\n",
    "\n",
    "# If patient status is both PRIMDIAG 17 and COHORT 2, \n",
    "# then patient is defined as healthy control\n",
    "hc = hc.merge(prim_diag, on=[\"PATNO\"]).drop_duplicates().drop(columns=['PRIMDIAG'])\n",
    "\n",
    "# Merge PD, HC and PRIMDIAG\n",
    "cohort_def = pd.concat([pd_patients, hc])\n",
    "cohort_def = cohort_def.sample(frac=1, random_state=42)\n",
    "cohort_def.drop_duplicates(subset=['PATNO'], keep='first', inplace=True)\n",
    "\n",
    "cohort = cohort_def.groupby([\"COHORT\"]).size()\n",
    "plt.bar([\"Parkinson's Disease\", \"Healthy Controls\"], cohort.values, color=color)\n",
    "plt.ylabel(\"Number of visits\")\n",
    "plt.title(\"Distribution of Participants\");"
   ]
  },
  {
   "cell_type": "markdown",
   "id": "94526d3a",
   "metadata": {},
   "source": [
    "### Cognitive State"
   ]
  },
  {
   "cell_type": "markdown",
   "id": "59ead653",
   "metadata": {},
   "source": [
    "The original study differentiates between PD patients with and without MCI. \n",
    "\n",
    "We will consult PPMI's cognitive categorization to obtain its distribution. "
   ]
  },
  {
   "cell_type": "code",
   "execution_count": 5,
   "id": "718bd760",
   "metadata": {},
   "outputs": [
    {
     "data": {
      "image/png": "[encoded data removed]",
      "text/plain": [
       "<Figure size 1600x800 with 1 Axes>"
      ]
     },
     "metadata": {},
     "output_type": "display_data"
    },
    {
     "data": {
      "image/png": "[encoded data removed]",
      "text/plain": [
       "<Figure size 1600x800 with 1 Axes>"
      ]
     },
     "metadata": {},
     "output_type": "display_data"
    }
   ],
   "source": [
    "cogstate_df = pd.read_csv(os.path.join(inputs_dir,\"Cognitive_Categorization.csv\"),\n",
    "                          usecols=[\"PATNO\", \"EVENT_ID\", \"COGSTATE\"])\n",
    "# Drop nan\n",
    "cogstate_df = cogstate_df[cogstate_df[\"COGSTATE\"].notna()] \n",
    "# Dropping all subjects with PDD\n",
    "cogstate_df = cogstate_df[cogstate_df[\"COGSTATE\"] != 3] \n",
    "\n",
    "cogstate = cogstate_df.groupby([\"COGSTATE\", \"EVENT_ID\"])[\"PATNO\"].nunique().rename({1: \"NC\", 2: \"MCI\"})\n",
    "shared_index = np.intersect1d(cogstate[\"NC\"].index, cogstate[\"MCI\"].index)\n",
    "cogstate[\"NC\"][shared_index].plot.bar(title=\"Distribution of Available NC Data by Visit\", color=color)\n",
    "plt.ylabel(\"Number of visits\")\n",
    "plt.xlabel(\"Type of visits\")\n",
    "plt.show()\n",
    "cogstate[\"MCI\"][shared_index].plot.bar(title=\"Distribution of Available MCI Data by Visit\", color=color)\n",
    "plt.ylabel(\"Number of visits\")\n",
    "plt.xlabel(\"Type of visits\")\n",
    "plt.show()"
   ]
  },
  {
   "cell_type": "markdown",
   "id": "8a07101a",
   "metadata": {},
   "source": [
    "Types of visits expressed as: BL-Baseline, PW-Premature Withdrawal, ST-Symptomatic Therapy, V<em>xx</em>-Visit <em>xx</em>"
   ]
  },
  {
   "cell_type": "markdown",
   "id": "48eed063",
   "metadata": {},
   "source": [
    "The number of subjects with NC is significantly higher, as seen on the graphs above. Therefore, we will make sure to obtain MCI patients before NC ones."
   ]
  },
  {
   "cell_type": "markdown",
   "id": "53eac462",
   "metadata": {},
   "source": [
    "### Age at visit"
   ]
  },
  {
   "cell_type": "markdown",
   "id": "e4ba18fb",
   "metadata": {},
   "source": [
    "The patient's age was recorded at each visit. To keep it simple, we will only show the age distribution at baseline while considering the age at specific visits for the cohort."
   ]
  },
  {
   "cell_type": "code",
   "execution_count": 6,
   "id": "e51b2b38",
   "metadata": {},
   "outputs": [
    {
     "name": "stdout",
     "output_type": "stream",
     "text": [
      "Age range: 26.4 - 86.5\n",
      "Average age: 62.87042594385285\n",
      "Most common age: 63.3\n"
     ]
    },
    {
     "data": {
      "image/png": "[encoded data removed]",
      "text/plain": [
       "<Figure size 1600x800 with 1 Axes>"
      ]
     },
     "metadata": {},
     "output_type": "display_data"
    }
   ],
   "source": [
    "age_df = pd.read_csv(os.path.join(inputs_dir, \"Age_at_visit.csv\"),\n",
    "                     usecols=[\"PATNO\", \"EVENT_ID\", \"AGE_AT_VISIT\"])\n",
    "\n",
    "age_df[age_df[\"EVENT_ID\"] == \"BL\"][\"AGE_AT_VISIT\"].plot.hist(bins=25, color=color, rwidth=0.9);\n",
    "plt.xlabel('Age(years)')\n",
    "plt.ylabel('Number of visits')\n",
    "plt.title(\"Distribution of Age at Baseline\");\n",
    "\n",
    "print(\"Age range:\", age_df[age_df[\"EVENT_ID\"] == \"BL\"][\"AGE_AT_VISIT\"].min(), \"-\", \n",
    "      age_df[age_df[\"EVENT_ID\"] == \"BL\"][\"AGE_AT_VISIT\"].max())\n",
    "\n",
    "print(\"Average age:\",age_df[age_df[\"EVENT_ID\"] == \"BL\"][\"AGE_AT_VISIT\"].mean())\n",
    "\n",
    "print(\"Most common age:\",age_df[age_df[\"EVENT_ID\"] == \"BL\"][\"AGE_AT_VISIT\"].mode()[0])"
   ]
  },
  {
   "cell_type": "markdown",
   "id": "722f6d90",
   "metadata": {},
   "source": [
    "The age of the subjects ranges from 26 to 86, with an average age of 62. The most common age among the subjects is 63."
   ]
  },
  {
   "cell_type": "markdown",
   "id": "c813dd14",
   "metadata": {},
   "source": [
    "### Gender"
   ]
  },
  {
   "cell_type": "markdown",
   "id": "c23d7d1a",
   "metadata": {},
   "source": [
    "We will look at PPMI's demographics to get the gender distribution."
   ]
  },
  {
   "cell_type": "code",
   "execution_count": 7,
   "id": "ae5843dc",
   "metadata": {},
   "outputs": [
    {
     "data": {
      "image/png": "[encoded data removed]",
      "text/plain": [
       "<Figure size 1600x800 with 1 Axes>"
      ]
     },
     "metadata": {},
     "output_type": "display_data"
    }
   ],
   "source": [
    "demo_df = pd.read_csv(os.path.join(inputs_dir,\"Demographics.csv\"), usecols=[\"PATNO\", \"SEX\"])\n",
    "demo_df[\"SEX\"] = demo_df[\"SEX\"].astype(int)\n",
    "\n",
    "gender = demo_df.groupby(\"SEX\").size().rename({0: \"Female\", 1: \"Male\"})\n",
    "\n",
    "plt.bar(gender.index, gender.values, color=color)\n",
    "plt.ylabel(\"Number of visits\")\n",
    "plt.title(\"Distribution of Gender\");"
   ]
  },
  {
   "cell_type": "markdown",
   "id": "90f11fd3",
   "metadata": {},
   "source": [
    "There is a higher number of males than females in the study."
   ]
  },
  {
   "cell_type": "markdown",
   "id": "3076ea70",
   "metadata": {},
   "source": [
    "### Education"
   ]
  },
  {
   "cell_type": "markdown",
   "id": "d42285d0",
   "metadata": {},
   "source": [
    "Looking at PPMI's socioeconomics, we obtain the following distribution by visit:"
   ]
  },
  {
   "cell_type": "code",
   "execution_count": 8,
   "id": "854ecd25",
   "metadata": {},
   "outputs": [
    {
     "data": {
      "image/png": "[encoded data removed]",
      "text/plain": [
       "<Figure size 1600x800 with 1 Axes>"
      ]
     },
     "metadata": {},
     "output_type": "display_data"
    }
   ],
   "source": [
    "socioecon_df = pd.read_csv(os.path.join(inputs_dir,\"Socio-Economics.csv\"), usecols=[\"PATNO\", \"EVENT_ID\", \"EDUCYRS\"])\n",
    "events = socioecon_df.groupby(\"EVENT_ID\").size()\n",
    "\n",
    "plt.bar(events.index.astype(str), events.values, color=color)\n",
    "plt.ylabel(\"Number of visits\")\n",
    "plt.xlabel(\"Type of visits\")\n",
    "plt.title(\"Number of \\\"Years of Education\\\" records available by visit\");"
   ]
  },
  {
   "cell_type": "markdown",
   "id": "52847947",
   "metadata": {},
   "source": [
    "We notice that in the above graph, the years of education were mostly recorded at screening. Thus, we will only consider the latter as the other visits might limit the possibility to perform data aggregation for the cohort matching."
   ]
  },
  {
   "cell_type": "markdown",
   "id": "8c497981",
   "metadata": {},
   "source": [
    "We obtain the following distribution of years of education at screening:"
   ]
  },
  {
   "cell_type": "code",
   "execution_count": 9,
   "id": "e94f2ba8",
   "metadata": {},
   "outputs": [
    {
     "name": "stdout",
     "output_type": "stream",
     "text": [
      "Range of years of education: 0.0 - 30.0\n",
      "Average years of education: 15.936936936936936\n"
     ]
    },
    {
     "data": {
      "image/png": "[encoded data removed]",
      "text/plain": [
       "<Figure size 1600x800 with 1 Axes>"
      ]
     },
     "metadata": {},
     "output_type": "display_data"
    }
   ],
   "source": [
    "socioecon_df = socioecon_df[socioecon_df[\"EVENT_ID\"] == \"SC\"]\n",
    "socioecon_df = socioecon_df[[\"PATNO\", \"EDUCYRS\"]]\n",
    "\n",
    "socioecon_df[\"EDUCYRS\"].plot.hist(bins=25, color=color, rwidth=0.9);\n",
    "plt.ylabel(\"Number of visits\")\n",
    "plt.xlabel(\"Education (Years)\")\n",
    "plt.title(\"Number of \\\"Years of Education\\\" records available at Screening\");\n",
    "\n",
    "print(\"Range of years of education:\", socioecon_df[\"EDUCYRS\"].min(), \"-\", \n",
    "      socioecon_df[\"EDUCYRS\"].max())\n",
    "\n",
    "print(\"Average years of education:\", socioecon_df[\"EDUCYRS\"].mean())"
   ]
  },
  {
   "cell_type": "markdown",
   "id": "386ec97a",
   "metadata": {},
   "source": [
    "The education levels of the subjects vary from 0 to 30 years, with an average of 15 years of education."
   ]
  },
  {
   "cell_type": "markdown",
   "id": "a70dd719",
   "metadata": {},
   "source": [
    "### Disease duration"
   ]
  },
  {
   "cell_type": "markdown",
   "id": "d2f03a88",
   "metadata": {},
   "source": [
    "Looking at the disease duration of the subjects, we obtain the following distribution by visit:"
   ]
  },
  {
   "cell_type": "code",
   "execution_count": 10,
   "id": "a00cfa0a",
   "metadata": {},
   "outputs": [
    {
     "data": {
      "image/png": "[encoded data removed]",
      "text/plain": [
       "<Figure size 1600x800 with 1 Axes>"
      ]
     },
     "metadata": {},
     "output_type": "display_data"
    }
   ],
   "source": [
    "pddxdt_df = pd.read_csv(os.path.join(inputs_dir,\"PD_Diagnosis_History.csv\"), usecols=[\"PATNO\", \"EVENT_ID\", \"PDDXDT\"])\n",
    "\n",
    "events = pddxdt_df.groupby(\"EVENT_ID\").size()\n",
    "\n",
    "plt.bar(events.index.astype(str), events.values, color=color)\n",
    "plt.title(\"Number of \\\"Disease Duration\\\" records available by visit\");"
   ]
  },
  {
   "cell_type": "markdown",
   "id": "8adb775f",
   "metadata": {},
   "source": [
    "Similar to the previous section, we will only use PD diagnosis duration taken at screening since it has the most records as shown in the graph above. "
   ]
  },
  {
   "cell_type": "markdown",
   "id": "127c862f",
   "metadata": {},
   "source": [
    "We obtain the following distribution of disease duration:"
   ]
  },
  {
   "cell_type": "code",
   "execution_count": 11,
   "id": "eb57a9b5",
   "metadata": {},
   "outputs": [
    {
     "name": "stdout",
     "output_type": "stream",
     "text": [
      "Download skipped: No missing files!\n",
      "Average duration of disease: 5.196050995024875\n",
      "Most common disease duration: 2.0\n"
     ]
    },
    {
     "data": {
      "image/png": "[encoded data removed]",
      "text/plain": [
       "<Figure size 1600x800 with 1 Axes>"
      ]
     },
     "metadata": {},
     "output_type": "display_data"
    }
   ],
   "source": [
    "pdxdur_df = ppmi.disease_duration(inputs_dir)\n",
    "\n",
    "pdxdur_df[\"PDXDUR\"].plot.hist(bins=25, color=color, rwidth=0.9);\n",
    "plt.ylabel(\"Number of visits\")\n",
    "plt.xlabel(\"Disease duration\")\n",
    "plt.title(\"Distribution of \\\"Disease Duration\\\" records\");\n",
    "\n",
    "print(\"Average duration of disease:\", pdxdur_df[\"PDXDUR\"].mean())\n",
    "print(\"Most common disease duration:\", pdxdur_df[\"PDXDUR\"].mode()[0])"
   ]
  },
  {
   "cell_type": "markdown",
   "id": "d60bbdb1",
   "metadata": {},
   "source": [
    "The average duration of the disease among the subjects is 5 months, with the most common disease duration being 2 months."
   ]
  },
  {
   "cell_type": "markdown",
   "id": "62cf088b",
   "metadata": {},
   "source": [
    "### Clinical Characteristics\n",
    "### Levodopa equivalent daily dose (LEDD)"
   ]
  },
  {
   "cell_type": "markdown",
   "id": "6e6e73ab",
   "metadata": {},
   "source": [
    "Analyzing the LEDD of the subjects, we observe the following distribution by visit: "
   ]
  },
  {
   "cell_type": "code",
   "execution_count": 12,
   "id": "7e31c62a",
   "metadata": {},
   "outputs": [
    {
     "data": {
      "image/png": "[encoded data removed]",
      "text/plain": [
       "<Figure size 1600x800 with 1 Axes>"
      ]
     },
     "metadata": {},
     "output_type": "display_data"
    }
   ],
   "source": [
    "ledd_df = pd.read_csv(os.path.join(inputs_dir,\"LEDD_Concomitant_Medication_Log.csv\"),\n",
    "                     usecols=[\"PATNO\", \"EVENT_ID\", \"LEDD\"])\n",
    "\n",
    "events = ledd_df.groupby([\"EVENT_ID\"]).size()\n",
    "plt.bar(events.index.astype(str), events.values, color=color)\n",
    "plt.title(\"Number of \\\"Levodopa equivalent daily dose\\\" records available by visit\");"
   ]
  },
  {
   "cell_type": "markdown",
   "id": "628f0ae6",
   "metadata": {},
   "source": [
    "Likewise, as seen in the graph above, LEDD was mostly recorded at logs. Therefore, we will only consider LEDD at logs."
   ]
  },
  {
   "cell_type": "markdown",
   "id": "9d48a6d3",
   "metadata": {},
   "source": [
    "The distribution of LEDD is as follows:"
   ]
  },
  {
   "cell_type": "code",
   "execution_count": 13,
   "id": "9ae5c480",
   "metadata": {},
   "outputs": [
    {
     "name": "stdout",
     "output_type": "stream",
     "text": [
      "Average LEDD dose: 264.99988\n",
      "Most common LEDD dose: 100.0\n"
     ]
    },
    {
     "data": {
      "image/png": "[encoded data removed]",
      "text/plain": [
       "<Figure size 1600x800 with 1 Axes>"
      ]
     },
     "metadata": {},
     "output_type": "display_data"
    }
   ],
   "source": [
    "ledd_df = ledd_df[ledd_df[\"EVENT_ID\"] == \"LOG\"]\n",
    "ledd_df = ledd_df[[\"PATNO\", \"LEDD\"]]\n",
    "\n",
    "# For PD medications except COMT inhibitors, the column LEDD will show the value of the\n",
    "# Levodopa equivalent dose for that medication. \n",
    "\n",
    "# For COMT inhibitors, the column LEDD will read “LD x 0.33” (for Entacapone) or “LD x 0.5” \n",
    "# (for Tolcapone). \n",
    "\n",
    "# To find the LEDD for COMT inhibitors, first find the total dose of Levodopa only, \n",
    "# and then multiply the Levodopa dose by either 0.33 or 0.5 as instructed. \n",
    "\n",
    "# Since Levodopa dose is mostly missing we will drop those.\n",
    "\n",
    "ledd_df = ledd_df[ledd_df[\"LEDD\"].notna()] # Drop nan\n",
    "ledd_df = ledd_df[ledd_df[\"LEDD\"] != \"LD x 0.33\"] # Drop LD x 0.33\n",
    "ledd_df = ledd_df[ledd_df[\"LEDD\"] != \"LD x 0.5\"] # Drop LD x 0.5\n",
    "\n",
    "ledd_df[\"LEDD\"] = ledd_df[\"LEDD\"].astype('float32')\n",
    "\n",
    "ledd = ledd_df.groupby([\"LEDD\"]).size()\n",
    "\n",
    "plt.hist(ledd_df['LEDD'], zorder=3, color=color, bins=len(ledd.index),rwidth=0.5)\n",
    "plt.xlabel('LEDD (mg/d)')\n",
    "plt.ylabel('Frequency')\n",
    "plt.title(\"Distribution of \\\"Levodopa equivalent daily dose\\\" records\");\n",
    "\n",
    "print(\"Average LEDD dose:\", ledd_df['LEDD'].mean())\n",
    "print(\"Most common LEDD dose:\", ledd_df['LEDD'].mode()[0])"
   ]
  },
  {
   "cell_type": "markdown",
   "id": "7e373aa9",
   "metadata": {},
   "source": [
    "The average LEDD dose among the subjects is 264 mg/d, with the most common LEDD dose being 100 mg/d."
   ]
  },
  {
   "cell_type": "markdown",
   "id": "eaa7878d",
   "metadata": {},
   "source": [
    "### Hoehn and Yahr staging (H&Y)"
   ]
  },
  {
   "cell_type": "markdown",
   "id": "4cfc9557",
   "metadata": {},
   "source": [
    "We obtain the following distribution of H&Y scores:"
   ]
  },
  {
   "cell_type": "code",
   "execution_count": 14,
   "id": "64badb98",
   "metadata": {},
   "outputs": [
    {
     "data": {
      "image/png": "[encoded data removed]",
      "text/plain": [
       "<Figure size 1600x800 with 1 Axes>"
      ]
     },
     "metadata": {},
     "output_type": "display_data"
    }
   ],
   "source": [
    "updrs3_df = pd.read_csv(os.path.join(inputs_dir,\"MDS_UPDRS_Part_III_clean.csv\"),\n",
    "                     usecols=[\"PATNO\", \"EVENT_ID\", \"PDSTATE\", \"PDTRTMNT\", \"NP3TOT\", \"NHY\"])\n",
    "updrs3_df = updrs3_df[updrs3_df[\"NHY\"].notna()] # Drop nan\n",
    "updrs3 = updrs3_df.groupby([\"NHY\"], dropna=False).size()\n",
    "\n",
    "plt.bar(updrs3.index.astype(str), updrs3.values, color=color)\n",
    "plt.ylabel(\"Number of visits\")\n",
    "plt.xlabel(\"Scores\")\n",
    "plt.title(\"Distribution of H&Y scores\");"
   ]
  },
  {
   "cell_type": "markdown",
   "id": "edc0f891",
   "metadata": {},
   "source": [
    "As we can see, the most common H&Y score is 2 representing a bilateral or midline involvement without impairment of balance. \n",
    "\n",
    "UR is used to indicate that the examiners were unable to rate the H&Y score for some subjects. To ensure the reliability of our analysis, we will remove these subjects from our dataset."
   ]
  },
  {
   "cell_type": "code",
   "execution_count": 15,
   "id": "e009a0bd",
   "metadata": {},
   "outputs": [],
   "source": [
    "# Remove UR patients\n",
    "updrs3_df = updrs3_df[updrs3_df[\"NHY\"] != \"UR\"]\n",
    "updrs3_df[\"NHY\"] = pd.to_numeric(updrs3_df[\"NHY\"])"
   ]
  },
  {
   "cell_type": "markdown",
   "id": "be6fe21a",
   "metadata": {},
   "source": [
    "### Unified Parkinson’s Disease Rating Scale (UPDRS III)"
   ]
  },
  {
   "cell_type": "markdown",
   "id": "a5f22a67",
   "metadata": {},
   "source": [
    "We obtain the following distribution of UPDRS III scores:"
   ]
  },
  {
   "cell_type": "code",
   "execution_count": 16,
   "id": "7148d546",
   "metadata": {},
   "outputs": [
    {
     "data": {
      "image/png": "[encoded data removed]",
      "text/plain": [
       "<Figure size 1600x800 with 1 Axes>"
      ]
     },
     "metadata": {},
     "output_type": "display_data"
    }
   ],
   "source": [
    "figure, ax = plt.subplots()\n",
    "\n",
    "dist = updrs3_df.groupby([\"NP3TOT\"]).size()\n",
    "plt.bar(dist.index.astype(str), dist.values, color=color)\n",
    "plt.ylabel(\"Number of visits\")\n",
    "plt.xlabel(\"Scores\")\n",
    "plt.title(\"Distribution of UDPRS III scores\")\n",
    "\n",
    "visualization.reformat_plot_labels(dist, ax, 10)"
   ]
  },
  {
   "cell_type": "markdown",
   "id": "5d93eb78",
   "metadata": {},
   "source": [
    "The most common Unified Parkinson's Disease Rating Scale score among the subjects is 0 representing no disability."
   ]
  },
  {
   "cell_type": "markdown",
   "id": "a4e48b60",
   "metadata": {},
   "source": [
    "### Montreal Cognitive Assessment (MoCA)"
   ]
  },
  {
   "cell_type": "markdown",
   "id": "dd9397f8",
   "metadata": {},
   "source": [
    "We obtain the following distribution of MoCA scores:"
   ]
  },
  {
   "cell_type": "code",
   "execution_count": 17,
   "id": "b053b833",
   "metadata": {},
   "outputs": [
    {
     "data": {
      "image/png": "[encoded data removed]",
      "text/plain": [
       "<Figure size 1600x800 with 1 Axes>"
      ]
     },
     "metadata": {},
     "output_type": "display_data"
    }
   ],
   "source": [
    "moca_df = pd.read_csv(os.path.join(inputs_dir,\"Montreal_Cognitive_Assessment__MoCA_.csv\"),\n",
    "                   usecols=[\"PATNO\", \"EVENT_ID\", \"MCATOT\",\"INFODT\"])\n",
    "\n",
    "# Use screening instead of baseline.\n",
    "moca_df = moca_df[moca_df[\"EVENT_ID\"] != \"BL\"]\n",
    "moca_df[\"EVENT_ID\"].mask(moca_df[\"EVENT_ID\"] == \"SC\", \"BL\", inplace=True)\n",
    "moca_df = moca_df.dropna()\n",
    "\n",
    "moca = moca_df.groupby([\"MCATOT\"]).size()\n",
    "plt.bar(moca.index.astype(str), moca.values, color=color)\n",
    "plt.title(\"Distribution of MoCA scores\");"
   ]
  },
  {
   "cell_type": "markdown",
   "id": "cdb5805e",
   "metadata": {},
   "source": [
    "The most common MoCA score among the subjects is 29 which is considered to be normal."
   ]
  },
  {
   "cell_type": "markdown",
   "id": "e0aaa355",
   "metadata": {},
   "source": [
    "### Mini-Mental State Examination (MMSE)"
   ]
  },
  {
   "cell_type": "markdown",
   "id": "637820db",
   "metadata": {},
   "source": [
    "We obtain the following distribution of MMSE scores:"
   ]
  },
  {
   "cell_type": "code",
   "execution_count": 18,
   "id": "84b0e93f",
   "metadata": {},
   "outputs": [
    {
     "name": "stdout",
     "output_type": "stream",
     "text": [
      "0.0\n"
     ]
    },
    {
     "data": {
      "image/png": "[encoded data removed]",
      "text/plain": [
       "<Figure size 1600x800 with 1 Axes>"
      ]
     },
     "metadata": {},
     "output_type": "display_data"
    }
   ],
   "source": [
    "moca_df[\"MMSETOT\"] = moca_df[\"MCATOT\"].apply(clinical.moca2mmse)\n",
    "\n",
    "mmse = moca_df.groupby([\"MMSETOT\"]).size()\n",
    "\n",
    "plt.bar(mmse.index.astype(str), mmse.values, color=color)\n",
    "plt.title(\"Distribution of MMSE scores\");"
   ]
  },
  {
   "cell_type": "markdown",
   "id": "9683fd17",
   "metadata": {},
   "source": [
    "The most common MMSE score among the subjects is 30 which is considered to be normal."
   ]
  },
  {
   "cell_type": "markdown",
   "id": "b4ca7d1d",
   "metadata": {},
   "source": [
    "### Geriatric Depression Scale (GDS)"
   ]
  },
  {
   "cell_type": "markdown",
   "id": "2db9493e",
   "metadata": {},
   "source": [
    "The original study used the GDS long form to calculate the GDS scores. However, GDS short form is only available in  PPMI. Therefore, the GDS scores will be out of 15 instead of 30. With this, we obtain the following distribution of GDS scores:"
   ]
  },
  {
   "cell_type": "code",
   "execution_count": 19,
   "id": "8ae6e1c6",
   "metadata": {},
   "outputs": [
    {
     "data": {
      "image/png": "[encoded data removed]",
      "text/plain": [
       "<Figure size 1600x800 with 1 Axes>"
      ]
     },
     "metadata": {},
     "output_type": "display_data"
    }
   ],
   "source": [
    "gdsshort_df = pd.read_csv(os.path.join(inputs_dir,\"Geriatric_Depression_Scale__Short_Version_.csv\"))\n",
    "gdsshort_df = gdsshort_df.drop([\"REC_ID\",\"PAG_NAME\", \"INFODT\",\"ORIG_ENTRY\",\"LAST_UPDATE\"], axis=1)\n",
    "\n",
    "# Calculate GDS score for each patients\n",
    "gds = gdsshort_df.iloc[:, 2:]\n",
    "gds = gds.agg(['sum'], axis=\"columns\").rename(columns={\"sum\": \"GDSTOT\"})\n",
    "\n",
    "# Add gds score for each patients to DF\n",
    "gdsshort_df = pd.concat([gdsshort_df[['PATNO', 'EVENT_ID']], gds], axis=1)\n",
    "\n",
    "gds = gdsshort_df.groupby([\"GDSTOT\"]).size()\n",
    "\n",
    "plt.bar(gds.index.astype(int).astype(str), gds.values, color=color)\n",
    "plt.ylabel(\"Number of visits\")\n",
    "plt.xlabel(\"Scores\")\n",
    "plt.title(\"Distribution of Geriatric Depression Scale scores\");"
   ]
  },
  {
   "cell_type": "markdown",
   "id": "fdfbb4b5",
   "metadata": {},
   "source": [
    "The most common GDS score among the subjects is 5 indicating mild depression."
   ]
  },
  {
   "cell_type": "markdown",
   "id": "0cc37b67",
   "metadata": {},
   "source": [
    "### MRI Availabilty"
   ]
  },
  {
   "cell_type": "markdown",
   "id": "9e84df2c",
   "metadata": {},
   "source": [
    "So far we have gathered both demographics and clinical characteristics from the PPMI dataset, we need to make sure that there are enough MRI available to replicate the study. To check this, we will get the distribution of events based on MRI availability."
   ]
  },
  {
   "cell_type": "code",
   "execution_count": 20,
   "id": "3f86fc60",
   "metadata": {},
   "outputs": [
    {
     "data": {
      "image/png": "[encoded data removed]",
      "text/plain": [
       "<Figure size 1600x800 with 1 Axes>"
      ]
     },
     "metadata": {},
     "output_type": "display_data"
    }
   ],
   "source": [
    "mri = pd.read_csv(os.path.join(inputs_dir,\"MRI_info.csv\"))\n",
    "mri[\"EVENT_ID\"] = mri[\"Visit code\"]\n",
    "mri[\"PATNO\"] = mri[\"Subject ID\"]\n",
    "mri[\"Sex\"] = mri[\"Sex\"].map({\"F\": 0, \"M\": 1})\n",
    "mri = mri.drop(\n",
    "    [\"Subject ID\", \"Visit code\", \"Visit\", \"Age\", \"Sex\"], axis=1\n",
    ")\n",
    "mri_events = mri.groupby(\"EVENT_ID\").size().sort_values(ascending=False)\n",
    "\n",
    "plt.bar(mri_events.index, mri_events.values, color=color)\n",
    "plt.ylabel(\"Number of MRI available\")\n",
    "plt.xlabel(\"Type of visits\")\n",
    "plt.title(\"Number of MRI available by visit\");"
   ]
  },
  {
   "cell_type": "markdown",
   "id": "8e657264",
   "metadata": {},
   "source": [
    "As we can see in the graph above, BL (baseline), V10, V06 and V04 are the most frequent. Hence, we will only consider MRI with those visits."
   ]
  },
  {
   "cell_type": "markdown",
   "id": "5d13ecd6",
   "metadata": {},
   "source": [
    "## Data aggregation"
   ]
  },
  {
   "cell_type": "markdown",
   "id": "d11c5a49",
   "metadata": {},
   "source": [
    "Now that we have prepared all of our data, we will combine them into two respective dataframes, one for PD subjects and one for healthy controls.\n",
    "\n",
    "Below is a summary of the number of subjects collected:"
   ]
  },
  {
   "cell_type": "code",
   "execution_count": 21,
   "id": "5a9dc7a0",
   "metadata": {},
   "outputs": [],
   "source": [
    "keys = [\"PATNO\", \"EVENT_ID\"]\n",
    "pd_df = (\n",
    "    cohort_def[cohort_def[\"COHORT\"] == 1].merge(mri)\n",
    "    .merge(cogstate_df, on=keys)\n",
    "    .merge(age_df, on=keys)\n",
    "    .merge(demo_df, on=[\"PATNO\"])\n",
    "    .merge(socioecon_df, on=[\"PATNO\"])\n",
    "    .merge(updrs3_df, on=keys)\n",
    "    .merge(moca_df, on=keys)\n",
    "    .merge(pdxdur_df, on=keys)\n",
    "    .merge(ledd_df, on=[\"PATNO\"])\n",
    "    .merge(gdsshort_df, on=keys)\n",
    "    .drop_duplicates()\n",
    "    .groupby(\"PATNO\")\n",
    "    .filter(lambda g: g[\"EVENT_ID\"].nunique() > 1)\n",
    ")\n",
    "\n",
    "hc_df = (\n",
    "    cohort_def[cohort_def[\"COHORT\"] == 2].merge(mri)\n",
    "    .merge(age_df, on=keys)\n",
    "    .merge(demo_df, on=[\"PATNO\"])\n",
    "    .merge(socioecon_df, on=[\"PATNO\"])\n",
    "    .merge(moca_df, on=keys)\n",
    "    .merge(gdsshort_df, on=keys)\n",
    "    .drop_duplicates()\n",
    ")\n",
    "\n",
    "nc_patno = pd_df[pd_df[\"COGSTATE\"] == 1][\"PATNO\"]\n",
    "mci_patno = pd_df[pd_df[\"COGSTATE\"] == 2][\"PATNO\"]"
   ]
  },
  {
   "cell_type": "code",
   "execution_count": 22,
   "id": "61194ccf",
   "metadata": {},
   "outputs": [
    {
     "name": "stdout",
     "output_type": "stream",
     "text": [
      "Unique number of HC patients: 203\n",
      "Unique number of NC patients: 147\n",
      "Unique number of MCI patients: 47\n"
     ]
    }
   ],
   "source": [
    "print(f\"Unique number of HC patients: {hc_df['PATNO'].nunique()}\")\n",
    "print(f\"Unique number of NC patients: {nc_patno.nunique()}\")\n",
    "print(f\"Unique number of MCI patients: {mci_patno.nunique()}\")"
   ]
  },
  {
   "cell_type": "markdown",
   "id": "ba2daf32",
   "metadata": {},
   "source": [
    "### Acceptable visit pairs"
   ]
  },
  {
   "cell_type": "markdown",
   "id": "cbd7c55c",
   "metadata": {},
   "source": [
    "To be able to replicate our cohort, we need subjects with follow-up scans. The original study followed up each subjects for 18 months. Below we will find the number of unique PD-MCI, PD-NC and HC subjects per visit pairs."
   ]
  },
  {
   "cell_type": "code",
   "execution_count": 23,
   "id": "62792eaf",
   "metadata": {},
   "outputs": [
    {
     "name": "stdout",
     "output_type": "stream",
     "text": [
      "Unique PD-MCI subjects per visit pairs:\n",
      "BL  & V04 =   2 | Month difference:                 12\n",
      "BL  & V06 =   3 | Month difference:                 24\n",
      "BL  & V10 =   3 | Month difference:                 48\n",
      "V04 & V06 =  12 | Month difference:                 12\n",
      "V04 & V10 =   9 | Month difference:                 36\n",
      "V06 & V10 =  16 | Month difference:                 24\n",
      "\n",
      "Unique PD-NC subjects per visit pairs:\n",
      "BL  & V04 =  31 | Month difference:                 12\n",
      "BL  & V06 =  43 | Month difference:                 24\n",
      "BL  & V10 =  39 | Month difference:                 48\n",
      "V04 & V06 =  72 | Month difference:                 12\n",
      "V04 & V10 =  63 | Month difference:                 36\n",
      "V06 & V10 =  84 | Month difference:                 24\n",
      "\n",
      "Unique HC subjects per visit pairs:\n",
      "BL  & V04 =  63 | Month difference:                 12\n",
      "BL  & V06 =   9 | Month difference:                 24\n",
      "BL  & V08 =   2 | Month difference:                 36\n",
      "BL  & V10 =  12 | Month difference:                 48\n",
      "V04 & V06 =   8 | Month difference:                 12\n",
      "V04 & V08 =   1 | Month difference:                 24\n",
      "V04 & V10 =  11 | Month difference:                 36\n",
      "V06 & V08 =   2 | Month difference:                 12\n",
      "V06 & V10 =   2 | Month difference:                 24\n"
     ]
    }
   ],
   "source": [
    "maketal.find_acceptable_visit_pairs(pd_df,hc_df)"
   ]
  },
  {
   "cell_type": "markdown",
   "id": "c06d7880",
   "metadata": {},
   "source": [
    "Since the number of MCI subjects is quite low, we will focus on the pairs of visit that has the most number of MCI subjects, i.e, we will use a time interval of 12 and 24 months to replicate our cohort."
   ]
  },
  {
   "cell_type": "markdown",
   "id": "d9347b90",
   "metadata": {},
   "source": [
    "Now that the number of the months between baseline and follow-up is determined, we can now proceed to cohort matching."
   ]
  },
  {
   "cell_type": "markdown",
   "id": "21c773cf",
   "metadata": {},
   "source": [
    "## Cohort Summary"
   ]
  },
  {
   "cell_type": "code",
   "execution_count": 24,
   "id": "dba8bab4",
   "metadata": {},
   "outputs": [],
   "source": [
    "def cohort_summary(*, hc, nc, mci, title):\n",
    "    def gen_row(D, *, agg, col, f=\"4.1f\", sep=\" ± \"):\n",
    "        if not isinstance(agg, str) and isinstance(agg, Iterable):\n",
    "            return [f\"{sep}\".join([f\"{d.loc[a][col]:{f}}\" for a in agg]) for d in D]\n",
    "        else:\n",
    "            return [f\"{d.loc[agg][col]:{f}}\" for d in D]\n",
    "\n",
    "    def gender_ratio(df):\n",
    "        male_count = df[df[\"SEX\"] == 1][\"PATNO\"].nunique()\n",
    "        return f\"{male_count:.0f}, {male_count / df['PATNO'].nunique() * 100:.1f}%\"\n",
    "\n",
    "    D = [hc.describe(), nc.describe(), mci.describe()]\n",
    "\n",
    "    table = Table(title=title, box=rich.box.HORIZONTALS, show_footer=True, expand=True,\n",
    "                  style=\"#cfd5e4\", row_styles=[\"on #f2f5f9\", \"\"])\n",
    "\n",
    "    table.add_column( footer=\"Values expressed as mean ± SD.\")\n",
    "    table.add_column(\"Healthy Controls\")\n",
    "    table.add_column(\"PD-NC\")\n",
    "    table.add_column(\"PD-MCI\")\n",
    "#     table.add_column(\"[italic]P[not italic]-value\")  # TODO\n",
    "    \n",
    "    table.add_row(\"n\", *gen_row(D, agg=\"count\", col=\"PATNO\", f=\".0f\"))\n",
    "    table.add_row(\"Age (y)\", *gen_row(D, agg=[\"mean\", \"std\"], col=\"AGE_AT_VISIT\"))\n",
    "    table.add_row(\n",
    "        \"Age range\", *gen_row(D, agg=[\"min\", \"max\"], col=\"AGE_AT_VISIT\", sep=\" - \")\n",
    "    )\n",
    "    table.add_row(\n",
    "        \"Gender (male, %)\", gender_ratio(hc), gender_ratio(nc), gender_ratio(mci)\n",
    "    )\n",
    "    table.add_row(\"Education (y)\", *gen_row(D, agg=[\"mean\", \"std\"], col=\"EDUCYRS\"))\n",
    "    table.add_row(\n",
    "        \"Disease duration (mo)\", \"\", *gen_row(D[1:], agg=[\"mean\", \"std\"], col=\"PDXDUR\")\n",
    "    )\n",
    "    table.add_row(\"LEDD (mg/d) baseline\", \"\", *gen_row(D[1:], agg=[\"mean\", \"std\"], col=\"LEDD\"))\n",
    "    table.add_row(\"LEDD (mg/d) follow-up\", \"\", *gen_row(D[1:], agg=[\"mean\", \"std\"], col=\"LEDD_NX\"))\n",
    "    table.add_row(\"H&Y baseline\", \"\", *gen_row(D[1:], agg=[\"mean\", \"std\"], col=\"NHY\"))\n",
    "    table.add_row(\"H&Y follow-up\", \"\", *gen_row(D[1:], agg=[\"mean\", \"std\"], col=\"NHY_NX\"))\n",
    "    table.add_row(\"UPDRS III baseline\", \"\", *gen_row(D[1:], agg=[\"mean\", \"std\"], col=\"NP3TOT\"))\n",
    "    table.add_row(\n",
    "        \"UPDRS III follow-up\", \"\", *gen_row(D[1:], agg=[\"mean\", \"std\"], col=\"NP3TOT_NX\")\n",
    "    )\n",
    "    table.add_row(\"MMSE baseline\", *gen_row(D, agg=[\"mean\", \"std\"], col=\"MMSETOT\"))\n",
    "    table.add_row(\"MMSE follow-up\", *gen_row(D, agg=[\"mean\", \"std\"], col=\"MMSETOT_NX\"))\n",
    "    table.add_row(\"MoCA baseline\", *gen_row(D, agg=[\"mean\", \"std\"], col=\"MCATOT\"))\n",
    "    table.add_row(\"MoCA follow-up\", *gen_row(D, agg=[\"mean\", \"std\"], col=\"MCATOT_NX\"))\n",
    "    table.add_row(\"GDS baseline\", *gen_row(D, agg=[\"mean\", \"std\"], col=\"GDSTOT\"))\n",
    "    table.add_row(\"GDS follow-up\", *gen_row(D, agg=[\"mean\", \"std\"], col=\"GDSTOT_NX\"))\n",
    "\n",
    "    console = Console()\n",
    "    console.print(table)"
   ]
  },
  {
   "cell_type": "markdown",
   "id": "dd81861a",
   "metadata": {},
   "source": [
    "### Cohort with follow-up after 12 months"
   ]
  },
  {
   "cell_type": "code",
   "execution_count": 25,
   "id": "cf7ea30d",
   "metadata": {},
   "outputs": [
    {
     "name": "stdout",
     "output_type": "stream",
     "text": [
      "Unique number of:\n",
      "  - HC subjects:     37 (/37)\n",
      "  - PD-NC subjects:  64 (/66)\n",
      "  - PD-MCI subjects: 13 (/39)\n",
      "\n"
     ]
    }
   ],
   "source": [
    "mci, nc, hc = maketal.create_cohort(pd_df=pd_df, hc_df=hc_df, months=12)\n",
    "\n",
    "print(\n",
    "    f\"\"\"Unique number of:\n",
    "  - HC subjects:     {hc['PATNO'].unique().size} (/37)\n",
    "  - PD-NC subjects:  {nc['PATNO'].unique().size} (/66)\n",
    "  - PD-MCI subjects: {mci['PATNO'].unique().size} (/39)\n",
    "\"\"\"\n",
    ")"
   ]
  },
  {
   "cell_type": "markdown",
   "id": "4cbb64c8",
   "metadata": {},
   "source": [
    "With a follow-up of 12 months, more than 60% of PD-MCI subjects are missing. "
   ]
  },
  {
   "cell_type": "code",
   "execution_count": 26,
   "id": "7997c184",
   "metadata": {},
   "outputs": [
    {
     "data": {
      "text/html": [
       "<pre style=\"white-space:pre;overflow-x:auto;line-height:normal;font-family:Menlo,'DejaVu Sans Mono',consolas,'Courier New',monospace\"><span style=\"font-style: italic\">                                     Demographic and clinical characteristics                                      </span>\n",
       "<span style=\"font-style: italic\">                                               (12 months follow-up)                                               </span>\n",
       "<span style=\"color: #cfd5e4; text-decoration-color: #cfd5e4\"> ───────────────────────────────────────────────────────────────────────────────────────────────────────────────── </span>\n",
       "<span style=\"color: #cfd5e4; text-decoration-color: #cfd5e4\"> </span><span style=\"font-weight: bold\">                                            </span><span style=\"color: #cfd5e4; text-decoration-color: #cfd5e4\"> </span><span style=\"font-weight: bold\"> Healthy Controls        </span><span style=\"color: #cfd5e4; text-decoration-color: #cfd5e4\"> </span><span style=\"font-weight: bold\"> PD-NC               </span><span style=\"color: #cfd5e4; text-decoration-color: #cfd5e4\"> </span><span style=\"font-weight: bold\"> PD-MCI             </span><span style=\"color: #cfd5e4; text-decoration-color: #cfd5e4\"> </span>\n",
       "<span style=\"color: #cfd5e4; text-decoration-color: #cfd5e4\"> ───────────────────────────────────────────────────────────────────────────────────────────────────────────────── </span>\n",
       "<span style=\"color: #cfd5e4; text-decoration-color: #cfd5e4\"> </span><span style=\"background-color: #f2f5f9\"> n                                          </span><span style=\"color: #cfd5e4; text-decoration-color: #cfd5e4; background-color: #f2f5f9\"> </span><span style=\"background-color: #f2f5f9\"> 37                      </span><span style=\"color: #cfd5e4; text-decoration-color: #cfd5e4; background-color: #f2f5f9\"> </span><span style=\"background-color: #f2f5f9\"> 64                  </span><span style=\"color: #cfd5e4; text-decoration-color: #cfd5e4; background-color: #f2f5f9\"> </span><span style=\"background-color: #f2f5f9\"> 13                 </span><span style=\"color: #cfd5e4; text-decoration-color: #cfd5e4\"> </span>\n",
       "<span style=\"color: #cfd5e4; text-decoration-color: #cfd5e4\"> </span> Age (y)                                    <span style=\"color: #cfd5e4; text-decoration-color: #cfd5e4\"> </span> 60.5 ± 11.2             <span style=\"color: #cfd5e4; text-decoration-color: #cfd5e4\"> </span> 60.8 ±  9.1         <span style=\"color: #cfd5e4; text-decoration-color: #cfd5e4\"> </span> 65.3 ±  8.5        <span style=\"color: #cfd5e4; text-decoration-color: #cfd5e4\"> </span>\n",
       "<span style=\"color: #cfd5e4; text-decoration-color: #cfd5e4\"> </span><span style=\"background-color: #f2f5f9\"> Age range                                  </span><span style=\"color: #cfd5e4; text-decoration-color: #cfd5e4; background-color: #f2f5f9\"> </span><span style=\"background-color: #f2f5f9\"> 32.3 - 79.8             </span><span style=\"color: #cfd5e4; text-decoration-color: #cfd5e4; background-color: #f2f5f9\"> </span><span style=\"background-color: #f2f5f9\"> 38.3 - 78.3         </span><span style=\"color: #cfd5e4; text-decoration-color: #cfd5e4; background-color: #f2f5f9\"> </span><span style=\"background-color: #f2f5f9\"> 50.4 - 72.7        </span><span style=\"color: #cfd5e4; text-decoration-color: #cfd5e4\"> </span>\n",
       "<span style=\"color: #cfd5e4; text-decoration-color: #cfd5e4\"> </span> Gender (male, %)                           <span style=\"color: #cfd5e4; text-decoration-color: #cfd5e4\"> </span> 24, 64.9%               <span style=\"color: #cfd5e4; text-decoration-color: #cfd5e4\"> </span> 39, 60.9%           <span style=\"color: #cfd5e4; text-decoration-color: #cfd5e4\"> </span> 9, 69.2%           <span style=\"color: #cfd5e4; text-decoration-color: #cfd5e4\"> </span>\n",
       "<span style=\"color: #cfd5e4; text-decoration-color: #cfd5e4\"> </span><span style=\"background-color: #f2f5f9\"> Education (y)                              </span><span style=\"color: #cfd5e4; text-decoration-color: #cfd5e4; background-color: #f2f5f9\"> </span><span style=\"background-color: #f2f5f9\"> 15.8 ±  3.1             </span><span style=\"color: #cfd5e4; text-decoration-color: #cfd5e4; background-color: #f2f5f9\"> </span><span style=\"background-color: #f2f5f9\"> 15.3 ±  2.7         </span><span style=\"color: #cfd5e4; text-decoration-color: #cfd5e4; background-color: #f2f5f9\"> </span><span style=\"background-color: #f2f5f9\"> 15.1 ±  2.9        </span><span style=\"color: #cfd5e4; text-decoration-color: #cfd5e4\"> </span>\n",
       "<span style=\"color: #cfd5e4; text-decoration-color: #cfd5e4\"> </span> Disease duration (mo)                      <span style=\"color: #cfd5e4; text-decoration-color: #cfd5e4\"> </span>                         <span style=\"color: #cfd5e4; text-decoration-color: #cfd5e4\"> </span>  4.2 ±  2.9         <span style=\"color: #cfd5e4; text-decoration-color: #cfd5e4\"> </span>  4.8 ±  4.0        <span style=\"color: #cfd5e4; text-decoration-color: #cfd5e4\"> </span>\n",
       "<span style=\"color: #cfd5e4; text-decoration-color: #cfd5e4\"> </span><span style=\"background-color: #f2f5f9\"> LEDD (mg/d) baseline                       </span><span style=\"color: #cfd5e4; text-decoration-color: #cfd5e4; background-color: #f2f5f9\"> </span><span style=\"background-color: #f2f5f9\">                         </span><span style=\"color: #cfd5e4; text-decoration-color: #cfd5e4; background-color: #f2f5f9\"> </span><span style=\"background-color: #f2f5f9\"> 263.8 ± 220.9       </span><span style=\"color: #cfd5e4; text-decoration-color: #cfd5e4; background-color: #f2f5f9\"> </span><span style=\"background-color: #f2f5f9\"> 265.8 ± 145.1      </span><span style=\"color: #cfd5e4; text-decoration-color: #cfd5e4\"> </span>\n",
       "<span style=\"color: #cfd5e4; text-decoration-color: #cfd5e4\"> </span> LEDD (mg/d) follow-up                      <span style=\"color: #cfd5e4; text-decoration-color: #cfd5e4\"> </span>                         <span style=\"color: #cfd5e4; text-decoration-color: #cfd5e4\"> </span> 263.8 ± 220.9       <span style=\"color: #cfd5e4; text-decoration-color: #cfd5e4\"> </span> 265.8 ± 145.1      <span style=\"color: #cfd5e4; text-decoration-color: #cfd5e4\"> </span>\n",
       "<span style=\"color: #cfd5e4; text-decoration-color: #cfd5e4\"> </span><span style=\"background-color: #f2f5f9\"> H&amp;Y baseline                               </span><span style=\"color: #cfd5e4; text-decoration-color: #cfd5e4; background-color: #f2f5f9\"> </span><span style=\"background-color: #f2f5f9\">                         </span><span style=\"color: #cfd5e4; text-decoration-color: #cfd5e4; background-color: #f2f5f9\"> </span><span style=\"background-color: #f2f5f9\">  1.7 ±  0.6         </span><span style=\"color: #cfd5e4; text-decoration-color: #cfd5e4; background-color: #f2f5f9\"> </span><span style=\"background-color: #f2f5f9\">  1.8 ±  0.6        </span><span style=\"color: #cfd5e4; text-decoration-color: #cfd5e4\"> </span>\n",
       "<span style=\"color: #cfd5e4; text-decoration-color: #cfd5e4\"> </span> H&amp;Y follow-up                              <span style=\"color: #cfd5e4; text-decoration-color: #cfd5e4\"> </span>                         <span style=\"color: #cfd5e4; text-decoration-color: #cfd5e4\"> </span>  1.7 ±  0.5         <span style=\"color: #cfd5e4; text-decoration-color: #cfd5e4\"> </span>  1.7 ±  0.5        <span style=\"color: #cfd5e4; text-decoration-color: #cfd5e4\"> </span>\n",
       "<span style=\"color: #cfd5e4; text-decoration-color: #cfd5e4\"> </span><span style=\"background-color: #f2f5f9\"> UPDRS III baseline                         </span><span style=\"color: #cfd5e4; text-decoration-color: #cfd5e4; background-color: #f2f5f9\"> </span><span style=\"background-color: #f2f5f9\">                         </span><span style=\"color: #cfd5e4; text-decoration-color: #cfd5e4; background-color: #f2f5f9\"> </span><span style=\"background-color: #f2f5f9\"> 19.1 ±  8.6         </span><span style=\"color: #cfd5e4; text-decoration-color: #cfd5e4; background-color: #f2f5f9\"> </span><span style=\"background-color: #f2f5f9\"> 21.0 ± 12.2        </span><span style=\"color: #cfd5e4; text-decoration-color: #cfd5e4\"> </span>\n",
       "<span style=\"color: #cfd5e4; text-decoration-color: #cfd5e4\"> </span> UPDRS III follow-up                        <span style=\"color: #cfd5e4; text-decoration-color: #cfd5e4\"> </span>                         <span style=\"color: #cfd5e4; text-decoration-color: #cfd5e4\"> </span> 20.4 ±  9.9         <span style=\"color: #cfd5e4; text-decoration-color: #cfd5e4\"> </span> 25.3 ± 12.8        <span style=\"color: #cfd5e4; text-decoration-color: #cfd5e4\"> </span>\n",
       "<span style=\"color: #cfd5e4; text-decoration-color: #cfd5e4\"> </span><span style=\"background-color: #f2f5f9\"> MMSE baseline                              </span><span style=\"color: #cfd5e4; text-decoration-color: #cfd5e4; background-color: #f2f5f9\"> </span><span style=\"background-color: #f2f5f9\"> 29.6 ±  0.5             </span><span style=\"color: #cfd5e4; text-decoration-color: #cfd5e4; background-color: #f2f5f9\"> </span><span style=\"background-color: #f2f5f9\"> 29.3 ±  1.0         </span><span style=\"color: #cfd5e4; text-decoration-color: #cfd5e4; background-color: #f2f5f9\"> </span><span style=\"background-color: #f2f5f9\"> 28.2 ±  1.1        </span><span style=\"color: #cfd5e4; text-decoration-color: #cfd5e4\"> </span>\n",
       "<span style=\"color: #cfd5e4; text-decoration-color: #cfd5e4\"> </span> MMSE follow-up                             <span style=\"color: #cfd5e4; text-decoration-color: #cfd5e4\"> </span> 29.3 ±  0.9             <span style=\"color: #cfd5e4; text-decoration-color: #cfd5e4\"> </span> 29.3 ±  1.0         <span style=\"color: #cfd5e4; text-decoration-color: #cfd5e4\"> </span> 28.4 ±  1.4        <span style=\"color: #cfd5e4; text-decoration-color: #cfd5e4\"> </span>\n",
       "<span style=\"color: #cfd5e4; text-decoration-color: #cfd5e4\"> </span><span style=\"background-color: #f2f5f9\"> MoCA baseline                              </span><span style=\"color: #cfd5e4; text-decoration-color: #cfd5e4; background-color: #f2f5f9\"> </span><span style=\"background-color: #f2f5f9\"> 28.2 ±  1.2             </span><span style=\"color: #cfd5e4; text-decoration-color: #cfd5e4; background-color: #f2f5f9\"> </span><span style=\"background-color: #f2f5f9\"> 27.4 ±  2.2         </span><span style=\"color: #cfd5e4; text-decoration-color: #cfd5e4; background-color: #f2f5f9\"> </span><span style=\"background-color: #f2f5f9\"> 25.1 ±  2.3        </span><span style=\"color: #cfd5e4; text-decoration-color: #cfd5e4\"> </span>\n",
       "<span style=\"color: #cfd5e4; text-decoration-color: #cfd5e4\"> </span> MoCA follow-up                             <span style=\"color: #cfd5e4; text-decoration-color: #cfd5e4\"> </span> 27.5 ±  2.2             <span style=\"color: #cfd5e4; text-decoration-color: #cfd5e4\"> </span> 27.4 ±  2.2         <span style=\"color: #cfd5e4; text-decoration-color: #cfd5e4\"> </span> 25.6 ±  2.8        <span style=\"color: #cfd5e4; text-decoration-color: #cfd5e4\"> </span>\n",
       "<span style=\"color: #cfd5e4; text-decoration-color: #cfd5e4\"> </span><span style=\"background-color: #f2f5f9\"> GDS baseline                               </span><span style=\"color: #cfd5e4; text-decoration-color: #cfd5e4; background-color: #f2f5f9\"> </span><span style=\"background-color: #f2f5f9\">  5.3 ±  1.5             </span><span style=\"color: #cfd5e4; text-decoration-color: #cfd5e4; background-color: #f2f5f9\"> </span><span style=\"background-color: #f2f5f9\">  5.4 ±  1.4         </span><span style=\"color: #cfd5e4; text-decoration-color: #cfd5e4; background-color: #f2f5f9\"> </span><span style=\"background-color: #f2f5f9\">  5.5 ±  1.2        </span><span style=\"color: #cfd5e4; text-decoration-color: #cfd5e4\"> </span>\n",
       "<span style=\"color: #cfd5e4; text-decoration-color: #cfd5e4\"> </span> GDS follow-up                              <span style=\"color: #cfd5e4; text-decoration-color: #cfd5e4\"> </span>  4.8 ±  1.1             <span style=\"color: #cfd5e4; text-decoration-color: #cfd5e4\"> </span>  5.4 ±  1.7         <span style=\"color: #cfd5e4; text-decoration-color: #cfd5e4\"> </span>  5.6 ±  1.7        <span style=\"color: #cfd5e4; text-decoration-color: #cfd5e4\"> </span>\n",
       "<span style=\"color: #cfd5e4; text-decoration-color: #cfd5e4\"> ───────────────────────────────────────────────────────────────────────────────────────────────────────────────── </span>\n",
       "<span style=\"color: #cfd5e4; text-decoration-color: #cfd5e4\"> </span><span style=\"font-weight: bold\"> Values expressed as mean ± SD.             </span><span style=\"color: #cfd5e4; text-decoration-color: #cfd5e4\"> </span><span style=\"font-weight: bold\">                         </span><span style=\"color: #cfd5e4; text-decoration-color: #cfd5e4\"> </span><span style=\"font-weight: bold\">                     </span><span style=\"color: #cfd5e4; text-decoration-color: #cfd5e4\"> </span><span style=\"font-weight: bold\">                    </span><span style=\"color: #cfd5e4; text-decoration-color: #cfd5e4\"> </span>\n",
       "<span style=\"color: #cfd5e4; text-decoration-color: #cfd5e4\"> ───────────────────────────────────────────────────────────────────────────────────────────────────────────────── </span>\n",
       "</pre>\n"
      ],
      "text/plain": [
       "\u001b[3m                                     Demographic and clinical characteristics                                      \u001b[0m\n",
       "\u001b[3m                                               (12 months follow-up)                                               \u001b[0m\n",
       "\u001b[38;2;207;213;228m ───────────────────────────────────────────────────────────────────────────────────────────────────────────────── \u001b[0m\n",
       "\u001b[38;2;207;213;228m \u001b[0m\u001b[1m \u001b[0m\u001b[1m                                          \u001b[0m\u001b[1m \u001b[0m\u001b[38;2;207;213;228m \u001b[0m\u001b[1m \u001b[0m\u001b[1mHealthy Controls       \u001b[0m\u001b[1m \u001b[0m\u001b[38;2;207;213;228m \u001b[0m\u001b[1m \u001b[0m\u001b[1mPD-NC              \u001b[0m\u001b[1m \u001b[0m\u001b[38;2;207;213;228m \u001b[0m\u001b[1m \u001b[0m\u001b[1mPD-MCI            \u001b[0m\u001b[1m \u001b[0m\u001b[38;2;207;213;228m \u001b[0m\n",
       "\u001b[38;2;207;213;228m ───────────────────────────────────────────────────────────────────────────────────────────────────────────────── \u001b[0m\n",
       "\u001b[38;2;207;213;228m \u001b[0m\u001b[48;2;242;245;249m \u001b[0m\u001b[48;2;242;245;249mn                                         \u001b[0m\u001b[48;2;242;245;249m \u001b[0m\u001b[38;2;207;213;228;48;2;242;245;249m \u001b[0m\u001b[48;2;242;245;249m \u001b[0m\u001b[48;2;242;245;249m37                     \u001b[0m\u001b[48;2;242;245;249m \u001b[0m\u001b[38;2;207;213;228;48;2;242;245;249m \u001b[0m\u001b[48;2;242;245;249m \u001b[0m\u001b[48;2;242;245;249m64                 \u001b[0m\u001b[48;2;242;245;249m \u001b[0m\u001b[38;2;207;213;228;48;2;242;245;249m \u001b[0m\u001b[48;2;242;245;249m \u001b[0m\u001b[48;2;242;245;249m13                \u001b[0m\u001b[48;2;242;245;249m \u001b[0m\u001b[38;2;207;213;228m \u001b[0m\n",
       "\u001b[38;2;207;213;228m \u001b[0m Age (y)                                    \u001b[38;2;207;213;228m \u001b[0m 60.5 ± 11.2             \u001b[38;2;207;213;228m \u001b[0m 60.8 ±  9.1         \u001b[38;2;207;213;228m \u001b[0m 65.3 ±  8.5        \u001b[38;2;207;213;228m \u001b[0m\n",
       "\u001b[38;2;207;213;228m \u001b[0m\u001b[48;2;242;245;249m \u001b[0m\u001b[48;2;242;245;249mAge range                                 \u001b[0m\u001b[48;2;242;245;249m \u001b[0m\u001b[38;2;207;213;228;48;2;242;245;249m \u001b[0m\u001b[48;2;242;245;249m \u001b[0m\u001b[48;2;242;245;249m32.3 - 79.8            \u001b[0m\u001b[48;2;242;245;249m \u001b[0m\u001b[38;2;207;213;228;48;2;242;245;249m \u001b[0m\u001b[48;2;242;245;249m \u001b[0m\u001b[48;2;242;245;249m38.3 - 78.3        \u001b[0m\u001b[48;2;242;245;249m \u001b[0m\u001b[38;2;207;213;228;48;2;242;245;249m \u001b[0m\u001b[48;2;242;245;249m \u001b[0m\u001b[48;2;242;245;249m50.4 - 72.7       \u001b[0m\u001b[48;2;242;245;249m \u001b[0m\u001b[38;2;207;213;228m \u001b[0m\n",
       "\u001b[38;2;207;213;228m \u001b[0m Gender (male, %)                           \u001b[38;2;207;213;228m \u001b[0m 24, 64.9%               \u001b[38;2;207;213;228m \u001b[0m 39, 60.9%           \u001b[38;2;207;213;228m \u001b[0m 9, 69.2%           \u001b[38;2;207;213;228m \u001b[0m\n",
       "\u001b[38;2;207;213;228m \u001b[0m\u001b[48;2;242;245;249m \u001b[0m\u001b[48;2;242;245;249mEducation (y)                             \u001b[0m\u001b[48;2;242;245;249m \u001b[0m\u001b[38;2;207;213;228;48;2;242;245;249m \u001b[0m\u001b[48;2;242;245;249m \u001b[0m\u001b[48;2;242;245;249m15.8 ±  3.1            \u001b[0m\u001b[48;2;242;245;249m \u001b[0m\u001b[38;2;207;213;228;48;2;242;245;249m \u001b[0m\u001b[48;2;242;245;249m \u001b[0m\u001b[48;2;242;245;249m15.3 ±  2.7        \u001b[0m\u001b[48;2;242;245;249m \u001b[0m\u001b[38;2;207;213;228;48;2;242;245;249m \u001b[0m\u001b[48;2;242;245;249m \u001b[0m\u001b[48;2;242;245;249m15.1 ±  2.9       \u001b[0m\u001b[48;2;242;245;249m \u001b[0m\u001b[38;2;207;213;228m \u001b[0m\n",
       "\u001b[38;2;207;213;228m \u001b[0m Disease duration (mo)                      \u001b[38;2;207;213;228m \u001b[0m                         \u001b[38;2;207;213;228m \u001b[0m  4.2 ±  2.9         \u001b[38;2;207;213;228m \u001b[0m  4.8 ±  4.0        \u001b[38;2;207;213;228m \u001b[0m\n",
       "\u001b[38;2;207;213;228m \u001b[0m\u001b[48;2;242;245;249m \u001b[0m\u001b[48;2;242;245;249mLEDD (mg/d) baseline                      \u001b[0m\u001b[48;2;242;245;249m \u001b[0m\u001b[38;2;207;213;228;48;2;242;245;249m \u001b[0m\u001b[48;2;242;245;249m \u001b[0m\u001b[48;2;242;245;249m                       \u001b[0m\u001b[48;2;242;245;249m \u001b[0m\u001b[38;2;207;213;228;48;2;242;245;249m \u001b[0m\u001b[48;2;242;245;249m \u001b[0m\u001b[48;2;242;245;249m263.8 ± 220.9      \u001b[0m\u001b[48;2;242;245;249m \u001b[0m\u001b[38;2;207;213;228;48;2;242;245;249m \u001b[0m\u001b[48;2;242;245;249m \u001b[0m\u001b[48;2;242;245;249m265.8 ± 145.1     \u001b[0m\u001b[48;2;242;245;249m \u001b[0m\u001b[38;2;207;213;228m \u001b[0m\n",
       "\u001b[38;2;207;213;228m \u001b[0m LEDD (mg/d) follow-up                      \u001b[38;2;207;213;228m \u001b[0m                         \u001b[38;2;207;213;228m \u001b[0m 263.8 ± 220.9       \u001b[38;2;207;213;228m \u001b[0m 265.8 ± 145.1      \u001b[38;2;207;213;228m \u001b[0m\n",
       "\u001b[38;2;207;213;228m \u001b[0m\u001b[48;2;242;245;249m \u001b[0m\u001b[48;2;242;245;249mH&Y baseline                              \u001b[0m\u001b[48;2;242;245;249m \u001b[0m\u001b[38;2;207;213;228;48;2;242;245;249m \u001b[0m\u001b[48;2;242;245;249m \u001b[0m\u001b[48;2;242;245;249m                       \u001b[0m\u001b[48;2;242;245;249m \u001b[0m\u001b[38;2;207;213;228;48;2;242;245;249m \u001b[0m\u001b[48;2;242;245;249m \u001b[0m\u001b[48;2;242;245;249m 1.7 ±  0.6        \u001b[0m\u001b[48;2;242;245;249m \u001b[0m\u001b[38;2;207;213;228;48;2;242;245;249m \u001b[0m\u001b[48;2;242;245;249m \u001b[0m\u001b[48;2;242;245;249m 1.8 ±  0.6       \u001b[0m\u001b[48;2;242;245;249m \u001b[0m\u001b[38;2;207;213;228m \u001b[0m\n",
       "\u001b[38;2;207;213;228m \u001b[0m H&Y follow-up                              \u001b[38;2;207;213;228m \u001b[0m                         \u001b[38;2;207;213;228m \u001b[0m  1.7 ±  0.5         \u001b[38;2;207;213;228m \u001b[0m  1.7 ±  0.5        \u001b[38;2;207;213;228m \u001b[0m\n",
       "\u001b[38;2;207;213;228m \u001b[0m\u001b[48;2;242;245;249m \u001b[0m\u001b[48;2;242;245;249mUPDRS III baseline                        \u001b[0m\u001b[48;2;242;245;249m \u001b[0m\u001b[38;2;207;213;228;48;2;242;245;249m \u001b[0m\u001b[48;2;242;245;249m \u001b[0m\u001b[48;2;242;245;249m                       \u001b[0m\u001b[48;2;242;245;249m \u001b[0m\u001b[38;2;207;213;228;48;2;242;245;249m \u001b[0m\u001b[48;2;242;245;249m \u001b[0m\u001b[48;2;242;245;249m19.1 ±  8.6        \u001b[0m\u001b[48;2;242;245;249m \u001b[0m\u001b[38;2;207;213;228;48;2;242;245;249m \u001b[0m\u001b[48;2;242;245;249m \u001b[0m\u001b[48;2;242;245;249m21.0 ± 12.2       \u001b[0m\u001b[48;2;242;245;249m \u001b[0m\u001b[38;2;207;213;228m \u001b[0m\n",
       "\u001b[38;2;207;213;228m \u001b[0m UPDRS III follow-up                        \u001b[38;2;207;213;228m \u001b[0m                         \u001b[38;2;207;213;228m \u001b[0m 20.4 ±  9.9         \u001b[38;2;207;213;228m \u001b[0m 25.3 ± 12.8        \u001b[38;2;207;213;228m \u001b[0m\n",
       "\u001b[38;2;207;213;228m \u001b[0m\u001b[48;2;242;245;249m \u001b[0m\u001b[48;2;242;245;249mMMSE baseline                             \u001b[0m\u001b[48;2;242;245;249m \u001b[0m\u001b[38;2;207;213;228;48;2;242;245;249m \u001b[0m\u001b[48;2;242;245;249m \u001b[0m\u001b[48;2;242;245;249m29.6 ±  0.5            \u001b[0m\u001b[48;2;242;245;249m \u001b[0m\u001b[38;2;207;213;228;48;2;242;245;249m \u001b[0m\u001b[48;2;242;245;249m \u001b[0m\u001b[48;2;242;245;249m29.3 ±  1.0        \u001b[0m\u001b[48;2;242;245;249m \u001b[0m\u001b[38;2;207;213;228;48;2;242;245;249m \u001b[0m\u001b[48;2;242;245;249m \u001b[0m\u001b[48;2;242;245;249m28.2 ±  1.1       \u001b[0m\u001b[48;2;242;245;249m \u001b[0m\u001b[38;2;207;213;228m \u001b[0m\n",
       "\u001b[38;2;207;213;228m \u001b[0m MMSE follow-up                             \u001b[38;2;207;213;228m \u001b[0m 29.3 ±  0.9             \u001b[38;2;207;213;228m \u001b[0m 29.3 ±  1.0         \u001b[38;2;207;213;228m \u001b[0m 28.4 ±  1.4        \u001b[38;2;207;213;228m \u001b[0m\n",
       "\u001b[38;2;207;213;228m \u001b[0m\u001b[48;2;242;245;249m \u001b[0m\u001b[48;2;242;245;249mMoCA baseline                             \u001b[0m\u001b[48;2;242;245;249m \u001b[0m\u001b[38;2;207;213;228;48;2;242;245;249m \u001b[0m\u001b[48;2;242;245;249m \u001b[0m\u001b[48;2;242;245;249m28.2 ±  1.2            \u001b[0m\u001b[48;2;242;245;249m \u001b[0m\u001b[38;2;207;213;228;48;2;242;245;249m \u001b[0m\u001b[48;2;242;245;249m \u001b[0m\u001b[48;2;242;245;249m27.4 ±  2.2        \u001b[0m\u001b[48;2;242;245;249m \u001b[0m\u001b[38;2;207;213;228;48;2;242;245;249m \u001b[0m\u001b[48;2;242;245;249m \u001b[0m\u001b[48;2;242;245;249m25.1 ±  2.3       \u001b[0m\u001b[48;2;242;245;249m \u001b[0m\u001b[38;2;207;213;228m \u001b[0m\n",
       "\u001b[38;2;207;213;228m \u001b[0m MoCA follow-up                             \u001b[38;2;207;213;228m \u001b[0m 27.5 ±  2.2             \u001b[38;2;207;213;228m \u001b[0m 27.4 ±  2.2         \u001b[38;2;207;213;228m \u001b[0m 25.6 ±  2.8        \u001b[38;2;207;213;228m \u001b[0m\n",
       "\u001b[38;2;207;213;228m \u001b[0m\u001b[48;2;242;245;249m \u001b[0m\u001b[48;2;242;245;249mGDS baseline                              \u001b[0m\u001b[48;2;242;245;249m \u001b[0m\u001b[38;2;207;213;228;48;2;242;245;249m \u001b[0m\u001b[48;2;242;245;249m \u001b[0m\u001b[48;2;242;245;249m 5.3 ±  1.5            \u001b[0m\u001b[48;2;242;245;249m \u001b[0m\u001b[38;2;207;213;228;48;2;242;245;249m \u001b[0m\u001b[48;2;242;245;249m \u001b[0m\u001b[48;2;242;245;249m 5.4 ±  1.4        \u001b[0m\u001b[48;2;242;245;249m \u001b[0m\u001b[38;2;207;213;228;48;2;242;245;249m \u001b[0m\u001b[48;2;242;245;249m \u001b[0m\u001b[48;2;242;245;249m 5.5 ±  1.2       \u001b[0m\u001b[48;2;242;245;249m \u001b[0m\u001b[38;2;207;213;228m \u001b[0m\n",
       "\u001b[38;2;207;213;228m \u001b[0m GDS follow-up                              \u001b[38;2;207;213;228m \u001b[0m  4.8 ±  1.1             \u001b[38;2;207;213;228m \u001b[0m  5.4 ±  1.7         \u001b[38;2;207;213;228m \u001b[0m  5.6 ±  1.7        \u001b[38;2;207;213;228m \u001b[0m\n",
       "\u001b[38;2;207;213;228m ───────────────────────────────────────────────────────────────────────────────────────────────────────────────── \u001b[0m\n",
       "\u001b[38;2;207;213;228m \u001b[0m\u001b[1m \u001b[0m\u001b[1mValues expressed as mean ± SD.            \u001b[0m\u001b[1m \u001b[0m\u001b[38;2;207;213;228m \u001b[0m\u001b[1m \u001b[0m\u001b[1m                       \u001b[0m\u001b[1m \u001b[0m\u001b[38;2;207;213;228m \u001b[0m\u001b[1m \u001b[0m\u001b[1m                   \u001b[0m\u001b[1m \u001b[0m\u001b[38;2;207;213;228m \u001b[0m\u001b[1m \u001b[0m\u001b[1m                  \u001b[0m\u001b[1m \u001b[0m\u001b[38;2;207;213;228m \u001b[0m\n",
       "\u001b[38;2;207;213;228m ───────────────────────────────────────────────────────────────────────────────────────────────────────────────── \u001b[0m\n"
      ]
     },
     "metadata": {},
     "output_type": "display_data"
    }
   ],
   "source": [
    "cohort_summary(\n",
    "    hc=hc,\n",
    "    nc=nc,\n",
    "    mci=mci,\n",
    "    title=\"Demographic and clinical characteristics\\n(12 months follow-up)\",\n",
    ")"
   ]
  },
  {
   "cell_type": "markdown",
   "id": "bc9e9344",
   "metadata": {},
   "source": [
    "### Cohort with follow-up after 24 months"
   ]
  },
  {
   "cell_type": "code",
   "execution_count": 27,
   "id": "a146d21d",
   "metadata": {},
   "outputs": [
    {
     "name": "stdout",
     "output_type": "stream",
     "text": [
      "Unique number of:\n",
      "  - HC subjects:     9 (/37)\n",
      "  - PD-NC subjects:  64 (/66)\n",
      "  - PD-MCI subjects: 18 (/39)\n",
      "\n"
     ]
    }
   ],
   "source": [
    "mci_, nc_, hc_ = maketal.create_cohort(pd_df=pd_df, hc_df=hc_df, months=24)\n",
    "\n",
    "print(\n",
    "    f\"\"\"Unique number of:\n",
    "  - HC subjects:     {hc_['PATNO'].unique().size} (/37)\n",
    "  - PD-NC subjects:  {nc_['PATNO'].unique().size} (/66)\n",
    "  - PD-MCI subjects: {mci_['PATNO'].unique().size} (/39)\n",
    "\"\"\"\n",
    ")"
   ]
  },
  {
   "cell_type": "markdown",
   "id": "262ebce5",
   "metadata": {},
   "source": [
    "With a follow-up of 24 months, 75% of Healthy Controls and more than 50% of PD-MCI subjects are missing."
   ]
  },
  {
   "cell_type": "code",
   "execution_count": 28,
   "id": "fbbdbdf7",
   "metadata": {},
   "outputs": [
    {
     "data": {
      "text/html": [
       "<pre style=\"white-space:pre;overflow-x:auto;line-height:normal;font-family:Menlo,'DejaVu Sans Mono',consolas,'Courier New',monospace\"><span style=\"font-style: italic\">                                     Demographic and clinical characteristics                                      </span>\n",
       "<span style=\"font-style: italic\">                                               (24 months follow-up)                                               </span>\n",
       "<span style=\"color: #cfd5e4; text-decoration-color: #cfd5e4\"> ───────────────────────────────────────────────────────────────────────────────────────────────────────────────── </span>\n",
       "<span style=\"color: #cfd5e4; text-decoration-color: #cfd5e4\"> </span><span style=\"font-weight: bold\">                                            </span><span style=\"color: #cfd5e4; text-decoration-color: #cfd5e4\"> </span><span style=\"font-weight: bold\"> Healthy Controls        </span><span style=\"color: #cfd5e4; text-decoration-color: #cfd5e4\"> </span><span style=\"font-weight: bold\"> PD-NC               </span><span style=\"color: #cfd5e4; text-decoration-color: #cfd5e4\"> </span><span style=\"font-weight: bold\"> PD-MCI             </span><span style=\"color: #cfd5e4; text-decoration-color: #cfd5e4\"> </span>\n",
       "<span style=\"color: #cfd5e4; text-decoration-color: #cfd5e4\"> ───────────────────────────────────────────────────────────────────────────────────────────────────────────────── </span>\n",
       "<span style=\"color: #cfd5e4; text-decoration-color: #cfd5e4\"> </span><span style=\"background-color: #f2f5f9\"> n                                          </span><span style=\"color: #cfd5e4; text-decoration-color: #cfd5e4; background-color: #f2f5f9\"> </span><span style=\"background-color: #f2f5f9\"> 9                       </span><span style=\"color: #cfd5e4; text-decoration-color: #cfd5e4; background-color: #f2f5f9\"> </span><span style=\"background-color: #f2f5f9\"> 64                  </span><span style=\"color: #cfd5e4; text-decoration-color: #cfd5e4; background-color: #f2f5f9\"> </span><span style=\"background-color: #f2f5f9\"> 18                 </span><span style=\"color: #cfd5e4; text-decoration-color: #cfd5e4\"> </span>\n",
       "<span style=\"color: #cfd5e4; text-decoration-color: #cfd5e4\"> </span> Age (y)                                    <span style=\"color: #cfd5e4; text-decoration-color: #cfd5e4\"> </span> 54.6 ± 15.5             <span style=\"color: #cfd5e4; text-decoration-color: #cfd5e4\"> </span> 62.9 ±  9.1         <span style=\"color: #cfd5e4; text-decoration-color: #cfd5e4\"> </span> 65.8 ±  8.7        <span style=\"color: #cfd5e4; text-decoration-color: #cfd5e4\"> </span>\n",
       "<span style=\"color: #cfd5e4; text-decoration-color: #cfd5e4\"> </span><span style=\"background-color: #f2f5f9\"> Age range                                  </span><span style=\"color: #cfd5e4; text-decoration-color: #cfd5e4; background-color: #f2f5f9\"> </span><span style=\"background-color: #f2f5f9\"> 30.6 - 76.8             </span><span style=\"color: #cfd5e4; text-decoration-color: #cfd5e4; background-color: #f2f5f9\"> </span><span style=\"background-color: #f2f5f9\"> 38.3 - 82.3         </span><span style=\"color: #cfd5e4; text-decoration-color: #cfd5e4; background-color: #f2f5f9\"> </span><span style=\"background-color: #f2f5f9\"> 49.9 - 79.2        </span><span style=\"color: #cfd5e4; text-decoration-color: #cfd5e4\"> </span>\n",
       "<span style=\"color: #cfd5e4; text-decoration-color: #cfd5e4\"> </span> Gender (male, %)                           <span style=\"color: #cfd5e4; text-decoration-color: #cfd5e4\"> </span> 6, 66.7%                <span style=\"color: #cfd5e4; text-decoration-color: #cfd5e4\"> </span> 38, 59.4%           <span style=\"color: #cfd5e4; text-decoration-color: #cfd5e4\"> </span> 16, 88.9%          <span style=\"color: #cfd5e4; text-decoration-color: #cfd5e4\"> </span>\n",
       "<span style=\"color: #cfd5e4; text-decoration-color: #cfd5e4\"> </span><span style=\"background-color: #f2f5f9\"> Education (y)                              </span><span style=\"color: #cfd5e4; text-decoration-color: #cfd5e4; background-color: #f2f5f9\"> </span><span style=\"background-color: #f2f5f9\"> 14.2 ±  4.3             </span><span style=\"color: #cfd5e4; text-decoration-color: #cfd5e4; background-color: #f2f5f9\"> </span><span style=\"background-color: #f2f5f9\"> 16.2 ±  2.6         </span><span style=\"color: #cfd5e4; text-decoration-color: #cfd5e4; background-color: #f2f5f9\"> </span><span style=\"background-color: #f2f5f9\"> 14.6 ±  2.5        </span><span style=\"color: #cfd5e4; text-decoration-color: #cfd5e4\"> </span>\n",
       "<span style=\"color: #cfd5e4; text-decoration-color: #cfd5e4\"> </span> Disease duration (mo)                      <span style=\"color: #cfd5e4; text-decoration-color: #cfd5e4\"> </span>                         <span style=\"color: #cfd5e4; text-decoration-color: #cfd5e4\"> </span>  4.6 ±  2.7         <span style=\"color: #cfd5e4; text-decoration-color: #cfd5e4\"> </span>  5.1 ±  3.2        <span style=\"color: #cfd5e4; text-decoration-color: #cfd5e4\"> </span>\n",
       "<span style=\"color: #cfd5e4; text-decoration-color: #cfd5e4\"> </span><span style=\"background-color: #f2f5f9\"> LEDD (mg/d) baseline                       </span><span style=\"color: #cfd5e4; text-decoration-color: #cfd5e4; background-color: #f2f5f9\"> </span><span style=\"background-color: #f2f5f9\">                         </span><span style=\"color: #cfd5e4; text-decoration-color: #cfd5e4; background-color: #f2f5f9\"> </span><span style=\"background-color: #f2f5f9\"> 243.9 ± 187.8       </span><span style=\"color: #cfd5e4; text-decoration-color: #cfd5e4; background-color: #f2f5f9\"> </span><span style=\"background-color: #f2f5f9\"> 243.5 ± 221.3      </span><span style=\"color: #cfd5e4; text-decoration-color: #cfd5e4\"> </span>\n",
       "<span style=\"color: #cfd5e4; text-decoration-color: #cfd5e4\"> </span> LEDD (mg/d) follow-up                      <span style=\"color: #cfd5e4; text-decoration-color: #cfd5e4\"> </span>                         <span style=\"color: #cfd5e4; text-decoration-color: #cfd5e4\"> </span> 243.9 ± 187.8       <span style=\"color: #cfd5e4; text-decoration-color: #cfd5e4\"> </span> 243.5 ± 221.3      <span style=\"color: #cfd5e4; text-decoration-color: #cfd5e4\"> </span>\n",
       "<span style=\"color: #cfd5e4; text-decoration-color: #cfd5e4\"> </span><span style=\"background-color: #f2f5f9\"> H&amp;Y baseline                               </span><span style=\"color: #cfd5e4; text-decoration-color: #cfd5e4; background-color: #f2f5f9\"> </span><span style=\"background-color: #f2f5f9\">                         </span><span style=\"color: #cfd5e4; text-decoration-color: #cfd5e4; background-color: #f2f5f9\"> </span><span style=\"background-color: #f2f5f9\">  1.8 ±  0.5         </span><span style=\"color: #cfd5e4; text-decoration-color: #cfd5e4; background-color: #f2f5f9\"> </span><span style=\"background-color: #f2f5f9\">  1.9 ±  0.2        </span><span style=\"color: #cfd5e4; text-decoration-color: #cfd5e4\"> </span>\n",
       "<span style=\"color: #cfd5e4; text-decoration-color: #cfd5e4\"> </span> H&amp;Y follow-up                              <span style=\"color: #cfd5e4; text-decoration-color: #cfd5e4\"> </span>                         <span style=\"color: #cfd5e4; text-decoration-color: #cfd5e4\"> </span>  1.9 ±  0.7         <span style=\"color: #cfd5e4; text-decoration-color: #cfd5e4\"> </span>  2.1 ±  0.7        <span style=\"color: #cfd5e4; text-decoration-color: #cfd5e4\"> </span>\n",
       "<span style=\"color: #cfd5e4; text-decoration-color: #cfd5e4\"> </span><span style=\"background-color: #f2f5f9\"> UPDRS III baseline                         </span><span style=\"color: #cfd5e4; text-decoration-color: #cfd5e4; background-color: #f2f5f9\"> </span><span style=\"background-color: #f2f5f9\">                         </span><span style=\"color: #cfd5e4; text-decoration-color: #cfd5e4; background-color: #f2f5f9\"> </span><span style=\"background-color: #f2f5f9\"> 22.1 ± 11.0         </span><span style=\"color: #cfd5e4; text-decoration-color: #cfd5e4; background-color: #f2f5f9\"> </span><span style=\"background-color: #f2f5f9\"> 26.6 ± 11.5        </span><span style=\"color: #cfd5e4; text-decoration-color: #cfd5e4\"> </span>\n",
       "<span style=\"color: #cfd5e4; text-decoration-color: #cfd5e4\"> </span> UPDRS III follow-up                        <span style=\"color: #cfd5e4; text-decoration-color: #cfd5e4\"> </span>                         <span style=\"color: #cfd5e4; text-decoration-color: #cfd5e4\"> </span> 26.2 ± 14.7         <span style=\"color: #cfd5e4; text-decoration-color: #cfd5e4\"> </span> 27.9 ± 13.7        <span style=\"color: #cfd5e4; text-decoration-color: #cfd5e4\"> </span>\n",
       "<span style=\"color: #cfd5e4; text-decoration-color: #cfd5e4\"> </span><span style=\"background-color: #f2f5f9\"> MMSE baseline                              </span><span style=\"color: #cfd5e4; text-decoration-color: #cfd5e4; background-color: #f2f5f9\"> </span><span style=\"background-color: #f2f5f9\"> 29.8 ±  0.4             </span><span style=\"color: #cfd5e4; text-decoration-color: #cfd5e4; background-color: #f2f5f9\"> </span><span style=\"background-color: #f2f5f9\"> 29.3 ±  1.0         </span><span style=\"color: #cfd5e4; text-decoration-color: #cfd5e4; background-color: #f2f5f9\"> </span><span style=\"background-color: #f2f5f9\"> 28.5 ±  0.7        </span><span style=\"color: #cfd5e4; text-decoration-color: #cfd5e4\"> </span>\n",
       "<span style=\"color: #cfd5e4; text-decoration-color: #cfd5e4\"> </span> MMSE follow-up                             <span style=\"color: #cfd5e4; text-decoration-color: #cfd5e4\"> </span> 29.8 ±  0.4             <span style=\"color: #cfd5e4; text-decoration-color: #cfd5e4\"> </span> 29.3 ±  1.0         <span style=\"color: #cfd5e4; text-decoration-color: #cfd5e4\"> </span> 28.3 ±  1.4        <span style=\"color: #cfd5e4; text-decoration-color: #cfd5e4\"> </span>\n",
       "<span style=\"color: #cfd5e4; text-decoration-color: #cfd5e4\"> </span><span style=\"background-color: #f2f5f9\"> MoCA baseline                              </span><span style=\"color: #cfd5e4; text-decoration-color: #cfd5e4; background-color: #f2f5f9\"> </span><span style=\"background-color: #f2f5f9\"> 29.0 ±  1.2             </span><span style=\"color: #cfd5e4; text-decoration-color: #cfd5e4; background-color: #f2f5f9\"> </span><span style=\"background-color: #f2f5f9\"> 27.6 ±  2.2         </span><span style=\"color: #cfd5e4; text-decoration-color: #cfd5e4; background-color: #f2f5f9\"> </span><span style=\"background-color: #f2f5f9\"> 25.6 ±  1.6        </span><span style=\"color: #cfd5e4; text-decoration-color: #cfd5e4\"> </span>\n",
       "<span style=\"color: #cfd5e4; text-decoration-color: #cfd5e4\"> </span> MoCA follow-up                             <span style=\"color: #cfd5e4; text-decoration-color: #cfd5e4\"> </span> 28.7 ±  1.1             <span style=\"color: #cfd5e4; text-decoration-color: #cfd5e4\"> </span> 27.5 ±  2.2         <span style=\"color: #cfd5e4; text-decoration-color: #cfd5e4\"> </span> 25.3 ±  2.6        <span style=\"color: #cfd5e4; text-decoration-color: #cfd5e4\"> </span>\n",
       "<span style=\"color: #cfd5e4; text-decoration-color: #cfd5e4\"> </span><span style=\"background-color: #f2f5f9\"> GDS baseline                               </span><span style=\"color: #cfd5e4; text-decoration-color: #cfd5e4; background-color: #f2f5f9\"> </span><span style=\"background-color: #f2f5f9\">  5.1 ±  0.6             </span><span style=\"color: #cfd5e4; text-decoration-color: #cfd5e4; background-color: #f2f5f9\"> </span><span style=\"background-color: #f2f5f9\">  5.3 ±  1.5         </span><span style=\"color: #cfd5e4; text-decoration-color: #cfd5e4; background-color: #f2f5f9\"> </span><span style=\"background-color: #f2f5f9\">  6.1 ±  2.0        </span><span style=\"color: #cfd5e4; text-decoration-color: #cfd5e4\"> </span>\n",
       "<span style=\"color: #cfd5e4; text-decoration-color: #cfd5e4\"> </span> GDS follow-up                              <span style=\"color: #cfd5e4; text-decoration-color: #cfd5e4\"> </span>  5.0 ±  0.5             <span style=\"color: #cfd5e4; text-decoration-color: #cfd5e4\"> </span>  5.2 ±  1.2         <span style=\"color: #cfd5e4; text-decoration-color: #cfd5e4\"> </span>  5.8 ±  1.4        <span style=\"color: #cfd5e4; text-decoration-color: #cfd5e4\"> </span>\n",
       "<span style=\"color: #cfd5e4; text-decoration-color: #cfd5e4\"> ───────────────────────────────────────────────────────────────────────────────────────────────────────────────── </span>\n",
       "<span style=\"color: #cfd5e4; text-decoration-color: #cfd5e4\"> </span><span style=\"font-weight: bold\"> Values expressed as mean ± SD.             </span><span style=\"color: #cfd5e4; text-decoration-color: #cfd5e4\"> </span><span style=\"font-weight: bold\">                         </span><span style=\"color: #cfd5e4; text-decoration-color: #cfd5e4\"> </span><span style=\"font-weight: bold\">                     </span><span style=\"color: #cfd5e4; text-decoration-color: #cfd5e4\"> </span><span style=\"font-weight: bold\">                    </span><span style=\"color: #cfd5e4; text-decoration-color: #cfd5e4\"> </span>\n",
       "<span style=\"color: #cfd5e4; text-decoration-color: #cfd5e4\"> ───────────────────────────────────────────────────────────────────────────────────────────────────────────────── </span>\n",
       "</pre>\n"
      ],
      "text/plain": [
       "\u001b[3m                                     Demographic and clinical characteristics                                      \u001b[0m\n",
       "\u001b[3m                                               (24 months follow-up)                                               \u001b[0m\n",
       "\u001b[38;2;207;213;228m ───────────────────────────────────────────────────────────────────────────────────────────────────────────────── \u001b[0m\n",
       "\u001b[38;2;207;213;228m \u001b[0m\u001b[1m \u001b[0m\u001b[1m                                          \u001b[0m\u001b[1m \u001b[0m\u001b[38;2;207;213;228m \u001b[0m\u001b[1m \u001b[0m\u001b[1mHealthy Controls       \u001b[0m\u001b[1m \u001b[0m\u001b[38;2;207;213;228m \u001b[0m\u001b[1m \u001b[0m\u001b[1mPD-NC              \u001b[0m\u001b[1m \u001b[0m\u001b[38;2;207;213;228m \u001b[0m\u001b[1m \u001b[0m\u001b[1mPD-MCI            \u001b[0m\u001b[1m \u001b[0m\u001b[38;2;207;213;228m \u001b[0m\n",
       "\u001b[38;2;207;213;228m ───────────────────────────────────────────────────────────────────────────────────────────────────────────────── \u001b[0m\n",
       "\u001b[38;2;207;213;228m \u001b[0m\u001b[48;2;242;245;249m \u001b[0m\u001b[48;2;242;245;249mn                                         \u001b[0m\u001b[48;2;242;245;249m \u001b[0m\u001b[38;2;207;213;228;48;2;242;245;249m \u001b[0m\u001b[48;2;242;245;249m \u001b[0m\u001b[48;2;242;245;249m9                      \u001b[0m\u001b[48;2;242;245;249m \u001b[0m\u001b[38;2;207;213;228;48;2;242;245;249m \u001b[0m\u001b[48;2;242;245;249m \u001b[0m\u001b[48;2;242;245;249m64                 \u001b[0m\u001b[48;2;242;245;249m \u001b[0m\u001b[38;2;207;213;228;48;2;242;245;249m \u001b[0m\u001b[48;2;242;245;249m \u001b[0m\u001b[48;2;242;245;249m18                \u001b[0m\u001b[48;2;242;245;249m \u001b[0m\u001b[38;2;207;213;228m \u001b[0m\n",
       "\u001b[38;2;207;213;228m \u001b[0m Age (y)                                    \u001b[38;2;207;213;228m \u001b[0m 54.6 ± 15.5             \u001b[38;2;207;213;228m \u001b[0m 62.9 ±  9.1         \u001b[38;2;207;213;228m \u001b[0m 65.8 ±  8.7        \u001b[38;2;207;213;228m \u001b[0m\n",
       "\u001b[38;2;207;213;228m \u001b[0m\u001b[48;2;242;245;249m \u001b[0m\u001b[48;2;242;245;249mAge range                                 \u001b[0m\u001b[48;2;242;245;249m \u001b[0m\u001b[38;2;207;213;228;48;2;242;245;249m \u001b[0m\u001b[48;2;242;245;249m \u001b[0m\u001b[48;2;242;245;249m30.6 - 76.8            \u001b[0m\u001b[48;2;242;245;249m \u001b[0m\u001b[38;2;207;213;228;48;2;242;245;249m \u001b[0m\u001b[48;2;242;245;249m \u001b[0m\u001b[48;2;242;245;249m38.3 - 82.3        \u001b[0m\u001b[48;2;242;245;249m \u001b[0m\u001b[38;2;207;213;228;48;2;242;245;249m \u001b[0m\u001b[48;2;242;245;249m \u001b[0m\u001b[48;2;242;245;249m49.9 - 79.2       \u001b[0m\u001b[48;2;242;245;249m \u001b[0m\u001b[38;2;207;213;228m \u001b[0m\n",
       "\u001b[38;2;207;213;228m \u001b[0m Gender (male, %)                           \u001b[38;2;207;213;228m \u001b[0m 6, 66.7%                \u001b[38;2;207;213;228m \u001b[0m 38, 59.4%           \u001b[38;2;207;213;228m \u001b[0m 16, 88.9%          \u001b[38;2;207;213;228m \u001b[0m\n",
       "\u001b[38;2;207;213;228m \u001b[0m\u001b[48;2;242;245;249m \u001b[0m\u001b[48;2;242;245;249mEducation (y)                             \u001b[0m\u001b[48;2;242;245;249m \u001b[0m\u001b[38;2;207;213;228;48;2;242;245;249m \u001b[0m\u001b[48;2;242;245;249m \u001b[0m\u001b[48;2;242;245;249m14.2 ±  4.3            \u001b[0m\u001b[48;2;242;245;249m \u001b[0m\u001b[38;2;207;213;228;48;2;242;245;249m \u001b[0m\u001b[48;2;242;245;249m \u001b[0m\u001b[48;2;242;245;249m16.2 ±  2.6        \u001b[0m\u001b[48;2;242;245;249m \u001b[0m\u001b[38;2;207;213;228;48;2;242;245;249m \u001b[0m\u001b[48;2;242;245;249m \u001b[0m\u001b[48;2;242;245;249m14.6 ±  2.5       \u001b[0m\u001b[48;2;242;245;249m \u001b[0m\u001b[38;2;207;213;228m \u001b[0m\n",
       "\u001b[38;2;207;213;228m \u001b[0m Disease duration (mo)                      \u001b[38;2;207;213;228m \u001b[0m                         \u001b[38;2;207;213;228m \u001b[0m  4.6 ±  2.7         \u001b[38;2;207;213;228m \u001b[0m  5.1 ±  3.2        \u001b[38;2;207;213;228m \u001b[0m\n",
       "\u001b[38;2;207;213;228m \u001b[0m\u001b[48;2;242;245;249m \u001b[0m\u001b[48;2;242;245;249mLEDD (mg/d) baseline                      \u001b[0m\u001b[48;2;242;245;249m \u001b[0m\u001b[38;2;207;213;228;48;2;242;245;249m \u001b[0m\u001b[48;2;242;245;249m \u001b[0m\u001b[48;2;242;245;249m                       \u001b[0m\u001b[48;2;242;245;249m \u001b[0m\u001b[38;2;207;213;228;48;2;242;245;249m \u001b[0m\u001b[48;2;242;245;249m \u001b[0m\u001b[48;2;242;245;249m243.9 ± 187.8      \u001b[0m\u001b[48;2;242;245;249m \u001b[0m\u001b[38;2;207;213;228;48;2;242;245;249m \u001b[0m\u001b[48;2;242;245;249m \u001b[0m\u001b[48;2;242;245;249m243.5 ± 221.3     \u001b[0m\u001b[48;2;242;245;249m \u001b[0m\u001b[38;2;207;213;228m \u001b[0m\n",
       "\u001b[38;2;207;213;228m \u001b[0m LEDD (mg/d) follow-up                      \u001b[38;2;207;213;228m \u001b[0m                         \u001b[38;2;207;213;228m \u001b[0m 243.9 ± 187.8       \u001b[38;2;207;213;228m \u001b[0m 243.5 ± 221.3      \u001b[38;2;207;213;228m \u001b[0m\n",
       "\u001b[38;2;207;213;228m \u001b[0m\u001b[48;2;242;245;249m \u001b[0m\u001b[48;2;242;245;249mH&Y baseline                              \u001b[0m\u001b[48;2;242;245;249m \u001b[0m\u001b[38;2;207;213;228;48;2;242;245;249m \u001b[0m\u001b[48;2;242;245;249m \u001b[0m\u001b[48;2;242;245;249m                       \u001b[0m\u001b[48;2;242;245;249m \u001b[0m\u001b[38;2;207;213;228;48;2;242;245;249m \u001b[0m\u001b[48;2;242;245;249m \u001b[0m\u001b[48;2;242;245;249m 1.8 ±  0.5        \u001b[0m\u001b[48;2;242;245;249m \u001b[0m\u001b[38;2;207;213;228;48;2;242;245;249m \u001b[0m\u001b[48;2;242;245;249m \u001b[0m\u001b[48;2;242;245;249m 1.9 ±  0.2       \u001b[0m\u001b[48;2;242;245;249m \u001b[0m\u001b[38;2;207;213;228m \u001b[0m\n",
       "\u001b[38;2;207;213;228m \u001b[0m H&Y follow-up                              \u001b[38;2;207;213;228m \u001b[0m                         \u001b[38;2;207;213;228m \u001b[0m  1.9 ±  0.7         \u001b[38;2;207;213;228m \u001b[0m  2.1 ±  0.7        \u001b[38;2;207;213;228m \u001b[0m\n",
       "\u001b[38;2;207;213;228m \u001b[0m\u001b[48;2;242;245;249m \u001b[0m\u001b[48;2;242;245;249mUPDRS III baseline                        \u001b[0m\u001b[48;2;242;245;249m \u001b[0m\u001b[38;2;207;213;228;48;2;242;245;249m \u001b[0m\u001b[48;2;242;245;249m \u001b[0m\u001b[48;2;242;245;249m                       \u001b[0m\u001b[48;2;242;245;249m \u001b[0m\u001b[38;2;207;213;228;48;2;242;245;249m \u001b[0m\u001b[48;2;242;245;249m \u001b[0m\u001b[48;2;242;245;249m22.1 ± 11.0        \u001b[0m\u001b[48;2;242;245;249m \u001b[0m\u001b[38;2;207;213;228;48;2;242;245;249m \u001b[0m\u001b[48;2;242;245;249m \u001b[0m\u001b[48;2;242;245;249m26.6 ± 11.5       \u001b[0m\u001b[48;2;242;245;249m \u001b[0m\u001b[38;2;207;213;228m \u001b[0m\n",
       "\u001b[38;2;207;213;228m \u001b[0m UPDRS III follow-up                        \u001b[38;2;207;213;228m \u001b[0m                         \u001b[38;2;207;213;228m \u001b[0m 26.2 ± 14.7         \u001b[38;2;207;213;228m \u001b[0m 27.9 ± 13.7        \u001b[38;2;207;213;228m \u001b[0m\n",
       "\u001b[38;2;207;213;228m \u001b[0m\u001b[48;2;242;245;249m \u001b[0m\u001b[48;2;242;245;249mMMSE baseline                             \u001b[0m\u001b[48;2;242;245;249m \u001b[0m\u001b[38;2;207;213;228;48;2;242;245;249m \u001b[0m\u001b[48;2;242;245;249m \u001b[0m\u001b[48;2;242;245;249m29.8 ±  0.4            \u001b[0m\u001b[48;2;242;245;249m \u001b[0m\u001b[38;2;207;213;228;48;2;242;245;249m \u001b[0m\u001b[48;2;242;245;249m \u001b[0m\u001b[48;2;242;245;249m29.3 ±  1.0        \u001b[0m\u001b[48;2;242;245;249m \u001b[0m\u001b[38;2;207;213;228;48;2;242;245;249m \u001b[0m\u001b[48;2;242;245;249m \u001b[0m\u001b[48;2;242;245;249m28.5 ±  0.7       \u001b[0m\u001b[48;2;242;245;249m \u001b[0m\u001b[38;2;207;213;228m \u001b[0m\n",
       "\u001b[38;2;207;213;228m \u001b[0m MMSE follow-up                             \u001b[38;2;207;213;228m \u001b[0m 29.8 ±  0.4             \u001b[38;2;207;213;228m \u001b[0m 29.3 ±  1.0         \u001b[38;2;207;213;228m \u001b[0m 28.3 ±  1.4        \u001b[38;2;207;213;228m \u001b[0m\n",
       "\u001b[38;2;207;213;228m \u001b[0m\u001b[48;2;242;245;249m \u001b[0m\u001b[48;2;242;245;249mMoCA baseline                             \u001b[0m\u001b[48;2;242;245;249m \u001b[0m\u001b[38;2;207;213;228;48;2;242;245;249m \u001b[0m\u001b[48;2;242;245;249m \u001b[0m\u001b[48;2;242;245;249m29.0 ±  1.2            \u001b[0m\u001b[48;2;242;245;249m \u001b[0m\u001b[38;2;207;213;228;48;2;242;245;249m \u001b[0m\u001b[48;2;242;245;249m \u001b[0m\u001b[48;2;242;245;249m27.6 ±  2.2        \u001b[0m\u001b[48;2;242;245;249m \u001b[0m\u001b[38;2;207;213;228;48;2;242;245;249m \u001b[0m\u001b[48;2;242;245;249m \u001b[0m\u001b[48;2;242;245;249m25.6 ±  1.6       \u001b[0m\u001b[48;2;242;245;249m \u001b[0m\u001b[38;2;207;213;228m \u001b[0m\n",
       "\u001b[38;2;207;213;228m \u001b[0m MoCA follow-up                             \u001b[38;2;207;213;228m \u001b[0m 28.7 ±  1.1             \u001b[38;2;207;213;228m \u001b[0m 27.5 ±  2.2         \u001b[38;2;207;213;228m \u001b[0m 25.3 ±  2.6        \u001b[38;2;207;213;228m \u001b[0m\n",
       "\u001b[38;2;207;213;228m \u001b[0m\u001b[48;2;242;245;249m \u001b[0m\u001b[48;2;242;245;249mGDS baseline                              \u001b[0m\u001b[48;2;242;245;249m \u001b[0m\u001b[38;2;207;213;228;48;2;242;245;249m \u001b[0m\u001b[48;2;242;245;249m \u001b[0m\u001b[48;2;242;245;249m 5.1 ±  0.6            \u001b[0m\u001b[48;2;242;245;249m \u001b[0m\u001b[38;2;207;213;228;48;2;242;245;249m \u001b[0m\u001b[48;2;242;245;249m \u001b[0m\u001b[48;2;242;245;249m 5.3 ±  1.5        \u001b[0m\u001b[48;2;242;245;249m \u001b[0m\u001b[38;2;207;213;228;48;2;242;245;249m \u001b[0m\u001b[48;2;242;245;249m \u001b[0m\u001b[48;2;242;245;249m 6.1 ±  2.0       \u001b[0m\u001b[48;2;242;245;249m \u001b[0m\u001b[38;2;207;213;228m \u001b[0m\n",
       "\u001b[38;2;207;213;228m \u001b[0m GDS follow-up                              \u001b[38;2;207;213;228m \u001b[0m  5.0 ±  0.5             \u001b[38;2;207;213;228m \u001b[0m  5.2 ±  1.2         \u001b[38;2;207;213;228m \u001b[0m  5.8 ±  1.4        \u001b[38;2;207;213;228m \u001b[0m\n",
       "\u001b[38;2;207;213;228m ───────────────────────────────────────────────────────────────────────────────────────────────────────────────── \u001b[0m\n",
       "\u001b[38;2;207;213;228m \u001b[0m\u001b[1m \u001b[0m\u001b[1mValues expressed as mean ± SD.            \u001b[0m\u001b[1m \u001b[0m\u001b[38;2;207;213;228m \u001b[0m\u001b[1m \u001b[0m\u001b[1m                       \u001b[0m\u001b[1m \u001b[0m\u001b[38;2;207;213;228m \u001b[0m\u001b[1m \u001b[0m\u001b[1m                   \u001b[0m\u001b[1m \u001b[0m\u001b[38;2;207;213;228m \u001b[0m\u001b[1m \u001b[0m\u001b[1m                  \u001b[0m\u001b[1m \u001b[0m\u001b[38;2;207;213;228m \u001b[0m\n",
       "\u001b[38;2;207;213;228m ───────────────────────────────────────────────────────────────────────────────────────────────────────────────── \u001b[0m\n"
      ]
     },
     "metadata": {},
     "output_type": "display_data"
    }
   ],
   "source": [
    "cohort_summary(\n",
    "    hc=hc_,\n",
    "    nc=nc_,\n",
    "    mci=mci_,\n",
    "    title=\"Demographic and clinical characteristics\\n(24 months follow-up)\",\n",
    ")"
   ]
  },
  {
   "cell_type": "markdown",
   "id": "52a61ed6",
   "metadata": {},
   "source": [
    "### Cohort follow up after both 12 and 24 months"
   ]
  },
  {
   "cell_type": "markdown",
   "id": "fa48fe3d",
   "metadata": {},
   "source": [
    "Since the two previous cohorts are no where near the original paper's cohort, we will try to merge subjects with both a follow-up of 12 and 24 months in one cohort."
   ]
  },
  {
   "cell_type": "code",
   "execution_count": 29,
   "id": "ad024a85",
   "metadata": {
    "scrolled": true
   },
   "outputs": [
    {
     "name": "stdout",
     "output_type": "stream",
     "text": [
      "Unique number of:\n",
      "  - HC subjects:     37 (/37)\n",
      "  - PD-NC subjects:  66 (/66)\n",
      "  - PD-MCI subjects: 27 (/39)\n",
      "\n"
     ]
    }
   ],
   "source": [
    "# Merging PD-MCI\n",
    "mci_mix = pd.concat([mci, mci_])\n",
    "mci_mix = mci_mix.sample(frac=1, random_state=42)\n",
    "mci_mix.drop_duplicates(subset=['PATNO'], keep='first', inplace=True)\n",
    "\n",
    "# Merging PD-NC\n",
    "nc_mix = pd.concat([nc, nc_])\n",
    "nc_mix = nc_mix.sample(frac=1, random_state=42)\n",
    "nc_mix.drop_duplicates(subset=['PATNO'], keep='first', inplace=True)\n",
    "\n",
    "# Merging HC subjecs\n",
    "hc_mix = pd.concat([hc, hc_])\n",
    "hc_mix = hc_mix.sample(frac=1, random_state=42)\n",
    "hc_mix.drop_duplicates(subset=['PATNO'], keep='first', inplace=True)\n",
    "\n",
    "# Removing subjects that appears in more than one group\n",
    "pd_mix = pd.concat([mci_mix, nc_mix])\n",
    "duplicates = pd_mix[pd_mix.duplicated(['PATNO'])].index\n",
    "nc_mix.drop(index=duplicates, inplace=True)\n",
    "\n",
    "hc_mix = hc_mix.head(37)\n",
    "nc_mix = nc_mix.head(66)\n",
    "\n",
    "print(\n",
    "    f\"\"\"Unique number of:\n",
    "  - HC subjects:     {hc_mix['PATNO'].unique().size} (/37)\n",
    "  - PD-NC subjects:  {nc_mix['PATNO'].unique().size} (/66)\n",
    "  - PD-MCI subjects: {mci_mix['PATNO'].unique().size} (/39)\n",
    "\"\"\"\n",
    ")"
   ]
  },
  {
   "cell_type": "markdown",
   "id": "5751a8f1",
   "metadata": {},
   "source": [
    "By doing so, we were able to collect more than 70% of PD-MCI subjects. This is by far the closest we can get to the original cohort."
   ]
  },
  {
   "cell_type": "code",
   "execution_count": 30,
   "id": "1e86e196",
   "metadata": {
    "scrolled": true
   },
   "outputs": [
    {
     "data": {
      "text/html": [
       "<pre style=\"white-space:pre;overflow-x:auto;line-height:normal;font-family:Menlo,'DejaVu Sans Mono',consolas,'Courier New',monospace\"><span style=\"font-style: italic\">                                     Demographic and clinical characteristics                                      </span>\n",
       "<span style=\"font-style: italic\">                                            (12 &amp; 24 months follow-up)                                             </span>\n",
       "<span style=\"color: #cfd5e4; text-decoration-color: #cfd5e4\"> ───────────────────────────────────────────────────────────────────────────────────────────────────────────────── </span>\n",
       "<span style=\"color: #cfd5e4; text-decoration-color: #cfd5e4\"> </span><span style=\"font-weight: bold\">                                            </span><span style=\"color: #cfd5e4; text-decoration-color: #cfd5e4\"> </span><span style=\"font-weight: bold\"> Healthy Controls        </span><span style=\"color: #cfd5e4; text-decoration-color: #cfd5e4\"> </span><span style=\"font-weight: bold\"> PD-NC               </span><span style=\"color: #cfd5e4; text-decoration-color: #cfd5e4\"> </span><span style=\"font-weight: bold\"> PD-MCI             </span><span style=\"color: #cfd5e4; text-decoration-color: #cfd5e4\"> </span>\n",
       "<span style=\"color: #cfd5e4; text-decoration-color: #cfd5e4\"> ───────────────────────────────────────────────────────────────────────────────────────────────────────────────── </span>\n",
       "<span style=\"color: #cfd5e4; text-decoration-color: #cfd5e4\"> </span><span style=\"background-color: #f2f5f9\"> n                                          </span><span style=\"color: #cfd5e4; text-decoration-color: #cfd5e4; background-color: #f2f5f9\"> </span><span style=\"background-color: #f2f5f9\"> 37                      </span><span style=\"color: #cfd5e4; text-decoration-color: #cfd5e4; background-color: #f2f5f9\"> </span><span style=\"background-color: #f2f5f9\"> 66                  </span><span style=\"color: #cfd5e4; text-decoration-color: #cfd5e4; background-color: #f2f5f9\"> </span><span style=\"background-color: #f2f5f9\"> 27                 </span><span style=\"color: #cfd5e4; text-decoration-color: #cfd5e4\"> </span>\n",
       "<span style=\"color: #cfd5e4; text-decoration-color: #cfd5e4\"> </span> Age (y)                                    <span style=\"color: #cfd5e4; text-decoration-color: #cfd5e4\"> </span> 59.3 ± 12.0             <span style=\"color: #cfd5e4; text-decoration-color: #cfd5e4\"> </span> 60.8 ±  9.6         <span style=\"color: #cfd5e4; text-decoration-color: #cfd5e4\"> </span> 64.9 ±  8.9        <span style=\"color: #cfd5e4; text-decoration-color: #cfd5e4\"> </span>\n",
       "<span style=\"color: #cfd5e4; text-decoration-color: #cfd5e4\"> </span><span style=\"background-color: #f2f5f9\"> Age range                                  </span><span style=\"color: #cfd5e4; text-decoration-color: #cfd5e4; background-color: #f2f5f9\"> </span><span style=\"background-color: #f2f5f9\"> 30.6 - 79.8             </span><span style=\"color: #cfd5e4; text-decoration-color: #cfd5e4; background-color: #f2f5f9\"> </span><span style=\"background-color: #f2f5f9\"> 38.3 - 82.3         </span><span style=\"color: #cfd5e4; text-decoration-color: #cfd5e4; background-color: #f2f5f9\"> </span><span style=\"background-color: #f2f5f9\"> 49.9 - 79.2        </span><span style=\"color: #cfd5e4; text-decoration-color: #cfd5e4\"> </span>\n",
       "<span style=\"color: #cfd5e4; text-decoration-color: #cfd5e4\"> </span> Gender (male, %)                           <span style=\"color: #cfd5e4; text-decoration-color: #cfd5e4\"> </span> 23, 62.2%               <span style=\"color: #cfd5e4; text-decoration-color: #cfd5e4\"> </span> 40, 60.6%           <span style=\"color: #cfd5e4; text-decoration-color: #cfd5e4\"> </span> 21, 77.8%          <span style=\"color: #cfd5e4; text-decoration-color: #cfd5e4\"> </span>\n",
       "<span style=\"color: #cfd5e4; text-decoration-color: #cfd5e4\"> </span><span style=\"background-color: #f2f5f9\"> Education (y)                              </span><span style=\"color: #cfd5e4; text-decoration-color: #cfd5e4; background-color: #f2f5f9\"> </span><span style=\"background-color: #f2f5f9\"> 15.5 ±  3.2             </span><span style=\"color: #cfd5e4; text-decoration-color: #cfd5e4; background-color: #f2f5f9\"> </span><span style=\"background-color: #f2f5f9\"> 15.8 ±  2.6         </span><span style=\"color: #cfd5e4; text-decoration-color: #cfd5e4; background-color: #f2f5f9\"> </span><span style=\"background-color: #f2f5f9\"> 14.9 ±  2.5        </span><span style=\"color: #cfd5e4; text-decoration-color: #cfd5e4\"> </span>\n",
       "<span style=\"color: #cfd5e4; text-decoration-color: #cfd5e4\"> </span> Disease duration (mo)                      <span style=\"color: #cfd5e4; text-decoration-color: #cfd5e4\"> </span>                         <span style=\"color: #cfd5e4; text-decoration-color: #cfd5e4\"> </span>  4.2 ±  2.4         <span style=\"color: #cfd5e4; text-decoration-color: #cfd5e4\"> </span>  4.7 ±  3.4        <span style=\"color: #cfd5e4; text-decoration-color: #cfd5e4\"> </span>\n",
       "<span style=\"color: #cfd5e4; text-decoration-color: #cfd5e4\"> </span><span style=\"background-color: #f2f5f9\"> LEDD (mg/d) baseline                       </span><span style=\"color: #cfd5e4; text-decoration-color: #cfd5e4; background-color: #f2f5f9\"> </span><span style=\"background-color: #f2f5f9\">                         </span><span style=\"color: #cfd5e4; text-decoration-color: #cfd5e4; background-color: #f2f5f9\"> </span><span style=\"background-color: #f2f5f9\"> 267.0 ± 213.0       </span><span style=\"color: #cfd5e4; text-decoration-color: #cfd5e4; background-color: #f2f5f9\"> </span><span style=\"background-color: #f2f5f9\"> 249.0 ± 199.7      </span><span style=\"color: #cfd5e4; text-decoration-color: #cfd5e4\"> </span>\n",
       "<span style=\"color: #cfd5e4; text-decoration-color: #cfd5e4\"> </span> LEDD (mg/d) follow-up                      <span style=\"color: #cfd5e4; text-decoration-color: #cfd5e4\"> </span>                         <span style=\"color: #cfd5e4; text-decoration-color: #cfd5e4\"> </span> 267.0 ± 213.0       <span style=\"color: #cfd5e4; text-decoration-color: #cfd5e4\"> </span> 249.0 ± 199.7      <span style=\"color: #cfd5e4; text-decoration-color: #cfd5e4\"> </span>\n",
       "<span style=\"color: #cfd5e4; text-decoration-color: #cfd5e4\"> </span><span style=\"background-color: #f2f5f9\"> H&amp;Y baseline                               </span><span style=\"color: #cfd5e4; text-decoration-color: #cfd5e4; background-color: #f2f5f9\"> </span><span style=\"background-color: #f2f5f9\">                         </span><span style=\"color: #cfd5e4; text-decoration-color: #cfd5e4; background-color: #f2f5f9\"> </span><span style=\"background-color: #f2f5f9\">  1.7 ±  0.5         </span><span style=\"color: #cfd5e4; text-decoration-color: #cfd5e4; background-color: #f2f5f9\"> </span><span style=\"background-color: #f2f5f9\">  1.9 ±  0.4        </span><span style=\"color: #cfd5e4; text-decoration-color: #cfd5e4\"> </span>\n",
       "<span style=\"color: #cfd5e4; text-decoration-color: #cfd5e4\"> </span> H&amp;Y follow-up                              <span style=\"color: #cfd5e4; text-decoration-color: #cfd5e4\"> </span>                         <span style=\"color: #cfd5e4; text-decoration-color: #cfd5e4\"> </span>  1.9 ±  0.6         <span style=\"color: #cfd5e4; text-decoration-color: #cfd5e4\"> </span>  2.0 ±  0.6        <span style=\"color: #cfd5e4; text-decoration-color: #cfd5e4\"> </span>\n",
       "<span style=\"color: #cfd5e4; text-decoration-color: #cfd5e4\"> </span><span style=\"background-color: #f2f5f9\"> UPDRS III baseline                         </span><span style=\"color: #cfd5e4; text-decoration-color: #cfd5e4; background-color: #f2f5f9\"> </span><span style=\"background-color: #f2f5f9\">                         </span><span style=\"color: #cfd5e4; text-decoration-color: #cfd5e4; background-color: #f2f5f9\"> </span><span style=\"background-color: #f2f5f9\"> 20.2 ±  9.8         </span><span style=\"color: #cfd5e4; text-decoration-color: #cfd5e4; background-color: #f2f5f9\"> </span><span style=\"background-color: #f2f5f9\"> 23.9 ± 12.0        </span><span style=\"color: #cfd5e4; text-decoration-color: #cfd5e4\"> </span>\n",
       "<span style=\"color: #cfd5e4; text-decoration-color: #cfd5e4\"> </span> UPDRS III follow-up                        <span style=\"color: #cfd5e4; text-decoration-color: #cfd5e4\"> </span>                         <span style=\"color: #cfd5e4; text-decoration-color: #cfd5e4\"> </span> 21.1 ± 12.2         <span style=\"color: #cfd5e4; text-decoration-color: #cfd5e4\"> </span> 26.6 ± 13.5        <span style=\"color: #cfd5e4; text-decoration-color: #cfd5e4\"> </span>\n",
       "<span style=\"color: #cfd5e4; text-decoration-color: #cfd5e4\"> </span><span style=\"background-color: #f2f5f9\"> MMSE baseline                              </span><span style=\"color: #cfd5e4; text-decoration-color: #cfd5e4; background-color: #f2f5f9\"> </span><span style=\"background-color: #f2f5f9\"> 29.7 ±  0.5             </span><span style=\"color: #cfd5e4; text-decoration-color: #cfd5e4; background-color: #f2f5f9\"> </span><span style=\"background-color: #f2f5f9\"> 29.4 ±  0.8         </span><span style=\"color: #cfd5e4; text-decoration-color: #cfd5e4; background-color: #f2f5f9\"> </span><span style=\"background-color: #f2f5f9\"> 28.3 ±  0.9        </span><span style=\"color: #cfd5e4; text-decoration-color: #cfd5e4\"> </span>\n",
       "<span style=\"color: #cfd5e4; text-decoration-color: #cfd5e4\"> </span> MMSE follow-up                             <span style=\"color: #cfd5e4; text-decoration-color: #cfd5e4\"> </span> 29.4 ±  0.8             <span style=\"color: #cfd5e4; text-decoration-color: #cfd5e4\"> </span> 29.4 ±  1.0         <span style=\"color: #cfd5e4; text-decoration-color: #cfd5e4\"> </span> 28.5 ±  1.3        <span style=\"color: #cfd5e4; text-decoration-color: #cfd5e4\"> </span>\n",
       "<span style=\"color: #cfd5e4; text-decoration-color: #cfd5e4\"> </span><span style=\"background-color: #f2f5f9\"> MoCA baseline                              </span><span style=\"color: #cfd5e4; text-decoration-color: #cfd5e4; background-color: #f2f5f9\"> </span><span style=\"background-color: #f2f5f9\"> 28.4 ±  1.2             </span><span style=\"color: #cfd5e4; text-decoration-color: #cfd5e4; background-color: #f2f5f9\"> </span><span style=\"background-color: #f2f5f9\"> 27.7 ±  1.9         </span><span style=\"color: #cfd5e4; text-decoration-color: #cfd5e4; background-color: #f2f5f9\"> </span><span style=\"background-color: #f2f5f9\"> 25.3 ±  2.0        </span><span style=\"color: #cfd5e4; text-decoration-color: #cfd5e4\"> </span>\n",
       "<span style=\"color: #cfd5e4; text-decoration-color: #cfd5e4\"> </span> MoCA follow-up                             <span style=\"color: #cfd5e4; text-decoration-color: #cfd5e4\"> </span> 27.6 ±  2.0             <span style=\"color: #cfd5e4; text-decoration-color: #cfd5e4\"> </span> 27.8 ±  2.2         <span style=\"color: #cfd5e4; text-decoration-color: #cfd5e4\"> </span> 25.7 ±  2.4        <span style=\"color: #cfd5e4; text-decoration-color: #cfd5e4\"> </span>\n",
       "<span style=\"color: #cfd5e4; text-decoration-color: #cfd5e4\"> </span><span style=\"background-color: #f2f5f9\"> GDS baseline                               </span><span style=\"color: #cfd5e4; text-decoration-color: #cfd5e4; background-color: #f2f5f9\"> </span><span style=\"background-color: #f2f5f9\">  5.3 ±  1.4             </span><span style=\"color: #cfd5e4; text-decoration-color: #cfd5e4; background-color: #f2f5f9\"> </span><span style=\"background-color: #f2f5f9\">  5.2 ±  1.2         </span><span style=\"color: #cfd5e4; text-decoration-color: #cfd5e4; background-color: #f2f5f9\"> </span><span style=\"background-color: #f2f5f9\">  5.8 ±  1.7        </span><span style=\"color: #cfd5e4; text-decoration-color: #cfd5e4\"> </span>\n",
       "<span style=\"color: #cfd5e4; text-decoration-color: #cfd5e4\"> </span> GDS follow-up                              <span style=\"color: #cfd5e4; text-decoration-color: #cfd5e4\"> </span>  4.9 ±  1.0             <span style=\"color: #cfd5e4; text-decoration-color: #cfd5e4\"> </span>  5.2 ±  1.4         <span style=\"color: #cfd5e4; text-decoration-color: #cfd5e4\"> </span>  5.9 ±  1.5        <span style=\"color: #cfd5e4; text-decoration-color: #cfd5e4\"> </span>\n",
       "<span style=\"color: #cfd5e4; text-decoration-color: #cfd5e4\"> ───────────────────────────────────────────────────────────────────────────────────────────────────────────────── </span>\n",
       "<span style=\"color: #cfd5e4; text-decoration-color: #cfd5e4\"> </span><span style=\"font-weight: bold\"> Values expressed as mean ± SD.             </span><span style=\"color: #cfd5e4; text-decoration-color: #cfd5e4\"> </span><span style=\"font-weight: bold\">                         </span><span style=\"color: #cfd5e4; text-decoration-color: #cfd5e4\"> </span><span style=\"font-weight: bold\">                     </span><span style=\"color: #cfd5e4; text-decoration-color: #cfd5e4\"> </span><span style=\"font-weight: bold\">                    </span><span style=\"color: #cfd5e4; text-decoration-color: #cfd5e4\"> </span>\n",
       "<span style=\"color: #cfd5e4; text-decoration-color: #cfd5e4\"> ───────────────────────────────────────────────────────────────────────────────────────────────────────────────── </span>\n",
       "</pre>\n"
      ],
      "text/plain": [
       "\u001b[3m                                     Demographic and clinical characteristics                                      \u001b[0m\n",
       "\u001b[3m                                            (12 & 24 months follow-up)                                             \u001b[0m\n",
       "\u001b[38;2;207;213;228m ───────────────────────────────────────────────────────────────────────────────────────────────────────────────── \u001b[0m\n",
       "\u001b[38;2;207;213;228m \u001b[0m\u001b[1m \u001b[0m\u001b[1m                                          \u001b[0m\u001b[1m \u001b[0m\u001b[38;2;207;213;228m \u001b[0m\u001b[1m \u001b[0m\u001b[1mHealthy Controls       \u001b[0m\u001b[1m \u001b[0m\u001b[38;2;207;213;228m \u001b[0m\u001b[1m \u001b[0m\u001b[1mPD-NC              \u001b[0m\u001b[1m \u001b[0m\u001b[38;2;207;213;228m \u001b[0m\u001b[1m \u001b[0m\u001b[1mPD-MCI            \u001b[0m\u001b[1m \u001b[0m\u001b[38;2;207;213;228m \u001b[0m\n",
       "\u001b[38;2;207;213;228m ───────────────────────────────────────────────────────────────────────────────────────────────────────────────── \u001b[0m\n",
       "\u001b[38;2;207;213;228m \u001b[0m\u001b[48;2;242;245;249m \u001b[0m\u001b[48;2;242;245;249mn                                         \u001b[0m\u001b[48;2;242;245;249m \u001b[0m\u001b[38;2;207;213;228;48;2;242;245;249m \u001b[0m\u001b[48;2;242;245;249m \u001b[0m\u001b[48;2;242;245;249m37                     \u001b[0m\u001b[48;2;242;245;249m \u001b[0m\u001b[38;2;207;213;228;48;2;242;245;249m \u001b[0m\u001b[48;2;242;245;249m \u001b[0m\u001b[48;2;242;245;249m66                 \u001b[0m\u001b[48;2;242;245;249m \u001b[0m\u001b[38;2;207;213;228;48;2;242;245;249m \u001b[0m\u001b[48;2;242;245;249m \u001b[0m\u001b[48;2;242;245;249m27                \u001b[0m\u001b[48;2;242;245;249m \u001b[0m\u001b[38;2;207;213;228m \u001b[0m\n",
       "\u001b[38;2;207;213;228m \u001b[0m Age (y)                                    \u001b[38;2;207;213;228m \u001b[0m 59.3 ± 12.0             \u001b[38;2;207;213;228m \u001b[0m 60.8 ±  9.6         \u001b[38;2;207;213;228m \u001b[0m 64.9 ±  8.9        \u001b[38;2;207;213;228m \u001b[0m\n",
       "\u001b[38;2;207;213;228m \u001b[0m\u001b[48;2;242;245;249m \u001b[0m\u001b[48;2;242;245;249mAge range                                 \u001b[0m\u001b[48;2;242;245;249m \u001b[0m\u001b[38;2;207;213;228;48;2;242;245;249m \u001b[0m\u001b[48;2;242;245;249m \u001b[0m\u001b[48;2;242;245;249m30.6 - 79.8            \u001b[0m\u001b[48;2;242;245;249m \u001b[0m\u001b[38;2;207;213;228;48;2;242;245;249m \u001b[0m\u001b[48;2;242;245;249m \u001b[0m\u001b[48;2;242;245;249m38.3 - 82.3        \u001b[0m\u001b[48;2;242;245;249m \u001b[0m\u001b[38;2;207;213;228;48;2;242;245;249m \u001b[0m\u001b[48;2;242;245;249m \u001b[0m\u001b[48;2;242;245;249m49.9 - 79.2       \u001b[0m\u001b[48;2;242;245;249m \u001b[0m\u001b[38;2;207;213;228m \u001b[0m\n",
       "\u001b[38;2;207;213;228m \u001b[0m Gender (male, %)                           \u001b[38;2;207;213;228m \u001b[0m 23, 62.2%               \u001b[38;2;207;213;228m \u001b[0m 40, 60.6%           \u001b[38;2;207;213;228m \u001b[0m 21, 77.8%          \u001b[38;2;207;213;228m \u001b[0m\n",
       "\u001b[38;2;207;213;228m \u001b[0m\u001b[48;2;242;245;249m \u001b[0m\u001b[48;2;242;245;249mEducation (y)                             \u001b[0m\u001b[48;2;242;245;249m \u001b[0m\u001b[38;2;207;213;228;48;2;242;245;249m \u001b[0m\u001b[48;2;242;245;249m \u001b[0m\u001b[48;2;242;245;249m15.5 ±  3.2            \u001b[0m\u001b[48;2;242;245;249m \u001b[0m\u001b[38;2;207;213;228;48;2;242;245;249m \u001b[0m\u001b[48;2;242;245;249m \u001b[0m\u001b[48;2;242;245;249m15.8 ±  2.6        \u001b[0m\u001b[48;2;242;245;249m \u001b[0m\u001b[38;2;207;213;228;48;2;242;245;249m \u001b[0m\u001b[48;2;242;245;249m \u001b[0m\u001b[48;2;242;245;249m14.9 ±  2.5       \u001b[0m\u001b[48;2;242;245;249m \u001b[0m\u001b[38;2;207;213;228m \u001b[0m\n",
       "\u001b[38;2;207;213;228m \u001b[0m Disease duration (mo)                      \u001b[38;2;207;213;228m \u001b[0m                         \u001b[38;2;207;213;228m \u001b[0m  4.2 ±  2.4         \u001b[38;2;207;213;228m \u001b[0m  4.7 ±  3.4        \u001b[38;2;207;213;228m \u001b[0m\n",
       "\u001b[38;2;207;213;228m \u001b[0m\u001b[48;2;242;245;249m \u001b[0m\u001b[48;2;242;245;249mLEDD (mg/d) baseline                      \u001b[0m\u001b[48;2;242;245;249m \u001b[0m\u001b[38;2;207;213;228;48;2;242;245;249m \u001b[0m\u001b[48;2;242;245;249m \u001b[0m\u001b[48;2;242;245;249m                       \u001b[0m\u001b[48;2;242;245;249m \u001b[0m\u001b[38;2;207;213;228;48;2;242;245;249m \u001b[0m\u001b[48;2;242;245;249m \u001b[0m\u001b[48;2;242;245;249m267.0 ± 213.0      \u001b[0m\u001b[48;2;242;245;249m \u001b[0m\u001b[38;2;207;213;228;48;2;242;245;249m \u001b[0m\u001b[48;2;242;245;249m \u001b[0m\u001b[48;2;242;245;249m249.0 ± 199.7     \u001b[0m\u001b[48;2;242;245;249m \u001b[0m\u001b[38;2;207;213;228m \u001b[0m\n",
       "\u001b[38;2;207;213;228m \u001b[0m LEDD (mg/d) follow-up                      \u001b[38;2;207;213;228m \u001b[0m                         \u001b[38;2;207;213;228m \u001b[0m 267.0 ± 213.0       \u001b[38;2;207;213;228m \u001b[0m 249.0 ± 199.7      \u001b[38;2;207;213;228m \u001b[0m\n",
       "\u001b[38;2;207;213;228m \u001b[0m\u001b[48;2;242;245;249m \u001b[0m\u001b[48;2;242;245;249mH&Y baseline                              \u001b[0m\u001b[48;2;242;245;249m \u001b[0m\u001b[38;2;207;213;228;48;2;242;245;249m \u001b[0m\u001b[48;2;242;245;249m \u001b[0m\u001b[48;2;242;245;249m                       \u001b[0m\u001b[48;2;242;245;249m \u001b[0m\u001b[38;2;207;213;228;48;2;242;245;249m \u001b[0m\u001b[48;2;242;245;249m \u001b[0m\u001b[48;2;242;245;249m 1.7 ±  0.5        \u001b[0m\u001b[48;2;242;245;249m \u001b[0m\u001b[38;2;207;213;228;48;2;242;245;249m \u001b[0m\u001b[48;2;242;245;249m \u001b[0m\u001b[48;2;242;245;249m 1.9 ±  0.4       \u001b[0m\u001b[48;2;242;245;249m \u001b[0m\u001b[38;2;207;213;228m \u001b[0m\n",
       "\u001b[38;2;207;213;228m \u001b[0m H&Y follow-up                              \u001b[38;2;207;213;228m \u001b[0m                         \u001b[38;2;207;213;228m \u001b[0m  1.9 ±  0.6         \u001b[38;2;207;213;228m \u001b[0m  2.0 ±  0.6        \u001b[38;2;207;213;228m \u001b[0m\n",
       "\u001b[38;2;207;213;228m \u001b[0m\u001b[48;2;242;245;249m \u001b[0m\u001b[48;2;242;245;249mUPDRS III baseline                        \u001b[0m\u001b[48;2;242;245;249m \u001b[0m\u001b[38;2;207;213;228;48;2;242;245;249m \u001b[0m\u001b[48;2;242;245;249m \u001b[0m\u001b[48;2;242;245;249m                       \u001b[0m\u001b[48;2;242;245;249m \u001b[0m\u001b[38;2;207;213;228;48;2;242;245;249m \u001b[0m\u001b[48;2;242;245;249m \u001b[0m\u001b[48;2;242;245;249m20.2 ±  9.8        \u001b[0m\u001b[48;2;242;245;249m \u001b[0m\u001b[38;2;207;213;228;48;2;242;245;249m \u001b[0m\u001b[48;2;242;245;249m \u001b[0m\u001b[48;2;242;245;249m23.9 ± 12.0       \u001b[0m\u001b[48;2;242;245;249m \u001b[0m\u001b[38;2;207;213;228m \u001b[0m\n",
       "\u001b[38;2;207;213;228m \u001b[0m UPDRS III follow-up                        \u001b[38;2;207;213;228m \u001b[0m                         \u001b[38;2;207;213;228m \u001b[0m 21.1 ± 12.2         \u001b[38;2;207;213;228m \u001b[0m 26.6 ± 13.5        \u001b[38;2;207;213;228m \u001b[0m\n",
       "\u001b[38;2;207;213;228m \u001b[0m\u001b[48;2;242;245;249m \u001b[0m\u001b[48;2;242;245;249mMMSE baseline                             \u001b[0m\u001b[48;2;242;245;249m \u001b[0m\u001b[38;2;207;213;228;48;2;242;245;249m \u001b[0m\u001b[48;2;242;245;249m \u001b[0m\u001b[48;2;242;245;249m29.7 ±  0.5            \u001b[0m\u001b[48;2;242;245;249m \u001b[0m\u001b[38;2;207;213;228;48;2;242;245;249m \u001b[0m\u001b[48;2;242;245;249m \u001b[0m\u001b[48;2;242;245;249m29.4 ±  0.8        \u001b[0m\u001b[48;2;242;245;249m \u001b[0m\u001b[38;2;207;213;228;48;2;242;245;249m \u001b[0m\u001b[48;2;242;245;249m \u001b[0m\u001b[48;2;242;245;249m28.3 ±  0.9       \u001b[0m\u001b[48;2;242;245;249m \u001b[0m\u001b[38;2;207;213;228m \u001b[0m\n",
       "\u001b[38;2;207;213;228m \u001b[0m MMSE follow-up                             \u001b[38;2;207;213;228m \u001b[0m 29.4 ±  0.8             \u001b[38;2;207;213;228m \u001b[0m 29.4 ±  1.0         \u001b[38;2;207;213;228m \u001b[0m 28.5 ±  1.3        \u001b[38;2;207;213;228m \u001b[0m\n",
       "\u001b[38;2;207;213;228m \u001b[0m\u001b[48;2;242;245;249m \u001b[0m\u001b[48;2;242;245;249mMoCA baseline                             \u001b[0m\u001b[48;2;242;245;249m \u001b[0m\u001b[38;2;207;213;228;48;2;242;245;249m \u001b[0m\u001b[48;2;242;245;249m \u001b[0m\u001b[48;2;242;245;249m28.4 ±  1.2            \u001b[0m\u001b[48;2;242;245;249m \u001b[0m\u001b[38;2;207;213;228;48;2;242;245;249m \u001b[0m\u001b[48;2;242;245;249m \u001b[0m\u001b[48;2;242;245;249m27.7 ±  1.9        \u001b[0m\u001b[48;2;242;245;249m \u001b[0m\u001b[38;2;207;213;228;48;2;242;245;249m \u001b[0m\u001b[48;2;242;245;249m \u001b[0m\u001b[48;2;242;245;249m25.3 ±  2.0       \u001b[0m\u001b[48;2;242;245;249m \u001b[0m\u001b[38;2;207;213;228m \u001b[0m\n",
       "\u001b[38;2;207;213;228m \u001b[0m MoCA follow-up                             \u001b[38;2;207;213;228m \u001b[0m 27.6 ±  2.0             \u001b[38;2;207;213;228m \u001b[0m 27.8 ±  2.2         \u001b[38;2;207;213;228m \u001b[0m 25.7 ±  2.4        \u001b[38;2;207;213;228m \u001b[0m\n",
       "\u001b[38;2;207;213;228m \u001b[0m\u001b[48;2;242;245;249m \u001b[0m\u001b[48;2;242;245;249mGDS baseline                              \u001b[0m\u001b[48;2;242;245;249m \u001b[0m\u001b[38;2;207;213;228;48;2;242;245;249m \u001b[0m\u001b[48;2;242;245;249m \u001b[0m\u001b[48;2;242;245;249m 5.3 ±  1.4            \u001b[0m\u001b[48;2;242;245;249m \u001b[0m\u001b[38;2;207;213;228;48;2;242;245;249m \u001b[0m\u001b[48;2;242;245;249m \u001b[0m\u001b[48;2;242;245;249m 5.2 ±  1.2        \u001b[0m\u001b[48;2;242;245;249m \u001b[0m\u001b[38;2;207;213;228;48;2;242;245;249m \u001b[0m\u001b[48;2;242;245;249m \u001b[0m\u001b[48;2;242;245;249m 5.8 ±  1.7       \u001b[0m\u001b[48;2;242;245;249m \u001b[0m\u001b[38;2;207;213;228m \u001b[0m\n",
       "\u001b[38;2;207;213;228m \u001b[0m GDS follow-up                              \u001b[38;2;207;213;228m \u001b[0m  4.9 ±  1.0             \u001b[38;2;207;213;228m \u001b[0m  5.2 ±  1.4         \u001b[38;2;207;213;228m \u001b[0m  5.9 ±  1.5        \u001b[38;2;207;213;228m \u001b[0m\n",
       "\u001b[38;2;207;213;228m ───────────────────────────────────────────────────────────────────────────────────────────────────────────────── \u001b[0m\n",
       "\u001b[38;2;207;213;228m \u001b[0m\u001b[1m \u001b[0m\u001b[1mValues expressed as mean ± SD.            \u001b[0m\u001b[1m \u001b[0m\u001b[38;2;207;213;228m \u001b[0m\u001b[1m \u001b[0m\u001b[1m                       \u001b[0m\u001b[1m \u001b[0m\u001b[38;2;207;213;228m \u001b[0m\u001b[1m \u001b[0m\u001b[1m                   \u001b[0m\u001b[1m \u001b[0m\u001b[38;2;207;213;228m \u001b[0m\u001b[1m \u001b[0m\u001b[1m                  \u001b[0m\u001b[1m \u001b[0m\u001b[38;2;207;213;228m \u001b[0m\n",
       "\u001b[38;2;207;213;228m ───────────────────────────────────────────────────────────────────────────────────────────────────────────────── \u001b[0m\n"
      ]
     },
     "metadata": {},
     "output_type": "display_data"
    }
   ],
   "source": [
    "cohort_summary(\n",
    "    hc=hc_mix,\n",
    "    nc=nc_mix,\n",
    "    mci=mci_mix,\n",
    "    title=\"Demographic and clinical characteristics\\n(12 & 24 months follow-up)\",\n",
    ")"
   ]
  },
  {
   "cell_type": "markdown",
   "id": "f1d4f4b2",
   "metadata": {},
   "source": [
    "## Paper replication"
   ]
  },
  {
   "cell_type": "markdown",
   "id": "965af87f",
   "metadata": {},
   "source": [
    "Having our cohort is ready, we will now proceed to reproduce the MRI-based results of the paper."
   ]
  },
  {
   "cell_type": "markdown",
   "id": "acda21fe",
   "metadata": {},
   "source": [
    "## Image Processing"
   ]
  },
  {
   "cell_type": "markdown",
   "id": "7a4e5d96",
   "metadata": {},
   "source": [
    "The authors conducted cortical reconstruction and volumetric segmentation on the MRI data using the Freesurfer 5.3 image analysis software, following standard procedures.\n",
    "\n",
    "The initial processing of T1 MRI images for each subject at each time point (baseline and follow-up) involves the following steps: \n",
    "* removal of non-brain tissue\n",
    "* transformation using the Talairach method\n",
    "* segmentation of subcortical white matter and deep grey matter structures\n",
    "* normalization of intensity, tessellation of the grey matter/white matter boundary\n",
    "* correction of topology\n",
    "* surface deformation to correctly position the grey matter/white matter and grey matter/CSF boundaries.\n",
    "\n",
    "Since there is already PPMI image processed with Freesurfer 6.0.1 on the BIC server, we will start the volumetric analysis of subcortical structures from there."
   ]
  },
  {
   "cell_type": "markdown",
   "id": "8c709f91",
   "metadata": {},
   "source": [
    "### Subcortical Structures\n",
    "\n",
    "\n",
    "The mapping between <code>EVENT_ID</code> and <code>session_id</code> is as follows:\n",
    "\n",
    "\n",
    "| Session | EVENT_ID |\n",
    "|:---|:---|\n",
    "|1\t| Baseline |\n",
    "|5\t| Month 12 |\n",
    "|7\t| Month 24 |\n",
    "|11\t| Month 48 |\n",
    "\n"
   ]
  },
  {
   "cell_type": "code",
   "execution_count": 31,
   "id": "ebea7071",
   "metadata": {},
   "outputs": [
    {
     "name": "stdout",
     "output_type": "stream",
     "text": [
      "cohort.csv available at /Users/andrzej/Documents/Concordia/replications/mak-etal-2015-main/outputs\n"
     ]
    }
   ],
   "source": [
    "header = [\"PATNO\", \"COGSTATE\", \"EVENT_ID\", \"NEXT_VISIT\"]\n",
    "sessions  = {\"BL\": 1, \"V04\": 5, \"V06\": 7, \"V10\": 11}\n",
    "\n",
    "cohort_df = pd.concat([hc_mix, nc_mix, mci_mix])\n",
    "\n",
    "# Map event_id to session_id\n",
    "cohort_df['EVENT_ID'] = cohort_df['EVENT_ID'].map(sessions)  \n",
    "cohort_df['NEXT_VISIT'] = cohort_df['NEXT_VISIT'].map(sessions)\n",
    "\n",
    "cohort_df.to_csv(os.path.join(outputs_dir, \"cohort.csv\"), columns = header, index=False)\n",
    "print(\"cohort.csv available at\", outputs_dir)"
   ]
  },
  {
   "cell_type": "markdown",
   "id": "eb55c6f4",
   "metadata": {},
   "source": [
    "We will prepare and structure our directory to store the freesurfer data as follows:\n",
    "\n",
    "```\n",
    "mak-etal-2015   \n",
    "└───outputs\n",
    "    │ cohort.csv\n",
    "    │ missing.csv\n",
    "    │\n",
    "    └───freesurfer\n",
    "        └───hc\n",
    "        │   └─── follow-up\n",
    "        │   │      aseg_{id}.stats\n",
    "        │   │      ...\n",
    "        │   │\n",
    "        │   └─── initial\n",
    "        │          aseg_{id}.stats\n",
    "        │          ...\n",
    "        └───pd-mci\n",
    "        │   └─── follow-up\n",
    "        │   │      aseg_{id}.stats\n",
    "        │   │      ...\n",
    "        │   │\n",
    "        │   └─── initial\n",
    "        │          aseg_{id}.stats\n",
    "        │          ...\n",
    "        └───pd-nc\n",
    "            └─── follow-up\n",
    "            │      aseg_{id}.stats\n",
    "            │      ...\n",
    "            │\n",
    "            └─── initial\n",
    "                   aseg_{id}.stats\n",
    "                   ...\n",
    "        \n",
    "\n",
    "```"
   ]
  },
  {
   "cell_type": "code",
   "execution_count": 32,
   "id": "fc801928",
   "metadata": {},
   "outputs": [],
   "source": [
    "cohort_first = cohort_df\n",
    "sessions  = {1: \"BL\", 5: \"V04\", 7: \"V06\", 11: \"V10\"}\n",
    "cohort_first['EVENT_ID'] = cohort_first['EVENT_ID'].map(sessions) \n",
    "cohort_first[\"visit_no\"] = \"first\"\n",
    "\n",
    "second_visit = cohort_df\n",
    "second_visit = second_visit.drop([\"Description\", \"EVENT_ID\"], axis=1)\n",
    "second_visit.rename(\n",
    "    columns={\"Description_NX\": \"Description\", \"EVENT_ID_NX\": \"EVENT_ID\"}, inplace=True\n",
    ")\n",
    "second_visit[\"visit_no\"] = \"second\"\n",
    "download_data = cohort_first.append(second_visit)\n",
    "\n",
    "download_data[\"PATNO_id\"] = (\n",
    "    download_data[\"PATNO\"].astype(str) + \"_\" + download_data[\"visit_no\"]\n",
    ")"
   ]
  },
  {
   "cell_type": "markdown",
   "id": "fec994f2",
   "metadata": {},
   "source": [
    "We will use the LivingPark utils library to download these files from the notebook. If files are already present in the notebook cache, they won't be downloaded again. Otherwise, you will need to enter your PPMI username and password. **In case you don't have a PPMI account, you can request one [here](http://ppmi-info.org).**"
   ]
  },
  {
   "cell_type": "code",
   "execution_count": null,
   "id": "a65a383b",
   "metadata": {
    "scrolled": true
   },
   "outputs": [],
   "source": [
    "# download MRI data\n",
    "utils.download_missing_nifti_files(download_data, link_in_outputs=True)\n",
    "warnings.filterwarnings(\"ignore\")"
   ]
  },
  {
   "cell_type": "markdown",
   "id": "e0394762",
   "metadata": {},
   "source": [
    "Analyses were performed on Compute Canada servers (Advanced Research Computing facilities provided by the Compute Canada Federation). If you don't have Compute Canada account you may be able to request one [here](https://ccdb.computecanada.ca/security/login).\n",
    "\n",
    "Otherwise, please use any other available server or your local machine to run the analyses. You may need to adjust the following code depending on the method you use."
   ]
  },
  {
   "cell_type": "code",
   "execution_count": null,
   "id": "acb5efd5",
   "metadata": {},
   "outputs": [],
   "source": [
    "# upload data to Compute Canada server\n",
    "\n",
    "# please provide the following:\n",
    "hostname = \"\"  # please change to the hostname you use\n",
    "username = \"\"  # please provide your Compute Canada username\n",
    "password = \"\"  # please provide your Compute Canada password\n",
    "\n",
    "from paramiko import SSHClient\n",
    "from scp import SCPClient\n",
    "\n",
    "ssh = SSHClient()\n",
    "ssh.load_system_host_keys()\n",
    "ssh.connect(\n",
    "    hostname=hostname,\n",
    "    username=username,\n",
    "    password=password,\n",
    ")\n",
    "\n",
    "\n",
    "# SCPCLient takes a paramiko transport as its only argument\n",
    "scp = SCPClient(ssh.get_transport())\n",
    "\n",
    "cdir = \".\"\n",
    "scp.put(cdir, \"mak_et_al\", recursive=True)\n",
    "\n",
    "# scp.get('file_path_on_remote_machine', 'file_path_on_local_machine')\n",
    "\n",
    "scp.close()"
   ]
  },
  {
   "cell_type": "markdown",
   "id": "ab49250f",
   "metadata": {},
   "source": [
    "\n",
    "# Preprocessing \n",
    "\n",
    "Data are preprocessed using longitudinal stream implemented in Freesurfer. <a href=https://surfer.nmr.mgh.harvard.edu/fswiki/LongitudinalProcessing> Click here for details.</a> \n",
    "\n",
    "Preprocessing is performed on an external server. <a href=https://github.com/boutiques> Boutiques</a> is used to manage Freesurfer's functions within a container. "
   ]
  },
  {
   "cell_type": "code",
   "execution_count": null,
   "id": "a9faa492",
   "metadata": {},
   "outputs": [],
   "source": [
    "%load_ext slurm_magic"
   ]
  },
  {
   "cell_type": "markdown",
   "id": "1c437144",
   "metadata": {},
   "source": [
    "## preprocessing step 1 - cross-sectional"
   ]
  },
  {
   "cell_type": "code",
   "execution_count": null,
   "id": "b4d2e848",
   "metadata": {},
   "outputs": [],
   "source": [
    "# prepare node for computation. it includes downloading the container\n",
    "\n",
    "! module load singularity\n",
    "\n",
    "from boutiques import bosh\n",
    "\n",
    "zid = \"zenodo.4043546\"\n",
    "bosh([\"exec\", \"prepare\", zid])\n",
    "freesurfer = boutiques.descriptor2func.function(zid)"
   ]
  },
  {
   "cell_type": "code",
   "execution_count": null,
   "id": "8f0224f6",
   "metadata": {},
   "outputs": [],
   "source": [
    "# save df with all timepoints as json\n",
    "\n",
    "import json\n",
    "\n",
    "download_data[\"PATNO_id\"] = download_data[\"PATNO_id\"].astype(str)\n",
    "\n",
    "data_to_process = download_data.reset_index()\n",
    "small_df = data_to_process[[\"PATNO_id\", \"File name\"]]\n",
    "json_data = small_df.to_json()\n",
    "meta = json.loads(json_data)\n",
    "with open(\"json_data.json\", \"w\") as fout:\n",
    "    json.dump(meta, fout, indent=4)"
   ]
  },
  {
   "cell_type": "code",
   "execution_count": null,
   "id": "a00ea991",
   "metadata": {},
   "outputs": [],
   "source": [
    "%%writefile preprocess_FS.py\n",
    "\n",
    "# save proprocessing script to submit jobs to the server later \n",
    "# copy your FreeSurfer license to FS_license/license.txt or update the license path below\n",
    "\n",
    "import os\n",
    "import json\n",
    "\n",
    "import boutiques\n",
    "from boutiques import bosh\n",
    "zid = \"zenodo.4043546\"\n",
    "from boutiques.descriptor2func import function\n",
    "#bosh([\"exec\", \"prepare\", zid])\n",
    "freesurfer = function(zid)\n",
    "\n",
    "task_id = str(os.environ[\"SLURM_ARRAY_TASK_ID\"])\n",
    "\n",
    "with open('json_data.json') as fin:\n",
    "    subject_map = json.load(fin)\n",
    "\n",
    "    \n",
    "out_fs = freesurfer('--imagepath', 'freesurfer-freesurfer-7.1.1.simg.tmp',\n",
    "                                        input=subject_map[\"File name\"][task_id], qcache_flag=True,\n",
    "                                        license=\"FS_license/license.txt\",\n",
    "                                        subjid=str(subject_map[\"PATNO_id\"][task_id]),\n",
    "                                       )\n",
    "\n",
    "#exitcode = out.stdout\n",
    "exitcode = str(out_fs.exit_code)\n",
    "\n",
    "\n",
    "with open('preproc_FS_codes/exitcode_{0}.txt'.format(str(subject_map[\"PATNO_id\"][task_id])), 'w') as f:\n",
    "        f.write(exitcode)"
   ]
  },
  {
   "cell_type": "code",
   "execution_count": null,
   "id": "94d0d462",
   "metadata": {},
   "outputs": [],
   "source": [
    "%%sbatch --array=0-259\n",
    "#!/bin/bash\n",
    "#SBATCH --job-name=FS_preproc\n",
    "#SBATCH --mem=4G\n",
    "#SBATCH --cpus-per-task=2\n",
    "#SBATCH --nodes=1\n",
    "#SBATCH --output=FS_preproc.out\n",
    "#SBATCH --error=FS_preproc.err\n",
    "#SBATCH --time=10:0:0\n",
    "#SBATCH --account=rrg-glatard\n",
    "\n",
    ". venv/bin/activate # opens virtual environment. change depending where you proprocess the data  \n",
    "\n",
    "module load singularity\n",
    "\n",
    "python preprocess_FS.py"
   ]
  },
  {
   "cell_type": "markdown",
   "id": "03617251",
   "metadata": {},
   "source": [
    "## preprocessing step 2 - base template"
   ]
  },
  {
   "cell_type": "code",
   "execution_count": null,
   "id": "382b21a8",
   "metadata": {},
   "outputs": [],
   "source": [
    "# save df with a single input for each subject as json\n",
    "\n",
    "import json\n",
    "\n",
    "download_data[\"PATNO\"] = download_data[\"PATNO\"].astype(str)\n",
    "\n",
    "data_to_process = download_data.reset_index()\n",
    "small_df = data_to_process[[\"PATNO\"]]\n",
    "small_df = small_df.drop_duplicates()\n",
    "json_data = small_df.to_json()\n",
    "meta = json.loads(json_data)\n",
    "with open(\"json_data_base.json\", \"w\") as fout:\n",
    "    json.dump(meta, fout, indent=4)"
   ]
  },
  {
   "cell_type": "code",
   "execution_count": null,
   "id": "52ff1b19",
   "metadata": {},
   "outputs": [],
   "source": [
    "%%writefile preprocess_FS_base.py\n",
    "\n",
    "# Step 2. create an unbiased template from all time points for each subject and process it with recon-all:\n",
    "\n",
    "import os\n",
    "import json\n",
    "\n",
    "import boutiques\n",
    "from boutiques import bosh\n",
    "zid = \"zenodo.7332026\"\n",
    "from boutiques.descriptor2func import function\n",
    "#bosh([\"exec\", \"prepare\", zid])\n",
    "freesurfer = function(zid)\n",
    "\n",
    "task_id = str(os.environ[\"SLURM_ARRAY_TASK_ID\"])\n",
    "\n",
    "with open('json_data_base.json') as fin:\n",
    "    subject_map = json.load(fin)\n",
    "\n",
    "out_fs = freesurfer('--imagepath', '/home/sokol/projects/rrg-glatard/sokol/mak/freesurfer-freesurfer-7.1.1.simg.tmp',\n",
    "                                        tp1=str(subject_map[\"PATNO\"][task_id]) + \"_first\",\n",
    "                                        tp2=str(subject_map[\"PATNO\"][task_id]) + \"_second\",\n",
    "                                        license=\"FS_license/license.txt\",\n",
    "                                        outputdir=str(subject_map[\"PATNO\"][task_id]) + \"_base\",\n",
    "                                       )"
   ]
  },
  {
   "cell_type": "code",
   "execution_count": null,
   "id": "40bc0403",
   "metadata": {},
   "outputs": [],
   "source": [
    "%%sbatch --array=0-130\n",
    "#!/bin/bash\n",
    "#SBATCH --job-name=FS_preproc\n",
    "#SBATCH --mem=4G\n",
    "#SBATCH --cpus-per-task=2\n",
    "#SBATCH --nodes=1\n",
    "#SBATCH --output=FS_preproc_base.out\n",
    "#SBATCH --error=FS_preproc_base.err\n",
    "#SBATCH --time=10:0:0\n",
    "#SBATCH --account=rrg-glatard\n",
    "\n",
    ". venv/bin/activate # opens virtual environment. change depending where you proprocess the data  \n",
    "\n",
    "module load singularity\n",
    "\n",
    "python preprocess_FS_base.py"
   ]
  },
  {
   "cell_type": "markdown",
   "id": "8b5cb035",
   "metadata": {},
   "source": [
    "## preprocessing step 3 - longitudinally processed timepoints"
   ]
  },
  {
   "cell_type": "code",
   "execution_count": null,
   "id": "e3ca5539",
   "metadata": {},
   "outputs": [],
   "source": [
    "# prepare node for computation\n",
    "# this should be run on a server connected to the internet\n",
    "\n",
    "! module load singularity\n",
    "\n",
    "import boutiques\n",
    "from boutiques import bosh\n",
    "\n",
    "zid = \"zenodo.7339689\"\n",
    "# bosh([\"exec\", \"prepare\", zid])\n",
    "freesurfer = boutiques.descriptor2func.function(zid)"
   ]
  },
  {
   "cell_type": "code",
   "execution_count": null,
   "id": "56de0435",
   "metadata": {},
   "outputs": [],
   "source": [
    "# save df with all timepoints and base as json\n",
    "\n",
    "import json\n",
    "\n",
    "download_data[\"PATNO\"] = download_data[\"PATNO\"].astype(str)\n",
    "download_data[\"PATNO_base\"] = download_data[\"PATNO\"] + \"_base\"\n",
    "download_data[\"PATNO_base\"] = download_data[\"PATNO_base\"].astype(str)\n",
    "\n",
    "data_to_process = download_data.reset_index()\n",
    "small_df = data_to_process[[\"PATNO_id\", \"PATNO_base\"]]\n",
    "json_data = small_df.to_json()\n",
    "meta = json.loads(json_data)\n",
    "\n",
    "with open(\"json_data_long.json\", \"w\") as fout:\n",
    "    json.dump(meta, fout, indent=4)"
   ]
  },
  {
   "cell_type": "code",
   "execution_count": null,
   "id": "1c404b4e",
   "metadata": {},
   "outputs": [],
   "source": [
    "%%writefile preprocess_FS_long.py\n",
    "\n",
    "# Step 3. \"-long\" longitudinally process all timepoints (recon-all -long):\n",
    "\n",
    "import os\n",
    "import json\n",
    "\n",
    "import boutiques\n",
    "from boutiques import bosh\n",
    "zid = \"zenodo.7339689\"\n",
    "from boutiques.descriptor2func import function\n",
    "#bosh([\"exec\", \"prepare\", zid])\n",
    "freesurfer = function(zid)\n",
    "\n",
    "task_id = str(os.environ[\"SLURM_ARRAY_TASK_ID\"])\n",
    "\n",
    "with open('json_data_long.json') as fin:\n",
    "    subject_map = json.load(fin)\n",
    "\n",
    "out_fs = freesurfer('--imagepath', 'freesurfer-freesurfer-7.1.1.simg.tmp',\n",
    "                                        tp=subject_map[\"PATNO_id\"][task_id],\n",
    "                                        base=subject_map[\"PATNO_base\"][task_id],\n",
    "                                        license=\"FS_license/license.txt\",\n",
    "                                       )"
   ]
  },
  {
   "cell_type": "code",
   "execution_count": null,
   "id": "0cbe779d",
   "metadata": {},
   "outputs": [],
   "source": [
    "%%sbatch --array=0-259\n",
    "#!/bin/bash\n",
    "#SBATCH --job-name=FS_preproc\n",
    "#SBATCH --mem=4G\n",
    "#SBATCH --cpus-per-task=2\n",
    "#SBATCH --nodes=1\n",
    "#SBATCH --output=FS_preproc_long.out\n",
    "#SBATCH --error=FS_preproc_long.err\n",
    "#SBATCH --time=10:0:0\n",
    "#SBATCH --account=rrg-glatard\n",
    "\n",
    ". venv/bin/activate # opens virtual environment. change depending where you proprocess the data  \n",
    "\n",
    "module load singularity\n",
    "\n",
    "python preprocess_FS_long.py"
   ]
  },
  {
   "cell_type": "markdown",
   "id": "008f3762",
   "metadata": {},
   "source": [
    "## preprocessing step 4 - Qcache"
   ]
  },
  {
   "cell_type": "code",
   "execution_count": null,
   "id": "79594667",
   "metadata": {},
   "outputs": [],
   "source": [
    "%%writefile preprocess_FS_long_qcache.py\n",
    "\n",
    "# save proprocessing script to submit jobs to the server later \n",
    "\n",
    "import os\n",
    "import json\n",
    "\n",
    "import boutiques\n",
    "from boutiques import bosh\n",
    "zid = \"zenodo.7343403\"\n",
    "from boutiques.descriptor2func import function\n",
    "#bosh([\"exec\", \"prepare\", zid])\n",
    "freesurfer = function(zid)\n",
    "\n",
    "task_id = str(os.environ[\"SLURM_ARRAY_TASK_ID\"])\n",
    "\n",
    "with open('json_data_long.json') as fin:\n",
    "    subject_map = json.load(fin)\n",
    "\n",
    "    \n",
    "out_fs = freesurfer('--imagepath', 'freesurfer-freesurfer-7.1.1.simg.tmp',\n",
    "                                        tp=subject_map[\"PATNO_id\"][task_id],\n",
    "                                        base=subject_map[\"PATNO_base\"][task_id],\n",
    "                                        license=\"FS_license/license.txt\",\n",
    "                                       )"
   ]
  },
  {
   "cell_type": "code",
   "execution_count": null,
   "id": "7927f9ac",
   "metadata": {},
   "outputs": [],
   "source": [
    "%%sbatch --array=0-259\n",
    "#!/bin/bash\n",
    "#SBATCH --job-name=FS_preproc_longQcache\n",
    "#SBATCH --mem=4G\n",
    "#SBATCH --cpus-per-task=2\n",
    "#SBATCH --nodes=1\n",
    "#SBATCH --output=FS_preproc_longQcache.out\n",
    "#SBATCH --error=FS_preproc_longQcache.err\n",
    "#SBATCH --time=2:0:0\n",
    "\n",
    ". venv/bin/activate # opens virtual environment. change depending where you proprocess the data  \n",
    "\n",
    "module load singularity\n",
    "\n",
    "python preprocess_FS_long_qcache.py"
   ]
  },
  {
   "cell_type": "code",
   "execution_count": null,
   "id": "c09428f6",
   "metadata": {},
   "outputs": [],
   "source": [
    "import shutil\n",
    "\n",
    "# organize the data for each group \n",
    "\n",
    "for idx, x in enumerate([hc_mix, nc_mix, mci_mix]):\n",
    "    if idx == 0:\n",
    "        group = \"hc\"\n",
    "    elif idx == 1:\n",
    "        group = \"pd-nc\"\n",
    "    elif idx == 2:\n",
    "        group = \"pd-mci\"\n",
    "        \n",
    "    for pat in x[\"PATNO\"]:\n",
    "        for ses in [\"first\", \"second\"]:\n",
    "\n",
    "            os.makedirs('{group}/{ses}/{pat}/stats'.format(pat = pat, ses=ses, group=group), exist_ok=True)\n",
    "            shutil.copy('{pat}_{ses}.long.{pat}_base/stats/aseg.stats'.format(pat = pat, ses=ses), '{group}/{ses}/aseg-{pat}.stats'.format(pat = pat, ses=ses, group=group))\n",
    "        "
   ]
  },
  {
   "cell_type": "markdown",
   "id": "be53bcaa",
   "metadata": {},
   "source": [
    "## Image quality control"
   ]
  },
  {
   "cell_type": "code",
   "execution_count": null,
   "id": "0c0156d9",
   "metadata": {},
   "outputs": [],
   "source": [
    "import imageio as iio\n",
    "from pathlib import Path\n",
    "\n",
    "for view in [\"axial\", \"sagittal\", \"coronal\"]:\n",
    "    images = list()\n",
    "    for file in Path(\"segm/baseline/{view}\".format(view=view)).iterdir():\n",
    "        if not file.is_file():\n",
    "            continue\n",
    "\n",
    "        images.append(iio.imread(file))\n",
    "        iio.mimsave(\"segm_baseline_{view}.gif\".format(view=view), images, duration=1)"
   ]
  },
  {
   "cell_type": "code",
   "execution_count": null,
   "id": "78b355d9",
   "metadata": {},
   "outputs": [],
   "source": [
    "import imageio as iio\n",
    "from pathlib import Path\n",
    "\n",
    "for view in [\"axial\", \"sagittal\", \"coronal\"]:\n",
    "    images = list()\n",
    "    for file in Path(\"segm/{view}\".format(view=view)).iterdir():\n",
    "        if not file.is_file():\n",
    "            continue\n",
    "\n",
    "        images.append(iio.imread(file))\n",
    "        iio.mimsave(\"segm_long_{view}.gif\".format(view=view), images, duration=1)"
   ]
  },
  {
   "cell_type": "markdown",
   "id": "19a85de3",
   "metadata": {},
   "source": [
    "## Axial - baseline\n",
    "\n",
    "![SegmentLocal](images/segm_baseline_axial.gif \"segment\")"
   ]
  },
  {
   "cell_type": "markdown",
   "id": "5ba1968a",
   "metadata": {},
   "source": [
    "## Coronal - baseline\n",
    "\n",
    "![SegmentLocal](images/segm_baseline_coronal.gif \"segment\")"
   ]
  },
  {
   "cell_type": "markdown",
   "id": "0da5cfd5",
   "metadata": {},
   "source": [
    "## Sagittal - baseline\n",
    "\n",
    "![SegmentLocal](images/segm_baseline_sagittal.gif \"segment\")"
   ]
  },
  {
   "cell_type": "markdown",
   "id": "d7d5a6eb",
   "metadata": {},
   "source": [
    "## Axial - longitudinal\n",
    "\n",
    "![SegmentLocal](images/segm_long_axial.gif \"segment\")"
   ]
  },
  {
   "cell_type": "markdown",
   "id": "9500e88c",
   "metadata": {},
   "source": [
    "## Coronal - longitudinal\n",
    "\n",
    "![SegmentLocal](images/segm_long_coronal.gif \"segment\")"
   ]
  },
  {
   "cell_type": "markdown",
   "id": "4ba3e428",
   "metadata": {},
   "source": [
    "## Sagittal - longitudinal\n",
    "\n",
    "![SegmentLocal](images/segm_long_sagittal.gif \"segment\")"
   ]
  },
  {
   "cell_type": "markdown",
   "id": "2ed50b2c",
   "metadata": {},
   "source": [
    "### Subcortical Structures volume computation\n"
   ]
  },
  {
   "cell_type": "markdown",
   "id": "c3abcc14",
   "metadata": {},
   "source": [
    "Now that we have all the information that we need, we can use \"Volume_mm3\" (TableCol  4 ColHeader) and \"StructName\" (TableCol  5 ColHeader) from <code>aseg.stats</code> to compute the change in volumes for each hemisphere of the following subcortical structures: \n",
    "* thalamus\n",
    "* caudate\n",
    "* putamen\n",
    "* pallidum\n",
    "* hippocampus\n",
    "* amygdala\n",
    "* nucleus accumben,\n",
    "\n",
    "using this formula, $\\frac{volume_{follow-up} - volume_{baseline}}{volume_{baseline}} \\times 100$.\n",
    "\n",
    "\n",
    "\n",
    "The table below presents the baseline comparisons of left and right subcortical structures, as well as the percentage change in their volumes between baseline and follow-up."
   ]
  },
  {
   "cell_type": "code",
   "execution_count": 33,
   "id": "f516e70d",
   "metadata": {},
   "outputs": [
    {
     "data": {
      "text/html": [
       "<div>\n",
       "<style scoped>\n",
       "    .dataframe tbody tr th:only-of-type {\n",
       "        vertical-align: middle;\n",
       "    }\n",
       "\n",
       "    .dataframe tbody tr th {\n",
       "        vertical-align: top;\n",
       "    }\n",
       "\n",
       "    .dataframe thead tr th {\n",
       "        text-align: left;\n",
       "    }\n",
       "\n",
       "    .dataframe thead tr:last-of-type th {\n",
       "        text-align: right;\n",
       "    }\n",
       "</style>\n",
       "<table border=\"1\" class=\"dataframe\">\n",
       "  <thead>\n",
       "    <tr>\n",
       "      <th></th>\n",
       "      <th></th>\n",
       "      <th colspan=\"2\" halign=\"left\">Healthy Controls</th>\n",
       "      <th colspan=\"2\" halign=\"left\">PD-NC</th>\n",
       "      <th colspan=\"2\" halign=\"left\">PD-MCI</th>\n",
       "    </tr>\n",
       "    <tr>\n",
       "      <th></th>\n",
       "      <th></th>\n",
       "      <th>VOL</th>\n",
       "      <th>% CHANGE</th>\n",
       "      <th>VOL</th>\n",
       "      <th>% CHANGE</th>\n",
       "      <th>VOL</th>\n",
       "      <th>% CHANGE</th>\n",
       "    </tr>\n",
       "    <tr>\n",
       "      <th>HEM</th>\n",
       "      <th>STRUCT</th>\n",
       "      <th></th>\n",
       "      <th></th>\n",
       "      <th></th>\n",
       "      <th></th>\n",
       "      <th></th>\n",
       "      <th></th>\n",
       "    </tr>\n",
       "  </thead>\n",
       "  <tbody>\n",
       "    <tr>\n",
       "      <th rowspan=\"7\" valign=\"top\">Left</th>\n",
       "      <th>Thalamus</th>\n",
       "      <td>7.154200</td>\n",
       "      <td>-1.021622</td>\n",
       "      <td>7.305480</td>\n",
       "      <td>-0.686364</td>\n",
       "      <td>7.131541</td>\n",
       "      <td>-0.600000</td>\n",
       "    </tr>\n",
       "    <tr>\n",
       "      <th>Caudate</th>\n",
       "      <td>3.550954</td>\n",
       "      <td>-1.075676</td>\n",
       "      <td>3.506705</td>\n",
       "      <td>-0.498485</td>\n",
       "      <td>3.563893</td>\n",
       "      <td>0.192593</td>\n",
       "    </tr>\n",
       "    <tr>\n",
       "      <th>Putamen</th>\n",
       "      <td>4.962257</td>\n",
       "      <td>-1.189189</td>\n",
       "      <td>4.916405</td>\n",
       "      <td>-0.048485</td>\n",
       "      <td>4.822570</td>\n",
       "      <td>0.200000</td>\n",
       "    </tr>\n",
       "    <tr>\n",
       "      <th>Pallidum</th>\n",
       "      <td>2.063378</td>\n",
       "      <td>-0.900000</td>\n",
       "      <td>2.063986</td>\n",
       "      <td>-0.539394</td>\n",
       "      <td>2.122256</td>\n",
       "      <td>1.170370</td>\n",
       "    </tr>\n",
       "    <tr>\n",
       "      <th>Hippocampus</th>\n",
       "      <td>3.970173</td>\n",
       "      <td>-0.640541</td>\n",
       "      <td>4.031023</td>\n",
       "      <td>-0.910606</td>\n",
       "      <td>3.906489</td>\n",
       "      <td>-0.955556</td>\n",
       "    </tr>\n",
       "    <tr>\n",
       "      <th>Amygdala</th>\n",
       "      <td>1.648811</td>\n",
       "      <td>-0.370270</td>\n",
       "      <td>1.676818</td>\n",
       "      <td>-0.677273</td>\n",
       "      <td>1.542996</td>\n",
       "      <td>-1.740741</td>\n",
       "    </tr>\n",
       "    <tr>\n",
       "      <th>Accumbens-area</th>\n",
       "      <td>0.483378</td>\n",
       "      <td>-1.178378</td>\n",
       "      <td>0.489697</td>\n",
       "      <td>0.212121</td>\n",
       "      <td>0.448178</td>\n",
       "      <td>4.677778</td>\n",
       "    </tr>\n",
       "    <tr>\n",
       "      <th rowspan=\"7\" valign=\"top\">Right</th>\n",
       "      <th>Thalamus</th>\n",
       "      <td>7.388392</td>\n",
       "      <td>-1.424324</td>\n",
       "      <td>7.471488</td>\n",
       "      <td>-0.342424</td>\n",
       "      <td>7.313437</td>\n",
       "      <td>-0.374074</td>\n",
       "    </tr>\n",
       "    <tr>\n",
       "      <th>Caudate</th>\n",
       "      <td>3.640335</td>\n",
       "      <td>-1.459459</td>\n",
       "      <td>3.606620</td>\n",
       "      <td>-0.992424</td>\n",
       "      <td>3.662493</td>\n",
       "      <td>0.011111</td>\n",
       "    </tr>\n",
       "    <tr>\n",
       "      <th>Putamen</th>\n",
       "      <td>4.975916</td>\n",
       "      <td>-0.924324</td>\n",
       "      <td>4.948556</td>\n",
       "      <td>-0.542424</td>\n",
       "      <td>4.804389</td>\n",
       "      <td>1.155556</td>\n",
       "    </tr>\n",
       "    <tr>\n",
       "      <th>Pallidum</th>\n",
       "      <td>1.889468</td>\n",
       "      <td>0.286486</td>\n",
       "      <td>1.914836</td>\n",
       "      <td>0.880303</td>\n",
       "      <td>1.995444</td>\n",
       "      <td>1.262963</td>\n",
       "    </tr>\n",
       "    <tr>\n",
       "      <th>Hippocampus</th>\n",
       "      <td>4.044184</td>\n",
       "      <td>-0.881081</td>\n",
       "      <td>4.133721</td>\n",
       "      <td>-0.924242</td>\n",
       "      <td>4.022593</td>\n",
       "      <td>-1.707407</td>\n",
       "    </tr>\n",
       "    <tr>\n",
       "      <th>Amygdala</th>\n",
       "      <td>1.791932</td>\n",
       "      <td>-0.259459</td>\n",
       "      <td>1.849459</td>\n",
       "      <td>-0.313636</td>\n",
       "      <td>1.754093</td>\n",
       "      <td>-1.355556</td>\n",
       "    </tr>\n",
       "    <tr>\n",
       "      <th>Accumbens-area</th>\n",
       "      <td>0.574389</td>\n",
       "      <td>-0.386486</td>\n",
       "      <td>0.589242</td>\n",
       "      <td>-0.303030</td>\n",
       "      <td>0.530689</td>\n",
       "      <td>1.974074</td>\n",
       "    </tr>\n",
       "  </tbody>\n",
       "</table>\n",
       "</div>"
      ],
      "text/plain": [
       "                     Healthy Controls               PD-NC              PD-MCI  \\\n",
       "                                  VOL  % CHANGE       VOL  % CHANGE       VOL   \n",
       "HEM   STRUCT                                                                    \n",
       "Left  Thalamus               7.154200 -1.021622  7.305480 -0.686364  7.131541   \n",
       "      Caudate                3.550954 -1.075676  3.506705 -0.498485  3.563893   \n",
       "      Putamen                4.962257 -1.189189  4.916405 -0.048485  4.822570   \n",
       "      Pallidum               2.063378 -0.900000  2.063986 -0.539394  2.122256   \n",
       "      Hippocampus            3.970173 -0.640541  4.031023 -0.910606  3.906489   \n",
       "      Amygdala               1.648811 -0.370270  1.676818 -0.677273  1.542996   \n",
       "      Accumbens-area         0.483378 -1.178378  0.489697  0.212121  0.448178   \n",
       "Right Thalamus               7.388392 -1.424324  7.471488 -0.342424  7.313437   \n",
       "      Caudate                3.640335 -1.459459  3.606620 -0.992424  3.662493   \n",
       "      Putamen                4.975916 -0.924324  4.948556 -0.542424  4.804389   \n",
       "      Pallidum               1.889468  0.286486  1.914836  0.880303  1.995444   \n",
       "      Hippocampus            4.044184 -0.881081  4.133721 -0.924242  4.022593   \n",
       "      Amygdala               1.791932 -0.259459  1.849459 -0.313636  1.754093   \n",
       "      Accumbens-area         0.574389 -0.386486  0.589242 -0.303030  0.530689   \n",
       "\n",
       "                                \n",
       "                      % CHANGE  \n",
       "HEM   STRUCT                    \n",
       "Left  Thalamus       -0.600000  \n",
       "      Caudate         0.192593  \n",
       "      Putamen         0.200000  \n",
       "      Pallidum        1.170370  \n",
       "      Hippocampus    -0.955556  \n",
       "      Amygdala       -1.740741  \n",
       "      Accumbens-area  4.677778  \n",
       "Right Thalamus       -0.374074  \n",
       "      Caudate         0.011111  \n",
       "      Putamen         1.155556  \n",
       "      Pallidum        1.262963  \n",
       "      Hippocampus    -1.707407  \n",
       "      Amygdala       -1.355556  \n",
       "      Accumbens-area  1.974074  "
      ]
     },
     "execution_count": 33,
     "metadata": {},
     "output_type": "execute_result"
    }
   ],
   "source": [
    "# Utility functions to compute volume changes\n",
    "\n",
    "structName = ['Thalamus', 'Caudate', 'Putamen', 'Pallidum', 'Hippocampus', 'Amygdala', 'Accumbens-area']\n",
    "\n",
    "Item = namedtuple('Item', ['PATNO', 'COGSTATE', 'Age', 'Sex', 'Education', 'Hemisphere','StructName', 'Volumes', 'TIVs'])\n",
    "\n",
    "visit = ['first','second']\n",
    "\n",
    "warnings.filterwarnings(\"ignore\")\n",
    "\n",
    "# returns a list from the iterator that produces a tuple for each combination of elements from sub_id and visit. \n",
    "def visits(sub_id, visit):\n",
    "    return list(product(sub_id, visit))\n",
    "\n",
    "\n",
    "# returns a df with columns [PATNO, COGSTATE, AGE, SEX, EDUCYRS, HEM, STRUCT, VOL, VOL_NX, TIV, TIV_NX, % CHANGE]\n",
    "def subcortical_volume(sub_id, cogstate, df):\n",
    "    \n",
    "    def find_item(sub_id, struct):\n",
    "        for i in items:\n",
    "            if i.PATNO == sub_id and (i.Hemisphere +'-'+ i.StructName) == struct:\n",
    "                return i \n",
    "\n",
    "    items = [] \n",
    "    \n",
    "    lines = []\n",
    "    \n",
    "    event = visits(sub_id, visit)\n",
    "\n",
    "    for i in event:\n",
    "        freesurfer_dir = '/Users/andrzej/Documents/Concordia/replications/mak-etal-2015-main/' + cogstate + '/' + i[1] \n",
    "        try:\n",
    "            with open(os.path.join(freesurfer_dir, \"aseg-\" + str(i[0]) + \".stats\")) as f:\n",
    "                lines = f.readlines()\n",
    "                \n",
    "                if cogstate == \"hc\":\n",
    "                    cog = 0\n",
    "                else:\n",
    "                    cog = df.loc[df.PATNO==i[0], 'COGSTATE'].values[0]\n",
    "                    \n",
    "                tiv = lines[30].strip().split(',')[-2]\n",
    "                age = df.loc[df.PATNO==i[0], 'AGE_AT_VISIT'].values[0]\n",
    "                sex = df.loc[df.PATNO==i[0], 'SEX'].values[0]\n",
    "                educ = df.loc[df.PATNO==i[0], 'EDUCYRS'].values[0]\n",
    "                \n",
    "                for line in lines[80:]:\n",
    "                    line = line.strip().split()           \n",
    "                    name = line[4]\n",
    "                    volume = line[3]\n",
    "                    if i[1] == \"second\":\n",
    "                        init = find_item(i[0], name)\n",
    "                        if init is not None:\n",
    "                            init.Volumes.append(volume)\n",
    "                            init.TIVs.append(tiv)\n",
    "                    else:        \n",
    "                        if 'Left' in name:\n",
    "                            items.append(Item(i[0], cog, age, sex, educ, 'Left', name[5:], [volume], [tiv]))\n",
    "                        elif 'Right' in name:\n",
    "                            items.append(Item(i[0], cog, age, sex, educ, 'Right', name[6:], [volume], [tiv]))\n",
    "        except:\n",
    "            print(os.path.join(freesurfer_dir, \"aseg-\" + str(i[0]) + \".stats\") + \" not found\")\n",
    "\n",
    "    subcortical_seg = pd.DataFrame.from_records(items, columns=['PATNO', 'COGSTATE', 'AGE', 'SEX', 'EDUCYRS', 'HEM', 'STRUCT', 'VOLS', 'TIVS'])\n",
    "    subcortical_seg = subcortical_seg[subcortical_seg[\"STRUCT\"].isin(structName)]\n",
    "    subcortical_seg.reset_index(inplace=True, drop=True)\n",
    "\n",
    "    vol = pd.DataFrame(subcortical_seg['VOLS'].to_list(), columns=['VOL','VOL_NX'])\n",
    "    tiv = pd.DataFrame(subcortical_seg['TIVS'].to_list(), columns=['TIV','TIV_NX'])\n",
    "\n",
    "    subcortical_seg = pd.concat([subcortical_seg, vol], axis=1) \n",
    "    subcortical_seg.drop(columns=['VOLS'], inplace=True)\n",
    "    \n",
    "    subcortical_seg = pd.concat([subcortical_seg, tiv], axis=1) \n",
    "    subcortical_seg.drop(columns=['TIVS'], inplace=True)\n",
    "\n",
    "    subcortical_seg['VOL'] = subcortical_seg['VOL'].map(lambda x: float(x)/1000)\n",
    "    subcortical_seg['VOL_NX'] = subcortical_seg['VOL_NX'].map(lambda x: float(x)/1000)\n",
    "    \n",
    "    subcortical_seg['TIV'] = subcortical_seg['TIV'].map(lambda x: float(x)/1000)\n",
    "    subcortical_seg['TIV_NX'] = subcortical_seg['TIV_NX'].map(lambda x: float(x)/1000)\n",
    "    subcortical_seg['TIV_mean'] = (subcortical_seg['TIV'] + subcortical_seg['TIV_NX']) / 2\n",
    "\n",
    "    subcortical_seg['% CHANGE'] = round(((subcortical_seg['VOL_NX'] - subcortical_seg['VOL']) \n",
    "                                            / subcortical_seg['VOL']) * 100, 1)\n",
    "    return subcortical_seg\n",
    "\n",
    "# returns a df to compare volumes between HC, PD-NC and PD-MCI\n",
    "def compare_subcortical_volume(hc_vol_df, nc_vol_df, mci_vol_df):\n",
    "    # Healthy controls\n",
    "    hc_vol_df = hc_vol_df.groupby(['HEM', 'STRUCT'], sort=False).agg({'VOL': np.mean, '% CHANGE': np.mean})\n",
    "    hc_cols = pd.MultiIndex.from_tuples([(\"Healthy Controls\", \"VOL\"),\n",
    "                                      (\"Healthy Controls\", \"% CHANGE\")])\n",
    "    hc_vol_df.columns = hc_cols\n",
    "    \n",
    "    # PD-NC\n",
    "    nc_vol_df = nc_vol_df.groupby(['HEM', 'STRUCT'], sort=False).agg({'VOL': np.mean,'% CHANGE': np.mean})\n",
    "    nc_cols = pd.MultiIndex.from_tuples([(\"PD-NC\", \"VOL\"), \n",
    "                                      (\"PD-NC\", \"% CHANGE\")])\n",
    "    nc_vol_df.columns = nc_cols\n",
    "    \n",
    "    # PD-MCI\n",
    "    mci_vol_df = mci_vol_df.groupby(['HEM', 'STRUCT'], sort=False).agg({'VOL': np.mean,'% CHANGE': np.mean})\n",
    "    mci_cols = pd.MultiIndex.from_tuples([(\"PD-MCI\", \"VOL\"), \n",
    "                                      (\"PD-MCI\", \"% CHANGE\")])\n",
    "    mci_vol_df.columns = mci_cols\n",
    "    \n",
    "    # merge all three df together\n",
    "    return hc_vol_df.join(nc_vol_df).join(mci_vol_df)\n",
    "\n",
    "# performs analysis of covariance and  post-hoc Tukey-Kramer pairwise comparison - % change\n",
    "def ancova_and_post_hoc_change(df1, df2, df3, struct, hem):\n",
    "    df1 = df1.loc[(hc_vol['STRUCT'] == struct) & (hc_vol['HEM'] == hem)]\n",
    "    df2 = df2.loc[(nc_vol['STRUCT'] == struct) & (nc_vol['HEM'] == hem)]\n",
    "    df3 = df3.loc[(mci_vol['STRUCT'] == struct) & (mci_vol['HEM'] == hem)]\n",
    "\n",
    "    frames = [df1, df2, df3]\n",
    "\n",
    "    result = pd.concat(frames)\n",
    "    \n",
    "    print(hem, struct, ':')\n",
    "    \n",
    "#    print(ancova(data=result, dv='% CHANGE', covar=['AGE', 'SEX', 'EDUCYRS','TIV','TIV_NX'], between='COGSTATE'), \"\\n\")\n",
    "    print(ancova(data=result, dv='% CHANGE', covar=['AGE', 'SEX', 'EDUCYRS','TIV_mean'], between='COGSTATE'), \"\\n\")\n",
    "\n",
    "    tukey = pairwise_tukeyhsd(endog=result['% CHANGE'],\n",
    "                          groups=result['COGSTATE'],\n",
    "                          alpha=0.05)\n",
    "   \n",
    "    print(tukey, \"\\n\")\n",
    "    \n",
    "    return\n",
    "\n",
    "# performs analysis of covariance and  post-hoc Tukey-Kramer pairwise comparison - baseline volume\n",
    "def ancova_and_post_hoc_baseline(df1, df2, df3, struct, hem):\n",
    "    df1 = df1.loc[(hc_vol['STRUCT'] == struct) & (hc_vol['HEM'] == hem)]\n",
    "    df2 = df2.loc[(nc_vol['STRUCT'] == struct) & (nc_vol['HEM'] == hem)]\n",
    "    df3 = df3.loc[(mci_vol['STRUCT'] == struct) & (mci_vol['HEM'] == hem)]\n",
    "\n",
    "    frames = [df1, df2, df3]\n",
    "\n",
    "    result = pd.concat(frames)\n",
    "    \n",
    "    print(hem, struct, ':')\n",
    "    \n",
    "#    print(ancova(data=result, dv='VOL', covar=['AGE', 'SEX', 'EDUCYRS','TIV','TIV_NX'], between='COGSTATE'), \"\\n\")\n",
    "    print(ancova(data=result, dv='VOL', covar=['AGE', 'SEX', 'EDUCYRS','TIV_mean'], between='COGSTATE'), \"\\n\")\n",
    "\n",
    "    tukey = pairwise_tukeyhsd(endog=result['VOL'],\n",
    "                          groups=result['COGSTATE'],\n",
    "                          alpha=0.05)\n",
    "   \n",
    "    print(tukey, \"\\n\")\n",
    "    \n",
    "    return\n",
    "\n",
    "# Remove missing data before proceeding\n",
    "\n",
    "missing_hc_pat = []\n",
    "missing_nc_pat = []\n",
    "missing_mci_pat = []\n",
    "\n",
    "filtered_hc = [hc_id for hc_id in hc_mix['PATNO'].to_list() if hc_id not in missing_hc_pat]\n",
    "filtered_nc = [nc_id for nc_id in nc_mix['PATNO'].to_list() if nc_id not in missing_nc_pat]\n",
    "filtered_mci = [mci_id for mci_id in mci_mix['PATNO'].to_list() if mci_id not in missing_mci_pat]\n",
    "\n",
    "# Generate volume df for HC, PD-NC, PD-MCI\n",
    "hc_vol = subcortical_volume(filtered_hc, \"hc\", hc_mix)\n",
    "nc_vol = subcortical_volume(filtered_nc, \"pd-nc\", nc_mix)\n",
    "mci_vol = subcortical_volume(filtered_mci, \"pd-mci\", mci_mix)\n",
    "\n",
    "# Generate df to compare volumes between HC, PD-NC and PD-MCI\n",
    "compare_subcortical_volume(hc_vol, nc_vol, mci_vol)\n"
   ]
  },
  {
   "cell_type": "markdown",
   "id": "b2e8d6d0",
   "metadata": {},
   "source": [
    "<em>Values are expressed as mean.</em>"
   ]
  },
  {
   "cell_type": "markdown",
   "id": "f30acd54",
   "metadata": {},
   "source": [
    "### Volumetric analysis of subcortical structures\n",
    "\n",
    "To assess group differences in the percentage change of subcortical volumes, the analysis of covariance (ANCOVA) was used while controlling for age, gender, education, and the average of total intracranial volumes at both time points. Pairwise comparisons between each group were then conducted using the Tukey-Kramer method.\n",
    "\n",
    "<b>ANCOVA variables:</b>\n",
    "* Independent variable: cognitive state (HC, PD-NC, PD-MCI)\n",
    "* Covariate: age, gender, education, and intracerebral volume (baseline & follow-up)\n",
    "* Dependent variables: baseline volume and % change in volume\n",
    "\n",
    "A probability value of less than 0.05 for each test statistic was considered to be statistically significant."
   ]
  },
  {
   "cell_type": "code",
   "execution_count": 34,
   "id": "4989a17a",
   "metadata": {},
   "outputs": [
    {
     "name": "stdout",
     "output_type": "stream",
     "text": [
      "Left Thalamus :\n",
      "     Source         SS   DF           F         p-unc       np2\n",
      "0  COGSTATE   0.088340    2    0.142572  8.672682e-01  0.002313\n",
      "1       AGE  35.080564    1  113.233276  3.808728e-19  0.479328\n",
      "2       SEX   0.069823    1    0.225374  6.358173e-01  0.001829\n",
      "3   EDUCYRS   0.125512    1    0.405129  5.256349e-01  0.003283\n",
      "4  TIV_mean  17.868339    1   57.675544  6.711037e-12  0.319222\n",
      "5  Residual  38.106372  123         NaN           NaN       NaN \n",
      "\n",
      "Multiple Comparison of Means - Tukey HSD, FWER=0.05\n",
      "===================================================\n",
      "group1 group2 meandiff p-adj   lower  upper  reject\n",
      "---------------------------------------------------\n",
      "   0.0    1.0   0.1513 0.6842 -0.2801 0.5827  False\n",
      "   0.0    2.0  -0.0227 0.9944 -0.5544  0.509  False\n",
      "   1.0    2.0  -0.1739 0.6667 -0.6538 0.3059  False\n",
      "--------------------------------------------------- \n",
      "\n",
      "Right Thalamus :\n",
      "     Source         SS   DF          F         p-unc       np2\n",
      "0  COGSTATE   0.124893    2   0.167827  8.456934e-01  0.002721\n",
      "1       AGE  34.124078    1  91.709720  1.434050e-16  0.427134\n",
      "2       SEX   0.001284    1   0.003450  9.532561e-01  0.000028\n",
      "3   EDUCYRS   0.211350    1   0.568011  4.524908e-01  0.004597\n",
      "4  TIV_mean  18.286394    1  49.145359  1.385508e-10  0.285488\n",
      "5  Residual  45.766813  123        NaN           NaN       NaN \n",
      "\n",
      "Multiple Comparison of Means - Tukey HSD, FWER=0.05\n",
      "===================================================\n",
      "group1 group2 meandiff p-adj   lower  upper  reject\n",
      "---------------------------------------------------\n",
      "   0.0    1.0   0.0831 0.9007 -0.3691 0.5353  False\n",
      "   0.0    2.0   -0.075 0.9455 -0.6322 0.4823  False\n",
      "   1.0    2.0  -0.1581 0.7371  -0.661 0.3449  False\n",
      "--------------------------------------------------- \n",
      "\n",
      "Left Caudate :\n",
      "     Source         SS   DF          F         p-unc           np2\n",
      "0  COGSTATE   0.365080    2   1.284843  2.803811e-01  2.046422e-02\n",
      "1       AGE   1.341762    1   9.444255  2.608985e-03  7.130740e-02\n",
      "2       SEX   0.000004    1   0.000025  9.960168e-01  2.034494e-07\n",
      "3   EDUCYRS   0.134023    1   0.943345  3.333253e-01  7.611095e-03\n",
      "4  TIV_mean   4.482173    1  31.548649  1.230732e-07  2.041341e-01\n",
      "5  Residual  17.474830  123        NaN           NaN           NaN \n",
      "\n",
      "Multiple Comparison of Means - Tukey HSD, FWER=0.05\n",
      "===================================================\n",
      "group1 group2 meandiff p-adj   lower  upper  reject\n",
      "---------------------------------------------------\n",
      "   0.0    1.0  -0.0442 0.8852 -0.2672 0.1787  False\n",
      "   0.0    2.0   0.0129 0.9932 -0.2619 0.2877  False\n",
      "   1.0    2.0   0.0572 0.8483 -0.1908 0.3052  False\n",
      "--------------------------------------------------- \n",
      "\n",
      "Right Caudate :\n",
      "     Source         SS   DF          F         p-unc       np2\n",
      "0  COGSTATE   0.278079    2   1.046925  3.541220e-01  0.016738\n",
      "1       AGE   1.490438    1  11.222535  1.073403e-03  0.083611\n",
      "2       SEX   0.000998    1   0.007516  9.310551e-01  0.000061\n",
      "3   EDUCYRS   0.068822    1   0.518207  4.729732e-01  0.004195\n",
      "4  TIV_mean   4.069857    1  30.644763  1.784521e-07  0.199452\n",
      "5  Residual  16.335335  123        NaN           NaN       NaN \n",
      "\n",
      "Multiple Comparison of Means - Tukey HSD, FWER=0.05\n",
      "===================================================\n",
      "group1 group2 meandiff p-adj   lower  upper  reject\n",
      "---------------------------------------------------\n",
      "   0.0    1.0  -0.0337 0.9271 -0.2494  0.182  False\n",
      "   0.0    2.0   0.0222 0.9787 -0.2437  0.288  False\n",
      "   1.0    2.0   0.0559 0.8455 -0.1841 0.2958  False\n",
      "--------------------------------------------------- \n",
      "\n",
      "Left Putamen :\n",
      "     Source         SS   DF          F         p-unc       np2\n",
      "0  COGSTATE   0.671093    2   1.676382  1.912946e-01  0.026535\n",
      "1       AGE   5.270395    1  26.330753  1.088873e-06  0.176325\n",
      "2       SEX   0.092313    1   0.461191  4.983437e-01  0.003736\n",
      "3   EDUCYRS   0.044721    1   0.223426  6.372793e-01  0.001813\n",
      "4  TIV_mean   6.349185    1  31.720362  1.147179e-07  0.205017\n",
      "5  Residual  24.619826  123        NaN           NaN       NaN \n",
      "\n",
      "Multiple Comparison of Means - Tukey HSD, FWER=0.05\n",
      "===================================================\n",
      "group1 group2 meandiff p-adj   lower  upper  reject\n",
      "---------------------------------------------------\n",
      "   0.0    1.0  -0.0459 0.9205 -0.3262 0.2345  False\n",
      "   0.0    2.0  -0.1397 0.6042 -0.4852 0.2058  False\n",
      "   1.0    2.0  -0.0938 0.7559 -0.4057  0.218  False\n",
      "--------------------------------------------------- \n",
      "\n",
      "Right Putamen :\n",
      "     Source         SS   DF          F     p-unc       np2\n",
      "0  COGSTATE   0.620974    2   1.372336  0.257368  0.021827\n",
      "1       AGE   5.464379    1  24.152280  0.000003  0.164131\n",
      "2       SEX   0.038137    1   0.168564  0.682105  0.001369\n",
      "3   EDUCYRS   0.145593    1   0.643514  0.423988  0.005205\n",
      "4  TIV_mean   4.831636    1  21.355589  0.000009  0.147937\n",
      "5  Residual  27.828370  123        NaN       NaN       NaN \n",
      "\n",
      "Multiple Comparison of Means - Tukey HSD, FWER=0.05\n",
      "===================================================\n",
      "group1 group2 meandiff p-adj   lower  upper  reject\n",
      "---------------------------------------------------\n",
      "   0.0    1.0  -0.0274  0.971 -0.3083 0.2535  False\n",
      "   0.0    2.0  -0.1715 0.4702 -0.5177 0.1747  False\n",
      "   1.0    2.0  -0.1442 0.5194 -0.4566 0.1683  False\n",
      "--------------------------------------------------- \n",
      "\n",
      "Left Pallidum :\n",
      "     Source        SS   DF          F         p-unc       np2\n",
      "0  COGSTATE  0.135359    2   1.703371  1.863352e-01  0.026951\n",
      "1       AGE  0.822814    1  20.708726  1.264947e-05  0.144102\n",
      "2       SEX  0.076554    1   1.926722  1.676266e-01  0.015423\n",
      "3   EDUCYRS  0.127283    1   3.203480  7.594223e-02  0.025383\n",
      "4  TIV_mean  1.739586    1  43.782230  1.009744e-09  0.262511\n",
      "5  Residual  4.887122  123        NaN           NaN       NaN \n",
      "\n",
      "Multiple Comparison of Means - Tukey HSD, FWER=0.05\n",
      "===================================================\n",
      "group1 group2 meandiff p-adj   lower  upper  reject\n",
      "---------------------------------------------------\n",
      "   0.0    1.0   0.0006 0.9999 -0.1225 0.1238  False\n",
      "   0.0    2.0   0.0589 0.6287 -0.0929 0.2106  False\n",
      "   1.0    2.0   0.0583 0.5727 -0.0787 0.1953  False\n",
      "--------------------------------------------------- \n",
      "\n",
      "Right Pallidum :\n",
      "     Source        SS   DF          F     p-unc       np2\n",
      "0  COGSTATE  0.130477    2   1.561225  0.214009  0.024757\n",
      "1       AGE  0.218790    1   5.235889  0.023832  0.040830\n",
      "2       SEX  0.004336    1   0.103762  0.747908  0.000843\n",
      "3   EDUCYRS  0.149754    1   3.583767  0.060696  0.028311\n",
      "4  TIV_mean  1.079610    1  25.836227  0.000001  0.173588\n",
      "5  Residual  5.139763  123        NaN       NaN       NaN \n",
      "\n",
      "Multiple Comparison of Means - Tukey HSD, FWER=0.05\n",
      "===================================================\n",
      "group1 group2 meandiff p-adj   lower  upper  reject\n",
      "---------------------------------------------------\n",
      "   0.0    1.0   0.0254 0.8641 -0.0914 0.1422  False\n",
      "   0.0    2.0    0.106 0.1923  -0.038 0.2499  False\n",
      "   1.0    2.0   0.0806 0.3081 -0.0493 0.2105  False\n",
      "--------------------------------------------------- \n",
      "\n",
      "Left Hippocampus :\n",
      "     Source         SS   DF          F         p-unc       np2\n",
      "0  COGSTATE   0.116412    2   0.447245  6.404231e-01  0.007220\n",
      "1       AGE   4.359476    1  33.497403  5.570343e-08  0.214044\n",
      "2       SEX   0.024833    1   0.190810  6.630090e-01  0.001549\n",
      "3   EDUCYRS   0.043380    1   0.333325  5.647629e-01  0.002703\n",
      "4  TIV_mean   1.486266    1  11.420194  9.737936e-04  0.084959\n",
      "5  Residual  16.007674  123        NaN           NaN       NaN \n",
      "\n",
      "Multiple Comparison of Means - Tukey HSD, FWER=0.05\n",
      "===================================================\n",
      "group1 group2 meandiff p-adj   lower  upper  reject\n",
      "---------------------------------------------------\n",
      "   0.0    1.0   0.0608 0.7671 -0.1469 0.2686  False\n",
      "   0.0    2.0  -0.0637 0.8258 -0.3198 0.1924  False\n",
      "   1.0    2.0  -0.1245 0.4103 -0.3557 0.1066  False\n",
      "--------------------------------------------------- \n",
      "\n",
      "Right Hippocampus :\n",
      "     Source         SS   DF          F         p-unc       np2\n",
      "0  COGSTATE   0.108686    2   0.429483  6.518176e-01  0.006935\n",
      "1       AGE   5.373018    1  42.463810  1.662757e-09  0.256635\n",
      "2       SEX   0.009445    1   0.074647  7.851460e-01  0.000607\n",
      "3   EDUCYRS   0.064578    1   0.510371  4.763321e-01  0.004132\n",
      "4  TIV_mean   1.617410    1  12.782647  5.009263e-04  0.094141\n",
      "5  Residual  15.563399  123        NaN           NaN       NaN \n",
      "\n",
      "Multiple Comparison of Means - Tukey HSD, FWER=0.05\n",
      "===================================================\n",
      "group1 group2 meandiff p-adj   lower  upper  reject\n",
      "---------------------------------------------------\n",
      "   0.0    1.0   0.0895 0.5726 -0.1209    0.3  False\n",
      "   0.0    2.0  -0.0216 0.9787  -0.281 0.2378  False\n",
      "   1.0    2.0  -0.1111    0.5 -0.3452  0.123  False\n",
      "--------------------------------------------------- \n",
      "\n",
      "Left Amygdala :\n",
      "     Source        SS   DF          F     p-unc       np2\n",
      "0  COGSTATE  0.296081    2   3.861716  0.023628  0.059082\n",
      "1       AGE  0.710898    1  18.544164  0.000034  0.131013\n",
      "2       SEX  0.157853    1   4.117673  0.044596  0.032393\n",
      "3   EDUCYRS  0.003258    1   0.084991  0.771135  0.000691\n",
      "4  TIV_mean  0.154594    1   4.032679  0.046818  0.031745\n",
      "5  Residual  4.715253  123        NaN       NaN       NaN \n",
      "\n"
     ]
    },
    {
     "name": "stdout",
     "output_type": "stream",
     "text": [
      "Multiple Comparison of Means - Tukey HSD, FWER=0.05 \n",
      "====================================================\n",
      "group1 group2 meandiff p-adj   lower   upper  reject\n",
      "----------------------------------------------------\n",
      "   0.0    1.0    0.028 0.8119 -0.0799  0.1359  False\n",
      "   0.0    2.0  -0.1058 0.1465 -0.2388  0.0272  False\n",
      "   1.0    2.0  -0.1338 0.0248 -0.2538 -0.0138   True\n",
      "---------------------------------------------------- \n",
      "\n",
      "Right Amygdala :\n",
      "     Source        SS   DF          F     p-unc       np2\n",
      "0  COGSTATE  0.205795    2   3.169966  0.045458  0.049018\n",
      "1       AGE  0.605561    1  18.655509  0.000032  0.131696\n",
      "2       SEX  0.199993    1   6.161178  0.014407  0.047701\n",
      "3   EDUCYRS  0.006769    1   0.208529  0.648728  0.001692\n",
      "4  TIV_mean  0.559814    1  17.246192  0.000061  0.122971\n",
      "5  Residual  3.992600  123        NaN       NaN       NaN \n",
      "\n",
      "Multiple Comparison of Means - Tukey HSD, FWER=0.05\n",
      "===================================================\n",
      "group1 group2 meandiff p-adj   lower  upper  reject\n",
      "---------------------------------------------------\n",
      "   0.0    1.0   0.0575 0.4339 -0.0528 0.1678  False\n",
      "   0.0    2.0  -0.0378  0.787 -0.1738 0.0981  False\n",
      "   1.0    2.0  -0.0954 0.1599 -0.2181 0.0273  False\n",
      "--------------------------------------------------- \n",
      "\n",
      "Left Accumbens-area :\n",
      "     Source        SS   DF          F         p-unc       np2\n",
      "0  COGSTATE  0.008946    2   0.441006  6.444020e-01  0.007120\n",
      "1       AGE  0.337103    1  33.237465  6.187638e-08  0.212737\n",
      "2       SEX  0.003827    1   0.377365  5.401514e-01  0.003059\n",
      "3   EDUCYRS  0.003872    1   0.381727  5.378226e-01  0.003094\n",
      "4  TIV_mean  0.008179    1   0.806396  3.709425e-01  0.006513\n",
      "5  Residual  1.247497  123        NaN           NaN       NaN \n",
      "\n",
      "Multiple Comparison of Means - Tukey HSD, FWER=0.05\n",
      "===================================================\n",
      "group1 group2 meandiff p-adj   lower  upper  reject\n",
      "---------------------------------------------------\n",
      "   0.0    1.0   0.0063   0.96 -0.0488 0.0614  False\n",
      "   0.0    2.0  -0.0352  0.438 -0.1031 0.0327  False\n",
      "   1.0    2.0  -0.0415 0.2464 -0.1028 0.0198  False\n",
      "--------------------------------------------------- \n",
      "\n",
      "Right Accumbens-area :\n",
      "     Source        SS   DF          F     p-unc       np2\n",
      "0  COGSTATE  0.034237    2   1.549656  0.216437  0.024578\n",
      "1       AGE  0.279049    1  25.260704  0.000002  0.170380\n",
      "2       SEX  0.000531    1   0.048091  0.826783  0.000391\n",
      "3   EDUCYRS  0.000116    1   0.010535  0.918415  0.000086\n",
      "4  TIV_mean  0.053520    1   4.844822  0.029596  0.037896\n",
      "5  Residual  1.358751  123        NaN       NaN       NaN \n",
      "\n",
      "Multiple Comparison of Means - Tukey HSD, FWER=0.05\n",
      "===================================================\n",
      "group1 group2 meandiff p-adj   lower  upper  reject\n",
      "---------------------------------------------------\n",
      "   0.0    1.0   0.0149 0.8078 -0.0417 0.0714  False\n",
      "   0.0    2.0  -0.0437 0.3005 -0.1134  0.026  False\n",
      "   1.0    2.0  -0.0586 0.0737 -0.1215 0.0043  False\n",
      "--------------------------------------------------- \n",
      "\n"
     ]
    }
   ],
   "source": [
    "# baseline volume\n",
    "for s in structName:\n",
    "    ancova_and_post_hoc_baseline(hc_vol, nc_vol, mci_vol, s, \"Left\")\n",
    "    ancova_and_post_hoc_baseline(hc_vol, nc_vol, mci_vol, s, \"Right\")"
   ]
  },
  {
   "cell_type": "code",
   "execution_count": 35,
   "id": "9e10fea7",
   "metadata": {},
   "outputs": [
    {
     "name": "stdout",
     "output_type": "stream",
     "text": [
      "Left Thalamus :\n",
      "     Source           SS   DF         F     p-unc       np2\n",
      "0  COGSTATE     4.426895    2  0.185889  0.830598  0.003013\n",
      "1       AGE     5.178725    1  0.434919  0.510818  0.003523\n",
      "2       SEX     7.729872    1  0.649169  0.421965  0.005250\n",
      "3   EDUCYRS     0.091710    1  0.007702  0.930209  0.000063\n",
      "4  TIV_mean     2.047798    1  0.171978  0.679082  0.001396\n",
      "5  Residual  1464.602035  123       NaN       NaN       NaN \n",
      "\n",
      "Multiple Comparison of Means - Tukey HSD, FWER=0.05\n",
      "===================================================\n",
      "group1 group2 meandiff p-adj   lower  upper  reject\n",
      "---------------------------------------------------\n",
      "   0.0    1.0   0.3353 0.8827 -1.3352 2.0057  False\n",
      "   0.0    2.0   0.4216 0.8782 -1.6371 2.4803  False\n",
      "   1.0    2.0   0.0864 0.9933 -1.7718 1.9445  False\n",
      "--------------------------------------------------- \n",
      "\n",
      "Right Thalamus :\n",
      "     Source           SS   DF         F     p-unc       np2\n",
      "0  COGSTATE    32.325560    2  1.141987  0.322545  0.018230\n",
      "1       AGE     7.593089    1  0.536492  0.465283  0.004343\n",
      "2       SEX    15.474575    1  1.093362  0.297778  0.008811\n",
      "3   EDUCYRS    42.036921    1  2.970134  0.087328  0.023578\n",
      "4  TIV_mean     1.323654    1  0.093523  0.760262  0.000760\n",
      "5  Residual  1740.844647  123       NaN       NaN       NaN \n",
      "\n",
      "Multiple Comparison of Means - Tukey HSD, FWER=0.05\n",
      "===================================================\n",
      "group1 group2 meandiff p-adj   lower  upper  reject\n",
      "---------------------------------------------------\n",
      "   0.0    1.0   1.0819 0.3439 -0.7507 2.9145  False\n",
      "   0.0    2.0   1.0503 0.5141 -1.2083 3.3088  False\n",
      "   1.0    2.0  -0.0316 0.9993 -2.0701 2.0068  False\n",
      "--------------------------------------------------- \n",
      "\n",
      "Left Caudate :\n",
      "     Source           SS   DF         F     p-unc       np2\n",
      "0  COGSTATE    28.717716    2  1.522394  0.222271  0.024156\n",
      "1       AGE     8.260868    1  0.875856  0.351173  0.007070\n",
      "2       SEX     3.054317    1  0.323833  0.570351  0.002626\n",
      "3   EDUCYRS     1.734671    1  0.183918  0.668778  0.001493\n",
      "4  TIV_mean    21.235807    1  2.251521  0.136046  0.017976\n",
      "5  Residual  1160.106643  123       NaN       NaN       NaN \n",
      "\n",
      "Multiple Comparison of Means - Tukey HSD, FWER=0.05\n",
      "===================================================\n",
      "group1 group2 meandiff p-adj   lower  upper  reject\n",
      "---------------------------------------------------\n",
      "   0.0    1.0   0.5772 0.6306 -0.9157   2.07  False\n",
      "   0.0    2.0   1.2683 0.2349 -0.5716 3.1081  False\n",
      "   1.0    2.0   0.6911 0.5864 -0.9695 2.3517  False\n",
      "--------------------------------------------------- \n",
      "\n",
      "Right Caudate :\n",
      "     Source           SS   DF         F     p-unc       np2\n",
      "0  COGSTATE    26.868032    2  1.087295  0.340345  0.017372\n",
      "1       AGE    22.474302    1  1.818980  0.179913  0.014573\n",
      "2       SEX    12.365482    1  1.000812  0.319078  0.008071\n",
      "3   EDUCYRS     0.593733    1  0.048054  0.826847  0.000391\n",
      "4  TIV_mean     0.353736    1  0.028630  0.865914  0.000233\n",
      "5  Residual  1519.719580  123       NaN       NaN       NaN \n",
      "\n",
      "Multiple Comparison of Means - Tukey HSD, FWER=0.05\n",
      "===================================================\n",
      "group1 group2 meandiff p-adj   lower  upper  reject\n",
      "---------------------------------------------------\n",
      "   0.0    1.0    0.467 0.7932 -1.2391 2.1732  False\n",
      "   0.0    2.0   1.4706 0.2252 -0.6321 3.5733  False\n",
      "   1.0    2.0   1.0035 0.4239 -0.8943 2.9014  False\n",
      "--------------------------------------------------- \n",
      "\n",
      "Left Putamen :\n",
      "     Source           SS   DF         F     p-unc       np2\n",
      "0  COGSTATE    49.585256    2  2.522272  0.084422  0.039397\n",
      "1       AGE     7.790847    1  0.792600  0.375053  0.006403\n",
      "2       SEX     0.504184    1  0.051293  0.821204  0.000417\n",
      "3   EDUCYRS    26.238447    1  2.669362  0.104854  0.021241\n",
      "4  TIV_mean     3.174974    1  0.323005  0.570843  0.002619\n",
      "5  Residual  1209.026479  123       NaN       NaN       NaN \n",
      "\n",
      "Multiple Comparison of Means - Tukey HSD, FWER=0.05\n",
      "===================================================\n",
      "group1 group2 meandiff p-adj   lower  upper  reject\n",
      "---------------------------------------------------\n",
      "   0.0    1.0   1.1407 0.1815 -0.3817 2.6631  False\n",
      "   0.0    2.0   1.3892 0.1888  -0.487 3.2654  False\n",
      "   1.0    2.0   0.2485 0.9355 -1.4449 1.9419  False\n",
      "--------------------------------------------------- \n",
      "\n",
      "Right Putamen :\n",
      "     Source           SS   DF         F     p-unc       np2\n",
      "0  COGSTATE    66.008405    2  3.272636  0.041232  0.050525\n",
      "1       AGE     8.988606    1  0.891294  0.346978  0.007194\n",
      "2       SEX    37.313516    1  3.699939  0.056725  0.029202\n",
      "3   EDUCYRS    11.405859    1  1.130984  0.289649  0.009111\n",
      "4  TIV_mean    26.290678    1  2.606935  0.108960  0.020755\n",
      "5  Residual  1240.442583  123       NaN       NaN       NaN \n",
      "\n",
      "Multiple Comparison of Means - Tukey HSD, FWER=0.05\n",
      "===================================================\n",
      "group1 group2 meandiff p-adj   lower  upper  reject\n",
      "---------------------------------------------------\n",
      "   0.0    1.0   0.3819 0.8308 -1.1781 1.9419  False\n",
      "   0.0    2.0   2.0799 0.0306  0.1572 4.0025   True\n",
      "   1.0    2.0    1.698 0.0566 -0.0373 3.4333  False\n",
      "--------------------------------------------------- \n",
      "\n",
      "Left Pallidum :\n",
      "     Source           SS   DF         F     p-unc       np2\n",
      "0  COGSTATE    72.233529    2  2.141917  0.121789  0.033656\n",
      "1       AGE    13.802907    1  0.818586  0.367363  0.006611\n",
      "2       SEX     2.543786    1  0.150860  0.698386  0.001225\n",
      "3   EDUCYRS    10.181249    1  0.603802  0.438623  0.004885\n",
      "4  TIV_mean    15.470685    1  0.917494  0.340013  0.007404\n",
      "5  Residual  2074.012115  123       NaN       NaN       NaN \n",
      "\n",
      "Multiple Comparison of Means - Tukey HSD, FWER=0.05\n",
      "===================================================\n",
      "group1 group2 meandiff p-adj   lower  upper  reject\n",
      "---------------------------------------------------\n",
      "   0.0    1.0   0.3606 0.9032 -1.6277 2.3489  False\n",
      "   0.0    2.0   2.0704 0.1155 -0.3801 4.5208  False\n",
      "   1.0    2.0   1.7098 0.1629  -0.502 3.9215  False\n",
      "--------------------------------------------------- \n",
      "\n",
      "Right Pallidum :\n",
      "     Source           SS   DF         F     p-unc       np2\n",
      "0  COGSTATE     7.379084    2  0.131168  0.877193  0.002128\n",
      "1       AGE     6.988738    1  0.248458  0.619053  0.002016\n",
      "2       SEX     3.644260    1  0.129558  0.719508  0.001052\n",
      "3   EDUCYRS     3.479946    1  0.123716  0.725640  0.001005\n",
      "4  TIV_mean     2.786347    1  0.099058  0.753496  0.000805\n",
      "5  Residual  3459.800491  123       NaN       NaN       NaN \n",
      "\n",
      "Multiple Comparison of Means - Tukey HSD, FWER=0.05\n",
      "===================================================\n",
      "group1 group2 meandiff p-adj   lower  upper  reject\n",
      "---------------------------------------------------\n",
      "   0.0    1.0   0.5938 0.8457 -1.9578 3.1454  False\n",
      "   0.0    2.0   0.9765 0.7424 -2.1682 4.1212  False\n",
      "   1.0    2.0   0.3827 0.9452 -2.4556  3.221  False\n",
      "--------------------------------------------------- \n",
      "\n",
      "Left Hippocampus :\n",
      "     Source           SS   DF         F     p-unc       np2\n",
      "0  COGSTATE     2.630118    2  0.152905  0.858374  0.002480\n",
      "1       AGE     2.446196    1  0.284425  0.594778  0.002307\n",
      "2       SEX     4.429756    1  0.515059  0.474318  0.004170\n",
      "3   EDUCYRS    16.937676    1  1.969386  0.163033  0.015759\n",
      "4  TIV_mean     0.672965    1  0.078247  0.780157  0.000636\n",
      "5  Residual  1057.859899  123       NaN       NaN       NaN \n",
      "\n",
      "Multiple Comparison of Means - Tukey HSD, FWER=0.05\n",
      "===================================================\n",
      "group1 group2 meandiff p-adj   lower  upper  reject\n",
      "---------------------------------------------------\n",
      "   0.0    1.0  -0.2701  0.894 -1.6895 1.1494  False\n",
      "   0.0    2.0   -0.315 0.9044 -2.0644 1.4343  False\n",
      "   1.0    2.0  -0.0449 0.9975 -1.6239  1.534  False\n",
      "--------------------------------------------------- \n",
      "\n",
      "Right Hippocampus :\n",
      "     Source          SS   DF         F     p-unc       np2\n",
      "0  COGSTATE    8.749932    2  0.748111  0.475401  0.012018\n",
      "1       AGE   13.143072    1  2.247440  0.136398  0.017944\n",
      "2       SEX    9.026881    1  1.543579  0.216449  0.012394\n",
      "3   EDUCYRS    0.929210    1  0.158893  0.690869  0.001290\n",
      "4  TIV_mean    4.991793    1  0.853587  0.357348  0.006892\n",
      "5  Residual  719.306359  123       NaN       NaN       NaN \n",
      "\n",
      "Multiple Comparison of Means - Tukey HSD, FWER=0.05\n",
      "===================================================\n",
      "group1 group2 meandiff p-adj   lower  upper  reject\n",
      "---------------------------------------------------\n",
      "   0.0    1.0  -0.0432 0.9958 -1.2198 1.1335  False\n",
      "   0.0    2.0  -0.8263 0.3697 -2.2765 0.6238  False\n",
      "   1.0    2.0  -0.7832 0.3342  -2.092 0.5257  False\n",
      "--------------------------------------------------- \n",
      "\n",
      "Left Amygdala :\n",
      "     Source           SS   DF         F     p-unc       np2\n",
      "0  COGSTATE    24.389538    2  0.319408  0.727180  0.005167\n",
      "1       AGE    90.605980    1  2.373173  0.126005  0.018929\n",
      "2       SEX    24.792253    1  0.649364  0.421895  0.005252\n",
      "3   EDUCYRS     3.570846    1  0.093528  0.760256  0.000760\n",
      "4  TIV_mean    10.116215    1  0.264966  0.607652  0.002150\n",
      "5  Residual  4696.048495  123       NaN       NaN       NaN \n",
      "\n"
     ]
    },
    {
     "name": "stdout",
     "output_type": "stream",
     "text": [
      "Multiple Comparison of Means - Tukey HSD, FWER=0.05\n",
      "===================================================\n",
      "group1 group2 meandiff p-adj   lower  upper  reject\n",
      "---------------------------------------------------\n",
      "   0.0    1.0   -0.307 0.9684 -3.3249 2.7109  False\n",
      "   0.0    2.0  -1.3705 0.6578 -5.0898 2.3489  False\n",
      "   1.0    2.0  -1.0635 0.7334 -4.4204 2.2935  False\n",
      "--------------------------------------------------- \n",
      "\n",
      "Right Amygdala :\n",
      "     Source           SS   DF         F     p-unc       np2\n",
      "0  COGSTATE    21.179026    2  0.477426  0.621523  0.007703\n",
      "1       AGE     6.853969    1  0.309010  0.579298  0.002506\n",
      "2       SEX     5.922879    1  0.267032  0.606258  0.002166\n",
      "3   EDUCYRS     0.860057    1  0.038775  0.844219  0.000315\n",
      "4  TIV_mean    19.416922    1  0.875407  0.351296  0.007067\n",
      "5  Residual  2728.194166  123       NaN       NaN       NaN \n",
      "\n",
      "Multiple Comparison of Means - Tukey HSD, FWER=0.05\n",
      "===================================================\n",
      "group1 group2 meandiff p-adj   lower  upper  reject\n",
      "---------------------------------------------------\n",
      "   0.0    1.0  -0.0542 0.9982 -2.3228 2.2144  False\n",
      "   0.0    2.0  -1.0961 0.6226  -3.892 1.6998  False\n",
      "   1.0    2.0  -1.0419 0.5913 -3.5654 1.4816  False\n",
      "--------------------------------------------------- \n",
      "\n",
      "Left Accumbens-area :\n",
      "     Source            SS   DF         F     p-unc       np2\n",
      "0  COGSTATE    550.373064    2  1.205071  0.303184  0.019218\n",
      "1       AGE     22.362612    1  0.097928  0.754860  0.000796\n",
      "2       SEX     60.091825    1  0.263148  0.608885  0.002135\n",
      "3   EDUCYRS     43.750672    1  0.191589  0.662365  0.001555\n",
      "4  TIV_mean     86.811641    1  0.380157  0.538659  0.003081\n",
      "5  Residual  28087.927522  123       NaN       NaN       NaN \n",
      "\n",
      "Multiple Comparison of Means - Tukey HSD, FWER=0.05 \n",
      "====================================================\n",
      "group1 group2 meandiff p-adj   lower   upper  reject\n",
      "----------------------------------------------------\n",
      "   0.0    1.0   1.3905 0.8928 -5.8749  8.6559  False\n",
      "   0.0    2.0   5.8562 0.2708 -3.0979 14.8102  False\n",
      "   1.0    2.0   4.4657  0.392  -3.616 12.5473  False\n",
      "---------------------------------------------------- \n",
      "\n",
      "Right Accumbens-area :\n",
      "     Source            SS   DF         F     p-unc       np2\n",
      "0  COGSTATE     93.847670    2  0.440152  0.644949  0.007106\n",
      "1       AGE      3.591340    1  0.033687  0.854676  0.000274\n",
      "2       SEX      0.140506    1  0.001318  0.971099  0.000011\n",
      "3   EDUCYRS      0.948759    1  0.008899  0.924995  0.000072\n",
      "4  TIV_mean      4.194115    1  0.039341  0.843101  0.000320\n",
      "5  Residual  13112.811901  123       NaN       NaN       NaN \n",
      "\n",
      "Multiple Comparison of Means - Tukey HSD, FWER=0.05\n",
      "===================================================\n",
      "group1 group2 meandiff p-adj   lower  upper  reject\n",
      "---------------------------------------------------\n",
      "   0.0    1.0   0.0835 0.9991 -4.8679 5.0349  False\n",
      "   0.0    2.0   2.3606 0.6303 -3.7417 8.4628  False\n",
      "   1.0    2.0   2.2771 0.5905 -3.2306 7.7848  False\n",
      "--------------------------------------------------- \n",
      "\n"
     ]
    }
   ],
   "source": [
    "# % change \n",
    "for s in structName:\n",
    "    ancova_and_post_hoc_change(hc_vol, nc_vol, mci_vol, s, \"Left\")\n",
    "    ancova_and_post_hoc_change(hc_vol, nc_vol, mci_vol, s, \"Right\")"
   ]
  },
  {
   "cell_type": "markdown",
   "id": "a7cb6be7",
   "metadata": {},
   "source": [
    "### Analysis of covariance (ANCOVA)\n",
    "\n",
    "|Hem|Struct|Significant Difference (baseline) | Posthoc (baseline) |Sign. Diff. (% change) | Posthoc (% change)\n",
    "|:---|:---|:---|:---|:---|:---|\n",
    "|Left|Thalamus-Proper | | |||\n",
    "||Caudate|||||\n",
    "||Putamen|||||\n",
    "||Pallidum|||||\n",
    "||Hippocampus|||||\n",
    "||Amygdala|COGSTATE (p=.02)| PD-non-MCI > PD-MCI|||\n",
    "||Accumbens-area|||||\n",
    "|Right|Thalamus-Proper |||||\n",
    "||Caudate|||| |\n",
    "||Putamen|||COGSTATE (p=.04)| HC < PD-MCI|\n",
    "||Pallidum|||||\n",
    "||Hippocampus|||||\n",
    "||Amygdala|COGSTATE (p=.05)|ns|||\n",
    "||Accumbens-area|||||\n",
    "\n",
    "There is a significant difference in the baseline volume of the left amygdala between the cognitive states of patients.\n",
    "\n",
    "There is a significant difference in the percent of volumetric change between the cognitive states of patients - the change of the volume of the right putamen differ between the groups. \n",
    "\n",
    "### Post hoc Tukey-Kramer pairwise comparisons\n",
    "\n",
    "#### Baseline volumes\n",
    "\n",
    "The baseline volume of the left amygdala was significantly higher in the PD-non-MCI group than in the PD-MCI one.\n",
    "\n",
    "We were unable to reproduce the findings in the original paper. The original study found group differences in the baseline volumes in the left hippocampus and the left nucleus accumbens. We found group differences in the baseline volume of the left amygdala.\n",
    "\n",
    "#### % change \n",
    "\n",
    "Average change of volumes of the right putamen differed between cognitive states. Post hoc test showed that the PD-MCI group has a higher change in the volume of the right putamen than the HC group.\n",
    "\n",
    "We were unable to reproduce the findings of the original paper. The original study found group differences in the change of volumes in the left caudate and the right hippocampus. We found group differences in the change of the right caudate and putamen volumes.\n"
   ]
  },
  {
   "cell_type": "markdown",
   "id": "f073168b",
   "metadata": {},
   "source": [
    "# Vertex-wise analysis\n",
    "\n",
    "The original study doesn't specify whether ANCOVA or t-tests were used to analyze the group differences. Hence, we tested both models: ANCOVA with three groups and t-tests with an additional covariate (levadopa equivalent daily dose)."
   ]
  },
  {
   "cell_type": "markdown",
   "id": "e7f69ceb",
   "metadata": {},
   "source": [
    "##  Prepare the vertex data with long_mris_slopes for longitudinal two stage model"
   ]
  },
  {
   "cell_type": "code",
   "execution_count": null,
   "id": "49cfdd53",
   "metadata": {},
   "outputs": [],
   "source": [
    "# calculate Duration T2-T1 (years)\n",
    "# based on MoCA assessment\n",
    "\n",
    "download_data[\"INFODT\"] = pd.to_datetime(download_data[\"INFODT\"])\n",
    "download_data[\"INFODT_NX\"] = pd.to_datetime(download_data[\"INFODT_NX\"])\n",
    "\n",
    "download_data[\"durationT2_T1\"] = (\n",
    "    download_data[\"INFODT_NX\"] - download_data[\"INFODT\"]\n",
    ") / np.timedelta64(1, \"Y\")\n",
    "\n",
    "\n",
    "# Create longitudinal QDEC table\n",
    "\n",
    "download_data = download_data.sort_values(\"PATNO_id\")\n",
    "download_data = download_data.reset_index()\n",
    "data_dup = download_data\n",
    "qdec_table = data_dup[[\"PATNO\"]]\n",
    "qdec_table[\"fsid\"] = data_dup[\"PATNO_id\"]\n",
    "qdec_table[\"fsid-base\"] = data_dup[\"PATNO_base\"]\n",
    "qdec_table[\"years\"] = np.where(\n",
    "    qdec_table.index % 2 == 0, 0, data_dup[\"durationT2_T1\"]\n",
    ")\n",
    "qdec_table = qdec_table[[\"fsid\", \"fsid-base\", \"years\"]]\n",
    "\n",
    "qdec_table.to_csv(\"qdec_long_groups.dat\", sep=\" \", index=False)"
   ]
  },
  {
   "cell_type": "code",
   "execution_count": null,
   "id": "f00673dc",
   "metadata": {},
   "outputs": [],
   "source": [
    "# prepare node for computation. it includes downloading the container\n",
    "# this should be run on a server connected to the internet\n",
    "\n",
    "! module load singularity\n",
    "\n",
    "import boutiques\n",
    "from boutiques import bosh\n",
    "\n",
    "zid = \"zenodo.7378416\"\n",
    "# bosh([\"exec\", \"prepare\", zid])\n",
    "freesurfer = boutiques.descriptor2func.function(zid)"
   ]
  },
  {
   "cell_type": "code",
   "execution_count": null,
   "id": "1dd803d3",
   "metadata": {},
   "outputs": [],
   "source": [
    "%%writefile preprocess_FS_long_mris_slopes.py\n",
    "\n",
    "# Prepare the data with long_mris_slopes for longitudinal two stage model\n",
    "\n",
    "import os\n",
    "import json\n",
    "\n",
    "import boutiques\n",
    "from boutiques import bosh\n",
    "zid = \"zenodo.7378416\"\n",
    "from boutiques.descriptor2func import function\n",
    "#bosh([\"exec\", \"prepare\", zid])\n",
    "freesurfer = function(zid)\n",
    "\n",
    "\n",
    "for hemi in [\"lh\", \"rh\"]:\n",
    "    out_fs = freesurfer('--imagepath', 'freesurfer-freesurfer-7.1.1.simg.tmp',\n",
    "                                        qdec='qdec_long_groups.dat',\n",
    "                                        meas='thickness',\n",
    "                                        hemi=hemi,\n",
    "                                        time='years',\n",
    "                                        license=\"FS_license/license.txt\",\n",
    "                                        stack_avg='{hemi}.long.thickness-avg.stack.mgh'.format(hemi=hemi),\n",
    "                                        stack_rate='{hemi}.long.thickness-rate.stack.mgh'.format(hemi=hemi),\n",
    "                                        stack_pc1fit='{hemi}.long.thickness-pc1fit.stack.mgh'.format(hemi=hemi),\n",
    "                                        stack_pc1='{hemi}.long.thickness-pc1.stack.mgh'.format(hemi=hemi),\n",
    "                                        stack_spc='{hemi}.long.thickness-spc.stack.mgh'.format(hemi=hemi),\n",
    "                                       )"
   ]
  },
  {
   "cell_type": "code",
   "execution_count": null,
   "id": "a5bf9bff",
   "metadata": {},
   "outputs": [],
   "source": [
    "%%sbatch\n",
    "#!/bin/bash\n",
    "#SBATCH --job-name=FS_mris_slopes\n",
    "#SBATCH --mem=4G\n",
    "#SBATCH --cpus-per-task=2\n",
    "#SBATCH --nodes=1\n",
    "#SBATCH --output=FS_mris_slopes.out\n",
    "#SBATCH --error=FS_mris_slopes.err\n",
    "#SBATCH --time=20:0:0\n",
    "\n",
    ". venv/bin/activate # opens virtual environment. change depending where you proprocess the data  \n",
    "\n",
    "module load singularity\n",
    "\n",
    "python preprocess_FS_long_mris_slopes.py"
   ]
  },
  {
   "cell_type": "markdown",
   "id": "a4e1018b",
   "metadata": {},
   "source": [
    "## Create FSGD file for the group analysis - baseline - t-test"
   ]
  },
  {
   "cell_type": "code",
   "execution_count": null,
   "id": "46d2de1a",
   "metadata": {},
   "outputs": [],
   "source": [
    "hc_mix[\"dx_group\"] = \"HC\"\n",
    "nc_mix[\"dx_group\"] = \"PD-non-MCI\"\n",
    "mci_mix[\"dx_group\"] = \"PD-MCI\"\n",
    "\n",
    "cohort_df_PDall = pd.concat([nc_mix, mci_mix])\n",
    "cohort_df_PDMCI_HC = pd.concat([hc_mix, mci_mix])\n",
    "cohort_df_PDnonMCI_HC = pd.concat([hc_mix, nc_mix])"
   ]
  },
  {
   "cell_type": "code",
   "execution_count": null,
   "id": "29e74408",
   "metadata": {},
   "outputs": [],
   "source": [
    "# PD all group\n",
    "\n",
    "fsgd_cortThick_diff = cohort_df_PDall[[\"PATNO\",\"AGE_AT_VISIT\",\"SEX\",\"EDUCYRS\",\"LEDD\",\"dx_group\"]]\n",
    "fsgd_cortThick_diff[\"Input\"] = \"Input\"\n",
    "fsgd_cortThick_diff[\"PATNO\"] = fsgd_cortThick_diff[\"PATNO\"].astype(str) + \"_first\"\n",
    "fsgd_cortThick_diff = fsgd_cortThick_diff[\n",
    "    [\"Input\", \"PATNO\", \"dx_group\", \"AGE_AT_VISIT\",\"SEX\",\"EDUCYRS\",\"LEDD\"]\n",
    "]\n",
    "\n",
    "# generate sample matrix\n",
    "fsgd_cortThick_diff.to_csv(\"fsgd_group_cort_PDall_baseline.txt\", sep=\"\\t\", index=False, header=None)\n",
    "\n",
    "# generate file header\n",
    "with open(\"fsgd_group_desc_PDall_baseline.txt\", \"w\") as f:\n",
    "    f.write(\n",
    "        \"GroupDescriptorFile 1\\nTitle GroupDifferences\\nClass PD-non-MCI\\nClass PD-MCI\\nVariables age sex education LDopa\\n\"\n",
    "    )\n",
    "\n",
    "\n",
    "with open(\"fsgd_cort_group_PDnonMCI_PDMCI_baseline.fsgd\", \"wb\") as outfile:\n",
    "    for f in [\"fsgd_group_desc_PDall_baseline.txt\", \"fsgd_group_cort_PDall_baseline.txt\"]:\n",
    "        with open(f, \"rb\") as infile:\n",
    "            outfile.write(infile.read())\n",
    "\n",
    "# PD-MCI and HC group\n",
    "\n",
    "fsgd_cortThick_diff = cohort_df_PDMCI_HC[[\"PATNO\",\"AGE_AT_VISIT\",\"SEX\",\"EDUCYRS\",\"dx_group\"]]\n",
    "fsgd_cortThick_diff[\"Input\"] = \"Input\"\n",
    "fsgd_cortThick_diff[\"PATNO\"] = fsgd_cortThick_diff[\"PATNO\"].astype(str) + \"_first\"\n",
    "fsgd_cortThick_diff = fsgd_cortThick_diff[\n",
    "    [\"Input\", \"PATNO\", \"dx_group\", \"AGE_AT_VISIT\",\"SEX\",\"EDUCYRS\"]\n",
    "]\n",
    "\n",
    "# generate sample matrix\n",
    "fsgd_cortThick_diff.to_csv(\"fsgd_group_cort_PDMCI_HC_baseline.txt\", sep=\"\\t\", index=False, header=None)\n",
    "\n",
    "# generate file header\n",
    "with open(\"fsgd_group_desc_PDMCI_HC_baseline.txt\", \"w\") as f:\n",
    "    f.write(\n",
    "        \"GroupDescriptorFile 1\\nTitle GroupDifferences\\nClass HC\\nClass PD-MCI\\nVariables age sex education\\n\"\n",
    "    )\n",
    "\n",
    "\n",
    "with open(\"fsgd_cort_group_HC_PDMCI_baseline.fsgd\", \"wb\") as outfile:\n",
    "    for f in [\"fsgd_group_desc_PDMCI_HC_baseline.txt\", \"fsgd_group_cort_PDMCI_HC_baseline.txt\"]:\n",
    "        with open(f, \"rb\") as infile:\n",
    "            outfile.write(infile.read())\n",
    "            \n",
    "# PD-non-MCI and HC group\n",
    "\n",
    "fsgd_cortThick_diff = cohort_df_PDnonMCI_HC[[\"PATNO\",\"AGE_AT_VISIT\",\"SEX\",\"EDUCYRS\",\"dx_group\"]]\n",
    "fsgd_cortThick_diff[\"Input\"] = \"Input\"\n",
    "fsgd_cortThick_diff[\"PATNO\"] = fsgd_cortThick_diff[\"PATNO\"].astype(str) + \"_first\"\n",
    "fsgd_cortThick_diff = fsgd_cortThick_diff[\n",
    "    [\"Input\", \"PATNO\", \"dx_group\", \"AGE_AT_VISIT\",\"SEX\",\"EDUCYRS\"]\n",
    "]\n",
    "\n",
    "# generate sample matrix\n",
    "fsgd_cortThick_diff.to_csv(\"fsgd_group_cort_PDnonMCI_HC_baseline.txt\", sep=\"\\t\", index=False, header=None)\n",
    "\n",
    "# generate file header\n",
    "with open(\"fsgd_group_desc_PDnonMCI_HC_baseline.txt\", \"w\") as f:\n",
    "    f.write(\n",
    "        \"GroupDescriptorFile 1\\nTitle GroupDifferences\\nClass HC\\nClass PD-non-MCI\\nVariables age sex education\\n\"\n",
    "    )\n",
    "\n",
    "\n",
    "with open(\"fsgd_cort_group_HC_PDnonMCI_baseline.fsgd\", \"wb\") as outfile:\n",
    "    for f in [\"fsgd_group_desc_PDnonMCI_HC_baseline.txt\", \"fsgd_group_cort_PDnonMCI_HC_baseline.txt\"]:\n",
    "        with open(f, \"rb\") as infile:\n",
    "            outfile.write(infile.read())"
   ]
  },
  {
   "cell_type": "markdown",
   "id": "1172bfaf",
   "metadata": {},
   "source": [
    "## Stack images for group analyses - baseline - t-test"
   ]
  },
  {
   "cell_type": "code",
   "execution_count": null,
   "id": "b32b5ef7",
   "metadata": {},
   "outputs": [],
   "source": [
    "%%writefile preprocess_FS_mris_preproc_group_baseline_ttest.py\n",
    "\n",
    "# Concatenate images from group analysis\n",
    "\n",
    "import os\n",
    "import json\n",
    "\n",
    "import boutiques\n",
    "from boutiques import bosh\n",
    "zid = \"zenodo.7387748\"\n",
    "from boutiques.descriptor2func import function\n",
    "freesurfer = function(zid)\n",
    "\n",
    "for group in [\"PDnonMCI_PDMCI\", \"HC_PDMCI\", \"HC_PDnonMCI\"]:\n",
    "    for hemi in [\"lh\", \"rh\"]:\n",
    "        out_fs = freesurfer('--imagepath', 'freesurfer-freesurfer-7.1.1.simg.tmp',\n",
    "                                        hemi=hemi,\n",
    "                                        license=\"FS_license/license.txt\",\n",
    "                                        cachein=\"thickness.fwhm15.fsaverage\",\n",
    "                                        target=\"fsaverage\",\n",
    "                                        fsgd='fsgd_cort_group_{group}_baseline.fsgd'.format(group=group),\n",
    "                                        out='stack.{hemi}.group.{group}.thickness.15.baseline.mgh'.format(hemi=hemi,group=group),\n",
    "                                       )"
   ]
  },
  {
   "cell_type": "code",
   "execution_count": null,
   "id": "336b1843",
   "metadata": {},
   "outputs": [],
   "source": [
    "%%sbatch\n",
    "#!/bin/bash\n",
    "#SBATCH --job-name=FS_mris_preproc_group\n",
    "#SBATCH --mem=1G\n",
    "#SBATCH --cpus-per-task=2\n",
    "#SBATCH --nodes=1\n",
    "#SBATCH --output=FS_mris_preproc_group_baseline_ttest.out\n",
    "#SBATCH --error=FS_mris_preproc_group_baseline_ttest.err\n",
    "#SBATCH --time=0:10:0\n",
    "\n",
    ". venv/bin/activate # opens virtual environment. change depending where you proprocess the data  \n",
    "\n",
    "module load singularity\n",
    "\n",
    "python preprocess_FS_mris_preproc_group_baseline_ttest.py"
   ]
  },
  {
   "cell_type": "markdown",
   "id": "9316c7bd",
   "metadata": {},
   "source": [
    "## Create FSGD file for the group analysis - longitudinal - t-test"
   ]
  },
  {
   "cell_type": "code",
   "execution_count": null,
   "id": "3e5d3c3a",
   "metadata": {},
   "outputs": [],
   "source": [
    "# PD all group\n",
    "\n",
    "fsgd_cortThick_diff = cohort_df_PDall[[\"PATNO\",\"AGE_AT_VISIT\",\"SEX\",\"EDUCYRS\",\"LEDD\",\"dx_group\"]]\n",
    "fsgd_cortThick_diff[\"Input\"] = \"Input\"\n",
    "fsgd_cortThick_diff[\"PATNO\"] = fsgd_cortThick_diff[\"PATNO\"].astype(str) + \"_base\"\n",
    "fsgd_cortThick_diff = fsgd_cortThick_diff[\n",
    "    [\"Input\", \"PATNO\", \"dx_group\", \"AGE_AT_VISIT\",\"SEX\",\"EDUCYRS\",\"LEDD\"]\n",
    "]\n",
    "\n",
    "# generate sample matrix\n",
    "fsgd_cortThick_diff.to_csv(\"fsgd_group_cort_PDall_long.txt\", sep=\"\\t\", index=False, header=None)\n",
    "\n",
    "# generate file header\n",
    "with open(\"fsgd_group_desc_PDall_long.txt\", \"w\") as f:\n",
    "    f.write(\n",
    "        \"GroupDescriptorFile 1\\nTitle GroupDifferences\\nClass PD-non-MCI\\nClass PD-MCI\\nVariables age sex education LDopa\\n\"\n",
    "    )\n",
    "\n",
    "\n",
    "with open(\"fsgd_cort_group_PDnonMCI_PDMCI_long.fsgd\", \"wb\") as outfile:\n",
    "    for f in [\"fsgd_group_desc_PDall_long.txt\", \"fsgd_group_cort_PDall_long.txt\"]:\n",
    "        with open(f, \"rb\") as infile:\n",
    "            outfile.write(infile.read())\n",
    "\n",
    "# PD-MCI and HC group\n",
    "\n",
    "fsgd_cortThick_diff = cohort_df_PDMCI_HC[[\"PATNO\",\"AGE_AT_VISIT\",\"SEX\",\"EDUCYRS\",\"dx_group\"]]\n",
    "fsgd_cortThick_diff[\"Input\"] = \"Input\"\n",
    "fsgd_cortThick_diff[\"PATNO\"] = fsgd_cortThick_diff[\"PATNO\"].astype(str) + \"_base\"\n",
    "fsgd_cortThick_diff = fsgd_cortThick_diff[\n",
    "    [\"Input\", \"PATNO\", \"dx_group\", \"AGE_AT_VISIT\",\"SEX\",\"EDUCYRS\"]\n",
    "]\n",
    "\n",
    "# generate sample matrix\n",
    "fsgd_cortThick_diff.to_csv(\"fsgd_group_cort_PDMCI_HC_long.txt\", sep=\"\\t\", index=False, header=None)\n",
    "\n",
    "# generate file header\n",
    "with open(\"fsgd_group_desc_PDMCI_HC_long.txt\", \"w\") as f:\n",
    "    f.write(\n",
    "        \"GroupDescriptorFile 1\\nTitle GroupDifferences\\nClass HC\\nClass PD-MCI\\nVariables age sex education\\n\"\n",
    "    )\n",
    "\n",
    "\n",
    "with open(\"fsgd_cort_group_HC_PDMCI_long.fsgd\", \"wb\") as outfile:\n",
    "    for f in [\"fsgd_group_desc_PDMCI_HC_long.txt\", \"fsgd_group_cort_PDMCI_HC_long.txt\"]:\n",
    "        with open(f, \"rb\") as infile:\n",
    "            outfile.write(infile.read())\n",
    "            \n",
    "# PD-non-MCI and HC group\n",
    "\n",
    "fsgd_cortThick_diff = cohort_df_PDnonMCI_HC[[\"PATNO\",\"AGE_AT_VISIT\",\"SEX\",\"EDUCYRS\",\"dx_group\"]]\n",
    "fsgd_cortThick_diff[\"Input\"] = \"Input\"\n",
    "fsgd_cortThick_diff[\"PATNO\"] = fsgd_cortThick_diff[\"PATNO\"].astype(str) + \"_base\"\n",
    "fsgd_cortThick_diff = fsgd_cortThick_diff[\n",
    "    [\"Input\", \"PATNO\", \"dx_group\", \"AGE_AT_VISIT\",\"SEX\",\"EDUCYRS\"]\n",
    "]\n",
    "\n",
    "# generate sample matrix\n",
    "fsgd_cortThick_diff.to_csv(\"fsgd_group_cort_PDnonMCI_HC_long.txt\", sep=\"\\t\", index=False, header=None)\n",
    "\n",
    "# generate file header\n",
    "with open(\"fsgd_group_desc_PDnonMCI_HC_long.txt\", \"w\") as f:\n",
    "    f.write(\n",
    "        \"GroupDescriptorFile 1\\nTitle GroupDifferences\\nClass HC\\nClass PD-non-MCI\\nVariables age sex education\\n\"\n",
    "    )\n",
    "\n",
    "\n",
    "with open(\"fsgd_cort_group_HC_PDnonMCI_long.fsgd\", \"wb\") as outfile:\n",
    "    for f in [\"fsgd_group_desc_PDnonMCI_HC_long.txt\", \"fsgd_group_cort_PDnonMCI_HC_long.txt\"]:\n",
    "        with open(f, \"rb\") as infile:\n",
    "            outfile.write(infile.read())"
   ]
  },
  {
   "cell_type": "markdown",
   "id": "da87cb07",
   "metadata": {},
   "source": [
    "## Stack images for group analyses - longitudinal - t-test"
   ]
  },
  {
   "cell_type": "code",
   "execution_count": null,
   "id": "6264567c",
   "metadata": {},
   "outputs": [],
   "source": [
    "%%writefile preprocess_FS_mris_preproc_group_long_ttest.py\n",
    "\n",
    "# Concatenate images from group analysis\n",
    "\n",
    "import os\n",
    "import json\n",
    "\n",
    "import boutiques\n",
    "from boutiques import bosh\n",
    "zid = \"zenodo.7387748\"\n",
    "from boutiques.descriptor2func import function\n",
    "freesurfer = function(zid)\n",
    "\n",
    "for group in [\"PDnonMCI_PDMCI\", \"HC_PDMCI\", \"HC_PDnonMCI\"]:\n",
    "    for hemi in [\"lh\", \"rh\"]:\n",
    "        out_fs = freesurfer('--imagepath', 'freesurfer-freesurfer-7.1.1.simg.tmp',\n",
    "                                        hemi=hemi,\n",
    "                                        license=\"FS_license/license.txt\",\n",
    "                                        cachein=\"long.thickness-rate.fwhm15.fsaverage\",\n",
    "                                        target=\"fsaverage\",\n",
    "                                        fsgd='fsgd_cort_group_{group}_long.fsgd'.format(group=group),\n",
    "                                        out='stack.{hemi}.group.{group}.thickness.rate.15.long.mgh'.format(hemi=hemi,group=group),\n",
    "                                       )"
   ]
  },
  {
   "cell_type": "code",
   "execution_count": null,
   "id": "4bb3d968",
   "metadata": {},
   "outputs": [],
   "source": [
    "%%sbatch\n",
    "#!/bin/bash\n",
    "#SBATCH --job-name=FS_mris_preproc_group\n",
    "#SBATCH --mem=1G\n",
    "#SBATCH --cpus-per-task=2\n",
    "#SBATCH --nodes=1\n",
    "#SBATCH --output=FS_mris_preproc_group_long_ttest.out\n",
    "#SBATCH --error=FS_mris_preproc_group_long_ttest.err\n",
    "#SBATCH --time=0:10:0\n",
    "\n",
    ". venv/bin/activate # opens virtual environment. change depending where you proprocess the data  \n",
    "\n",
    "module load singularity\n",
    "\n",
    "python preprocess_FS_mris_preproc_group_long_ttest.py"
   ]
  },
  {
   "cell_type": "markdown",
   "id": "98b54ed7",
   "metadata": {},
   "source": [
    "## Run GLM model for the group analysis - baseline - t-test"
   ]
  },
  {
   "cell_type": "code",
   "execution_count": null,
   "id": "df83089d",
   "metadata": {},
   "outputs": [],
   "source": [
    "# create group contrasts\n",
    "\n",
    "with open(\"con_group_PDnonMCI_PDMCI.mtx\", \"w\") as f:\n",
    "    f.write(\"1 -1 0 0 0 0 0 0 0 0\")\n",
    "with open(\"con_group_HC_PDMCI.mtx\", \"w\") as f:\n",
    "    f.write(\"1 -1 0 0 0 0 0 0\")\n",
    "with open(\"con_group_HC_PDnonMCI.mtx\", \"w\") as f:\n",
    "    f.write(\"1 -1 0 0 0 0 0 0\")"
   ]
  },
  {
   "cell_type": "code",
   "execution_count": null,
   "id": "5bf681aa",
   "metadata": {},
   "outputs": [],
   "source": [
    "%%writefile glm_group_base_ttest.py\n",
    "\n",
    "# GLM model for the group analysis\n",
    "\n",
    "import os\n",
    "import json\n",
    "\n",
    "import boutiques\n",
    "from boutiques import bosh\n",
    "zid = \"zenodo.7411854\"\n",
    "from boutiques.descriptor2func import function\n",
    "freesurfer = function(zid)\n",
    "\n",
    "for group in [\"PDnonMCI_PDMCI\", \"HC_PDMCI\", \"HC_PDnonMCI\"]:\n",
    "    for hemi in [\"lh\", \"rh\"]:  \n",
    "        out_fs = freesurfer('--imagepath', 'freesurfer-freesurfer-7.1.1.simg.tmp',\n",
    "                                        hemi=hemi,\n",
    "                                        license=\"FS_license/license.txt\",\n",
    "                                        outdir='results_group_baseline_{group}_{hemi}'.format(group=group,hemi=hemi),\n",
    "                                        inputdata='stack.{hemi}.group.{group}.thickness.15.baseline.mgh'.format(hemi=hemi,group=group),\n",
    "                                        fsgd='fsgd_cort_group_{group}_baseline.fsgd'.format(group=group),\n",
    "                                        con='con_group_{group}.mtx'.format(group=group) \n",
    "                                       )"
   ]
  },
  {
   "cell_type": "code",
   "execution_count": null,
   "id": "7e23ba5d",
   "metadata": {},
   "outputs": [],
   "source": [
    "%%sbatch\n",
    "#!/bin/bash\n",
    "#SBATCH --job-name=glm_group\n",
    "#SBATCH --mem=1G\n",
    "#SBATCH --cpus-per-task=2\n",
    "#SBATCH --nodes=1\n",
    "#SBATCH --output=FS_glm_group_base_ttest.out\n",
    "#SBATCH --error=FS_glm_group_base_test.err\n",
    "#SBATCH --time=0:10:0\n",
    "\n",
    ". venv/bin/activate # opens virtual environment. change depending where you proprocess the data  \n",
    "\n",
    "module load singularity\n",
    "\n",
    "python glm_group_base_ttest.py"
   ]
  },
  {
   "cell_type": "markdown",
   "id": "5209a26e",
   "metadata": {},
   "source": [
    "## Run GLM model for the group analysis - longitudinal - t-test"
   ]
  },
  {
   "cell_type": "code",
   "execution_count": null,
   "id": "f7ce79c4",
   "metadata": {},
   "outputs": [],
   "source": [
    "%%writefile glm_group_long_ttest.py\n",
    "\n",
    "# GLM model for the group analysis\n",
    "\n",
    "import os\n",
    "import json\n",
    "\n",
    "import boutiques\n",
    "from boutiques import bosh\n",
    "zid = \"zenodo.7411854\"\n",
    "from boutiques.descriptor2func import function\n",
    "freesurfer = function(zid)\n",
    "\n",
    "for group in [\"PDnonMCI_PDMCI\", \"HC_PDMCI\", \"HC_PDnonMCI\"]:\n",
    "    for hemi in [\"lh\", \"rh\"]:  \n",
    "        out_fs = freesurfer('--imagepath', 'freesurfer-freesurfer-7.1.1.simg.tmp',\n",
    "                                        hemi=hemi,\n",
    "                                        license=\"FS_license/license.txt\",\n",
    "                                        outdir='results_group_long_{group}_{hemi}'.format(group=group,hemi=hemi),\n",
    "                                        inputdata='stack.{hemi}.group.{group}.thickness.rate.15.long.mgh'.format(hemi=hemi,group=group),\n",
    "                                        fsgd='fsgd_cort_group_{group}_long.fsgd'.format(group=group),\n",
    "                                        con='con_group_{group}.mtx'.format(group=group) \n",
    "                                       )"
   ]
  },
  {
   "cell_type": "code",
   "execution_count": null,
   "id": "693f9d32",
   "metadata": {},
   "outputs": [],
   "source": [
    "%%sbatch\n",
    "#!/bin/bash\n",
    "#SBATCH --job-name=glm_group\n",
    "#SBATCH --mem=1G\n",
    "#SBATCH --cpus-per-task=2\n",
    "#SBATCH --nodes=1\n",
    "#SBATCH --output=FS_glm_group_long_ttest.out\n",
    "#SBATCH --error=FS_glm_group_long_ttest.err\n",
    "#SBATCH --time=0:10:0\n",
    "\n",
    ". venv/bin/activate # opens virtual environment. change depending where you proprocess the data  \n",
    "\n",
    "module load singularity\n",
    "\n",
    "python glm_group_long_ttest.py"
   ]
  },
  {
   "cell_type": "markdown",
   "id": "8aab3014",
   "metadata": {},
   "source": [
    "## Correction for multiple comparison (with mri_glmfit-sim) - t-test"
   ]
  },
  {
   "cell_type": "code",
   "execution_count": null,
   "id": "6c7ec13e",
   "metadata": {},
   "outputs": [],
   "source": [
    "%%writefile glm_group_sim_ttest.py\n",
    "\n",
    "# GLM model for the group analysis\n",
    "\n",
    "import os\n",
    "import json\n",
    "\n",
    "import boutiques\n",
    "from boutiques import bosh\n",
    "zid = \"zenodo.7411893\"\n",
    "from boutiques.descriptor2func import function\n",
    "freesurfer = function(zid)\n",
    "\n",
    "for group in [\"PDnonMCI_PDMCI\", \"HC_PDMCI\", \"HC_PDnonMCI\"]:\n",
    "    for hemi in [\"lh\", \"rh\"]:\n",
    "        for time in [\"baseline\", \"long\"]:\n",
    "            out_fs = freesurfer('--imagepath', 'freesurfer-freesurfer-7.1.1.simg.tmp',\n",
    "                                        license=\"FS_license/license.txt\",\n",
    "                                        dir='results_group_{time}_{group}_{hemi}'.format(time=time,hemi=hemi,group=group),\n",
    "                                        CACHE_abs='1.3',\n",
    "                                        cwp=\"0.05\"\n",
    "                                       )"
   ]
  },
  {
   "cell_type": "code",
   "execution_count": null,
   "id": "067bb321",
   "metadata": {},
   "outputs": [],
   "source": [
    "%%sbatch\n",
    "#!/bin/bash\n",
    "#SBATCH --job-name=glm_group_sim\n",
    "#SBATCH --mem=1G\n",
    "#SBATCH --cpus-per-task=2\n",
    "#SBATCH --nodes=1\n",
    "#SBATCH --output=FS_glm_sim_group_ttest.out\n",
    "#SBATCH --error=FS_glm_sim_group_ttest.err\n",
    "#SBATCH --time=0:10:0\n",
    "\n",
    ". venv/bin/activate # opens virtual environment. change depending where you proprocess the data  \n",
    "\n",
    "module load singularity\n",
    "\n",
    "python glm_group_sim_ttest.py"
   ]
  },
  {
   "cell_type": "markdown",
   "id": "ed9968d2",
   "metadata": {},
   "source": [
    "## Create FSGD file for the group analysis - baseline - ANCOVA"
   ]
  },
  {
   "cell_type": "code",
   "execution_count": null,
   "id": "ac976e81",
   "metadata": {},
   "outputs": [],
   "source": [
    "hc_mix[\"dx_group\"] = \"HC\"\n",
    "nc_mix[\"dx_group\"] = \"PD-non-MCI\"\n",
    "mci_mix[\"dx_group\"] = \"PD-MCI\"\n",
    "\n",
    "cohort_df = pd.concat([hc_mix, nc_mix, mci_mix])"
   ]
  },
  {
   "cell_type": "code",
   "execution_count": null,
   "id": "115adb88",
   "metadata": {},
   "outputs": [],
   "source": [
    "\n",
    "fsgd_cortThick_diff = cohort_df[[\"PATNO\",\"AGE_AT_VISIT\",\"SEX\",\"EDUCYRS\",\"dx_group\"]]\n",
    "fsgd_cortThick_diff[\"Input\"] = \"Input\"\n",
    "fsgd_cortThick_diff[\"PATNO\"] = fsgd_cortThick_diff[\"PATNO\"].astype(str) + \"_first\"\n",
    "fsgd_cortThick_diff = fsgd_cortThick_diff[\n",
    "    [\"Input\", \"PATNO\", \"dx_group\", \"AGE_AT_VISIT\",\"SEX\",\"EDUCYRS\"]\n",
    "]\n",
    "\n",
    "# generate sample matrix\n",
    "fsgd_cortThick_diff.to_csv(\"fsgd_group_cort_baseline.txt\", sep=\"\\t\", index=False, header=None)\n",
    "\n",
    "# generate file header\n",
    "with open(\"fsgd_group_desc_baseline.txt\", \"w\") as f:\n",
    "    f.write(\n",
    "        \"GroupDescriptorFile 1\\nTitle GroupDifferences\\nClass HC\\nClass PD-non-MCI\\nClass PD-MCI\\nVariables age sex education\\n\"\n",
    "    )\n",
    "\n",
    "\n",
    "with open(\"fsgd_cort_group_baseline.fsgd\", \"wb\") as outfile:\n",
    "    for f in [\"fsgd_group_desc_baseline.txt\", \"fsgd_group_cort_baseline.txt\"]:\n",
    "        with open(f, \"rb\") as infile:\n",
    "            outfile.write(infile.read())\n",
    "\n"
   ]
  },
  {
   "cell_type": "markdown",
   "id": "6e882636",
   "metadata": {},
   "source": [
    "## Stack images for group analyses - baseline - ANCOVA"
   ]
  },
  {
   "cell_type": "code",
   "execution_count": null,
   "id": "d37390e1",
   "metadata": {},
   "outputs": [],
   "source": [
    "%%writefile preprocess_FS_mris_preproc_group_baseline.py\n",
    "\n",
    "# Concatenate images from group analysis\n",
    "\n",
    "import os\n",
    "import json\n",
    "\n",
    "import boutiques\n",
    "from boutiques import bosh\n",
    "zid = \"zenodo.7387748\"\n",
    "from boutiques.descriptor2func import function\n",
    "freesurfer = function(zid)\n",
    "\n",
    "\n",
    "for hemi in [\"lh\", \"rh\"]:\n",
    "    out_fs = freesurfer('--imagepath', 'freesurfer-freesurfer-7.1.1.simg.tmp',\n",
    "                                        hemi=hemi,\n",
    "                                        license=\"FS_license/license.txt\",\n",
    "                                        cachein=\"thickness.fwhm15.fsaverage\",\n",
    "                                        target=\"fsaverage\",\n",
    "                                        fsgd='fsgd_cort_group_baseline.fsgd',\n",
    "                                        out='stack.{hemi}.group.thickness.15.baseline.mgh'.format(hemi=hemi),\n",
    "                                       )"
   ]
  },
  {
   "cell_type": "code",
   "execution_count": null,
   "id": "5de1fa8a",
   "metadata": {},
   "outputs": [],
   "source": [
    "%%sbatch\n",
    "#!/bin/bash\n",
    "#SBATCH --job-name=FS_mris_preproc_group\n",
    "#SBATCH --mem=1G\n",
    "#SBATCH --cpus-per-task=2\n",
    "#SBATCH --nodes=1\n",
    "#SBATCH --output=FS_mris_preproc_group_baseline.out\n",
    "#SBATCH --error=FS_mris_preproc_group_baseline.err\n",
    "#SBATCH --time=0:10:0\n",
    "\n",
    ". venv/bin/activate # opens virtual environment. change depending where you proprocess the data  \n",
    "\n",
    "module load singularity\n",
    "\n",
    "python preprocess_FS_mris_preproc_group_baseline.py"
   ]
  },
  {
   "cell_type": "markdown",
   "id": "31491e43",
   "metadata": {},
   "source": [
    "## Create FSGD file for the group analysis - longitudinal - ANCOVA"
   ]
  },
  {
   "cell_type": "code",
   "execution_count": null,
   "id": "14956269",
   "metadata": {},
   "outputs": [],
   "source": [
    "\n",
    "fsgd_cortThick_diff = cohort_df[[\"PATNO\",\"AGE_AT_VISIT\",\"SEX\",\"EDUCYRS\",\"dx_group\"]]\n",
    "fsgd_cortThick_diff[\"Input\"] = \"Input\"\n",
    "fsgd_cortThick_diff[\"PATNO\"] = fsgd_cortThick_diff[\"PATNO\"].astype(str) + \"_base\"\n",
    "fsgd_cortThick_diff = fsgd_cortThick_diff[\n",
    "    [\"Input\", \"PATNO\", \"dx_group\", \"AGE_AT_VISIT\",\"SEX\",\"EDUCYRS\"]\n",
    "]\n",
    "\n",
    "# generate sample matrix\n",
    "fsgd_cortThick_diff.to_csv(\"fsgd_group_cort_long.txt\", sep=\"\\t\", index=False, header=None)\n",
    "\n",
    "# generate file header\n",
    "with open(\"fsgd_group_desc_long.txt\", \"w\") as f:\n",
    "    f.write(\n",
    "        \"GroupDescriptorFile 1\\nTitle GroupDifferences\\nClass HC\\nClass PD-non-MCI\\nClass PD-MCI\\nVariables age sex education\\n\"\n",
    "    )\n",
    "\n",
    "\n",
    "with open(\"fsgd_cort_group_long.fsgd\", \"wb\") as outfile:\n",
    "    for f in [\"fsgd_group_desc_long.txt\", \"fsgd_group_cort_long.txt\"]:\n",
    "        with open(f, \"rb\") as infile:\n",
    "            outfile.write(infile.read())"
   ]
  },
  {
   "cell_type": "markdown",
   "id": "3767a17b",
   "metadata": {},
   "source": [
    "## Stack images for group analyses - longitudinal - ANCOVA"
   ]
  },
  {
   "cell_type": "code",
   "execution_count": null,
   "id": "3f7008e7",
   "metadata": {},
   "outputs": [],
   "source": [
    "%%writefile preprocess_FS_mris_preproc_group_long.py\n",
    "\n",
    "# Concatenate images from group analysis\n",
    "\n",
    "import os\n",
    "import json\n",
    "\n",
    "import boutiques\n",
    "from boutiques import bosh\n",
    "zid = \"zenodo.7387748\"\n",
    "from boutiques.descriptor2func import function\n",
    "freesurfer = function(zid)\n",
    "\n",
    "\n",
    "for hemi in [\"lh\", \"rh\"]:\n",
    "    out_fs = freesurfer('--imagepath', 'freesurfer-freesurfer-7.1.1.simg.tmp',\n",
    "                                        hemi=hemi,\n",
    "                                        license=\"FS_license/license.txt\",\n",
    "                                        cachein=\"long.thickness-rate.fwhm15.fsaverage\",\n",
    "                                        target=\"fsaverage\",\n",
    "                                        fsgd='fsgd_cort_group_long.fsgd',\n",
    "                                        out='stack.{hemi}.group.thickness.rate.15.long.mgh'.format(hemi=hemi),\n",
    "                                       )\n"
   ]
  },
  {
   "cell_type": "code",
   "execution_count": null,
   "id": "ae4f1885",
   "metadata": {},
   "outputs": [],
   "source": [
    "%%sbatch\n",
    "#!/bin/bash\n",
    "#SBATCH --job-name=FS_mris_preproc_group\n",
    "#SBATCH --mem=1G\n",
    "#SBATCH --cpus-per-task=2\n",
    "#SBATCH --nodes=1\n",
    "#SBATCH --output=FS_mris_preproc_group_long.out\n",
    "#SBATCH --error=FS_mris_preproc_group_long.err\n",
    "#SBATCH --time=0:10:0\n",
    "\n",
    ". venv/bin/activate # opens virtual environment. change depending where you proprocess the data  \n",
    "\n",
    "module load singularity\n",
    "\n",
    "python preprocess_FS_mris_preproc_group_long.py"
   ]
  },
  {
   "cell_type": "markdown",
   "id": "2a343442",
   "metadata": {},
   "source": [
    "## Create FSGD file for the correlational analysis - baseline"
   ]
  },
  {
   "cell_type": "code",
   "execution_count": null,
   "id": "3082d5a3",
   "metadata": {},
   "outputs": [],
   "source": [
    "cohort_df_PD = pd.concat([nc_mix, mci_mix])\n",
    "\n",
    "fsgd_cortThick_mcat = cohort_df_PD[[\"PATNO\",\"AGE_AT_VISIT\",\"SEX\",\"EDUCYRS\",\"MCATOT\"]]\n",
    "fsgd_cortThick_mcat[\"Input\"] = \"Input\"\n",
    "fsgd_cortThick_mcat[\"dx_group\"] = \"PDall\"\n",
    "fsgd_cortThick_mcat[\"PATNO\"] = fsgd_cortThick_mcat[\"PATNO\"].astype(str) + \"_first\"\n",
    "fsgd_cortThick_mcat = fsgd_cortThick_mcat[\n",
    "    [\"Input\", \"PATNO\", \"dx_group\", \"MCATOT\",\"AGE_AT_VISIT\",\"SEX\",\"EDUCYRS\"]\n",
    "]\n"
   ]
  },
  {
   "cell_type": "code",
   "execution_count": null,
   "id": "37027e38",
   "metadata": {},
   "outputs": [],
   "source": [
    "# generate fsgd files for correlational analysis\n",
    "# make sure that the order of subjects in each FSGD file is the same as in long.qdec table\n",
    "\n",
    "for group in [\"PDall\"]:\n",
    "\n",
    "    # generate sample matrix\n",
    "    exec(\n",
    "        \"fsgd_cortThick_mcat.to_csv('fsgd_corr_%s_cort.txt', sep='\\t', index=False, header=None)\"\n",
    "        % (group)\n",
    "    )\n",
    "\n",
    "    # generate file header\n",
    "    with open(\"fsgd_corr_{group}_desc.txt\".format(group=group), \"w\") as f:\n",
    "        f.write(\n",
    "            \"GroupDescriptorFile 1\\nTitle GroupDifferences\\nMeasurementName MoCA\\nClass {group}\\nVariables MoCA age sex education\\n\".format(\n",
    "                group=group\n",
    "            )\n",
    "        )\n",
    "\n",
    "    # generate fsgd file\n",
    "    with open(\"fsgd_corr_{group}_group.fsgd\".format(group=group), \"wb\") as outfile:\n",
    "        for f in [\n",
    "            \"fsgd_corr_{group}_desc.txt\".format(group=group),\n",
    "            \"fsgd_corr_{group}_cort.txt\".format(group=group),\n",
    "        ]:\n",
    "            with open(f, \"rb\") as infile:\n",
    "                outfile.write(infile.read())"
   ]
  },
  {
   "cell_type": "markdown",
   "id": "99d16682",
   "metadata": {},
   "source": [
    "## Stack images for correlational analyses - baseline"
   ]
  },
  {
   "cell_type": "code",
   "execution_count": null,
   "id": "611b9b6b",
   "metadata": {},
   "outputs": [],
   "source": [
    "%%writefile preprocess_FS_mris_preproc_corr.py\n",
    "\n",
    "# Concatenate images from correlation analysis\n",
    "\n",
    "import os\n",
    "import json\n",
    "\n",
    "import boutiques\n",
    "from boutiques import bosh\n",
    "zid = \"zenodo.7387748\"\n",
    "from boutiques.descriptor2func import function\n",
    "freesurfer = function(zid)\n",
    "\n",
    "\n",
    "for hemi in [\"lh\", \"rh\"]:\n",
    "    for group in [\"PDall\"]:\n",
    "        out_fs = freesurfer('--imagepath', 'freesurfer-freesurfer-7.1.1.simg.tmp',\n",
    "                                        hemi=hemi,\n",
    "                                        license=\"FS_license/license.txt\",\n",
    "                                        cachein=\"thickness.fwhm15.fsaverage\",\n",
    "                                        target=\"fsaverage\",\n",
    "                                        fsgd='fsgd_corr_{group}_group.fsgd'.format(group=group),\n",
    "                                        out='stack.{hemi}.corr.{group}.thickness.rate.15.mgh'.format(hemi=hemi, group=group),\n",
    "                                       )"
   ]
  },
  {
   "cell_type": "code",
   "execution_count": null,
   "id": "eca3e3e9",
   "metadata": {},
   "outputs": [],
   "source": [
    "%%sbatch\n",
    "#!/bin/bash\n",
    "#SBATCH --job-name=FS_mris_preproc_corr\n",
    "#SBATCH --mem=1G\n",
    "#SBATCH --cpus-per-task=2\n",
    "#SBATCH --nodes=1\n",
    "#SBATCH --output=FS_mris_preproc_corr.out\n",
    "#SBATCH --error=FS_mris_preproc_corr.err\n",
    "#SBATCH --time=0:10:0\n",
    "#SBATCH --account=rrg-glatard\n",
    "\n",
    ". venv/bin/activate # opens virtual environment. change depending where you proprocess the data  \n",
    "\n",
    "module load singularity\n",
    "\n",
    "python preprocess_FS_mris_preproc_corr.py"
   ]
  },
  {
   "cell_type": "markdown",
   "id": "abcaee02",
   "metadata": {},
   "source": [
    "## Run GLM model for the correlational analysis - baseline"
   ]
  },
  {
   "cell_type": "code",
   "execution_count": null,
   "id": "48a96360",
   "metadata": {},
   "outputs": [],
   "source": [
    "# create contrast for MoCA scores\n",
    "\n",
    "with open(\"con_corr_MoCA.mtx\", \"w\") as f:\n",
    "    f.write(\"0 1 0 0 0\")"
   ]
  },
  {
   "cell_type": "code",
   "execution_count": null,
   "id": "f4e1d326",
   "metadata": {},
   "outputs": [],
   "source": [
    "%%writefile glm_corr.py\n",
    "\n",
    "# GLM model for the correlational analysis\n",
    "\n",
    "import os\n",
    "import json\n",
    "\n",
    "import boutiques\n",
    "from boutiques import bosh\n",
    "zid = \"zenodo.7411854\"\n",
    "from boutiques.descriptor2func import function\n",
    "freesurfer = function(zid)\n",
    "\n",
    "\n",
    "for hemi in [\"lh\", \"rh\"]:\n",
    "    for group in [\"PDall\"]:   \n",
    "        out_fs = freesurfer('--imagepath', 'freesurfer-freesurfer-7.1.1.simg.tmp',\n",
    "                                        hemi=hemi,\n",
    "                                        license=\"FS_license/license.txt\",\n",
    "                                        outdir='results_corr_{group}_{hemi}'.format(group=group, hemi=hemi),\n",
    "                                        inputdata='stack.{hemi}.corr.{group}.thickness.rate.15.mgh'.format(hemi=hemi,group=group),\n",
    "                                        fsgd='fsgd_corr_{group}_group.fsgd'.format(group=group),\n",
    "                                        con='con_corr_MoCA.mtx'\n",
    "                                       )"
   ]
  },
  {
   "cell_type": "code",
   "execution_count": null,
   "id": "1e4e5e91",
   "metadata": {},
   "outputs": [],
   "source": [
    "%%sbatch\n",
    "#!/bin/bash\n",
    "#SBATCH --job-name=glm_corr\n",
    "#SBATCH --mem=1G\n",
    "#SBATCH --cpus-per-task=2\n",
    "#SBATCH --nodes=1\n",
    "#SBATCH --output=FS_glm_corr.out\n",
    "#SBATCH --error=FS_glm_corr.err\n",
    "#SBATCH --time=0:10:0\n",
    "\n",
    ". venv/bin/activate # opens virtual environment. change depending where you proprocess the data  \n",
    "\n",
    "module load singularity\n",
    "\n",
    "python glm_corr.py"
   ]
  },
  {
   "cell_type": "markdown",
   "id": "fb917048",
   "metadata": {},
   "source": [
    "## Run GLM model for the group analysis - baseline - ANCOVA"
   ]
  },
  {
   "cell_type": "code",
   "execution_count": null,
   "id": "4f3dd2c5",
   "metadata": {},
   "outputs": [],
   "source": [
    "# create group contrasts\n",
    "\n",
    "with open(\"con_group_PDMCI_PDnonMCI.mtx\", \"w\") as f:\n",
    "    f.write(\"0 -1 1 0 0 0 0 0 0 0 0 0\")\n",
    "with open(\"con_group_PDMCI_HC.mtx\", \"w\") as f:\n",
    "    f.write(\"-1 0 1 0 0 0 0 0 0 0 0 0\")\n",
    "with open(\"con_group_PDnonMCI_HC.mtx\", \"w\") as f:\n",
    "    f.write(\"-1 1 0 0 0 0 0 0 0 0 0 0\")"
   ]
  },
  {
   "cell_type": "code",
   "execution_count": null,
   "id": "9d00cf55",
   "metadata": {},
   "outputs": [],
   "source": [
    "%%writefile glm_group_base.py\n",
    "\n",
    "# GLM model for the group analysis\n",
    "\n",
    "import os\n",
    "import json\n",
    "\n",
    "import boutiques\n",
    "from boutiques import bosh\n",
    "zid = \"zenodo.7411856\"\n",
    "from boutiques.descriptor2func import function\n",
    "freesurfer = function(zid)\n",
    "\n",
    "\n",
    "for hemi in [\"lh\", \"rh\"]:  \n",
    "    out_fs = freesurfer('--imagepath', 'freesurfer-freesurfer-7.1.1.simg.tmp',\n",
    "                                        hemi=hemi,\n",
    "                                        license=\"FS_license/license.txt\",\n",
    "                                        outdir='results_group_baseline_{hemi}'.format(hemi=hemi),\n",
    "                                        inputdata='stack.{hemi}.group.thickness.15.baseline.mgh'.format(hemi=hemi),\n",
    "                                        fsgd='fsgd_cort_group_baseline.fsgd',\n",
    "                                        con1=\"con_group_PDMCI_PDnonMCI.mtx\", \n",
    "                                        con2=\"con_group_PDMCI_HC.mtx\", \n",
    "                                        con3=\"con_group_PDnonMCI_HC.mtx\"\n",
    "                                       )"
   ]
  },
  {
   "cell_type": "code",
   "execution_count": null,
   "id": "7cee7655",
   "metadata": {},
   "outputs": [],
   "source": [
    "%%sbatch\n",
    "#!/bin/bash\n",
    "#SBATCH --job-name=glm_group\n",
    "#SBATCH --mem=1G\n",
    "#SBATCH --cpus-per-task=2\n",
    "#SBATCH --nodes=1\n",
    "#SBATCH --output=FS_glm_group_base.out\n",
    "#SBATCH --error=FS_glm_group_base.err\n",
    "#SBATCH --time=0:10:0\n",
    "\n",
    ". venv/bin/activate # opens virtual environment. change depending where you proprocess the data  \n",
    "\n",
    "module load singularity\n",
    "\n",
    "python glm_group_base.py"
   ]
  },
  {
   "cell_type": "markdown",
   "id": "b6c3517a",
   "metadata": {},
   "source": [
    "## Run GLM model for the group analysis - longitudinal - ANCOVA"
   ]
  },
  {
   "cell_type": "code",
   "execution_count": null,
   "id": "7a4af12d",
   "metadata": {},
   "outputs": [],
   "source": [
    "%%writefile glm_group_long.py\n",
    "\n",
    "# GLM model for the group analysis\n",
    "\n",
    "import os\n",
    "import json\n",
    "\n",
    "import boutiques\n",
    "from boutiques import bosh\n",
    "zid = \"zenodo.7411856\"\n",
    "from boutiques.descriptor2func import function\n",
    "freesurfer = function(zid)\n",
    "\n",
    "\n",
    "for hemi in [\"lh\", \"rh\"]:  \n",
    "    out_fs = freesurfer('--imagepath', 'freesurfer-freesurfer-7.1.1.simg.tmp',\n",
    "                                        hemi=hemi,\n",
    "                                        license=\"FS_license/license.txt\",\n",
    "                                        outdir='results_group_long_{hemi}'.format(hemi=hemi),\n",
    "                                        inputdata='stack.{hemi}.group.thickness.rate.15.long.mgh'.format(hemi=hemi),\n",
    "                                        fsgd='fsgd_cort_group_long.fsgd',\n",
    "                                        con1=\"con_group_PDMCI_PDnonMCI.mtx\", \n",
    "                                        con2=\"con_group_PDMCI_HC.mtx\", \n",
    "                                        con3=\"con_group_PDnonMCI_HC.mtx\"\n",
    "                                       )"
   ]
  },
  {
   "cell_type": "code",
   "execution_count": null,
   "id": "ce42198b",
   "metadata": {},
   "outputs": [],
   "source": [
    "%%sbatch\n",
    "#!/bin/bash\n",
    "#SBATCH --job-name=glm_group\n",
    "#SBATCH --mem=1G\n",
    "#SBATCH --cpus-per-task=2\n",
    "#SBATCH --nodes=1\n",
    "#SBATCH --output=FS_glm_group_long.out\n",
    "#SBATCH --error=FS_glm_group_long.err\n",
    "#SBATCH --time=0:10:0\n",
    "\n",
    ". venv/bin/activate # opens virtual environment. change depending where you proprocess the data  \n",
    "\n",
    "module load singularity\n",
    "\n",
    "python glm_group_long.py"
   ]
  },
  {
   "cell_type": "markdown",
   "id": "5b08b3c6",
   "metadata": {},
   "source": [
    "## Correction for multiple comparison (with mri_glmfit-sim)"
   ]
  },
  {
   "cell_type": "code",
   "execution_count": null,
   "id": "801617fa",
   "metadata": {},
   "outputs": [],
   "source": [
    "%%writefile glm_group_sim.py\n",
    "\n",
    "# GLM model for the group analysis - ANCOVA\n",
    "\n",
    "import os\n",
    "import json\n",
    "\n",
    "import boutiques\n",
    "from boutiques import bosh\n",
    "zid = \"zenodo.7411893\"\n",
    "from boutiques.descriptor2func import function\n",
    "freesurfer = function(zid)\n",
    "\n",
    "\n",
    "for hemi in [\"lh\", \"rh\"]:\n",
    "    for time in [\"baseline\", \"long\"]:\n",
    "        out_fs = freesurfer('--imagepath', 'freesurfer-freesurfer-7.1.1.simg.tmp',\n",
    "                                        license=\"FS_license/license.txt\",\n",
    "                                        dir='results_group_{time}_{hemi}'.format(time=time,hemi=hemi),\n",
    "                                        CACHE_abs='1.3',\n",
    "                                        cwp=\"0.05\"\n",
    "                                       )"
   ]
  },
  {
   "cell_type": "code",
   "execution_count": null,
   "id": "64222ac9",
   "metadata": {},
   "outputs": [],
   "source": [
    "%%sbatch\n",
    "#!/bin/bash\n",
    "#SBATCH --job-name=glm_group_sim\n",
    "#SBATCH --mem=1G\n",
    "#SBATCH --cpus-per-task=2\n",
    "#SBATCH --nodes=1\n",
    "#SBATCH --output=FS_glm_sim_group.out\n",
    "#SBATCH --error=FS_glm_sim_group.err\n",
    "#SBATCH --time=0:10:0\n",
    "\n",
    ". venv/bin/activate # opens virtual environment. change depending where you proprocess the data  \n",
    "\n",
    "module load singularity\n",
    "\n",
    "python glm_group_sim.py"
   ]
  },
  {
   "cell_type": "code",
   "execution_count": null,
   "id": "d7044105",
   "metadata": {},
   "outputs": [],
   "source": [
    "%%writefile glm_corr_sim.py\n",
    "\n",
    "# GLM model for the correlational analysis\n",
    "\n",
    "import os\n",
    "import json\n",
    "\n",
    "import boutiques\n",
    "from boutiques import bosh\n",
    "zid = \"zenodo.7411893\"\n",
    "from boutiques.descriptor2func import function\n",
    "freesurfer = function(zid)\n",
    "\n",
    "\n",
    "for hemi in [\"lh\", \"rh\"]:\n",
    "    for group in [\"PDall\"]: \n",
    "        out_fs = freesurfer('--imagepath', 'freesurfer-freesurfer-7.1.1.simg.tmp',\n",
    "                                        license=\"FS_license/license.txt\",\n",
    "                                        dir='results_corr_{group}_{hemi}'.format(group=group, hemi=hemi),\n",
    "                                        CACHE_abs='1.3',\n",
    "                                        cwp=\"0.05\"\n",
    "                                       )"
   ]
  },
  {
   "cell_type": "code",
   "execution_count": null,
   "id": "de4c3c2e",
   "metadata": {},
   "outputs": [],
   "source": [
    "%%sbatch\n",
    "#!/bin/bash\n",
    "#SBATCH --job-name=glm_corr_sim\n",
    "#SBATCH --mem=1G\n",
    "#SBATCH --cpus-per-task=2\n",
    "#SBATCH --nodes=1\n",
    "#SBATCH --output=FS_glm_sim_corr.out\n",
    "#SBATCH --error=FS_glm_sim_corr.err\n",
    "#SBATCH --time=0:10:0\n",
    "\n",
    ". venv/bin/activate # opens virtual environment. change depending where you proprocess the data  \n",
    "\n",
    "module load singularity\n",
    "\n",
    "python glm_corr_sim.py"
   ]
  },
  {
   "cell_type": "markdown",
   "id": "94934877",
   "metadata": {},
   "source": [
    "# Vertex-wise results"
   ]
  },
  {
   "cell_type": "markdown",
   "id": "e4331557",
   "metadata": {},
   "source": [
    "## correlation with MoCA - baseline"
   ]
  },
  {
   "cell_type": "code",
   "execution_count": 37,
   "id": "d2e8f7c2",
   "metadata": {},
   "outputs": [],
   "source": [
    "# correlation results\n",
    "\n",
    "result_corr = open(\"result_corr.txt\", \"w\")\n",
    "\n",
    "# print(\"Correlation analysis\")\n",
    "for group in [\"PDall\"]:\n",
    "    # print(\"Significant correlation with MoCA in {group} group\\n\".format(group=group))\n",
    "    for hemi in [\"lh\", \"rh\"]:\n",
    "        # print(\"Hemisphere {hemi}\\n\".format(hemi=hemi))\n",
    "        file = open(\n",
    "            \"results_corr_{group}_{hemi}/con_corr_MoCA/cache.th13.abs.sig.cluster.summary\".format(\n",
    "                hemi=hemi, group=group\n",
    "            ),\n",
    "            \"r\",\n",
    "        )\n",
    "        always_print = False\n",
    "        lines = file.readlines()\n",
    "        result_corr.write(group + \"_\" + hemi + \"\\n\")\n",
    "        for line in lines:\n",
    "            if always_print or \"ClusterNo\" in line:\n",
    "                # print(line)\n",
    "                result_corr.write(line)\n",
    "                always_print = True"
   ]
  },
  {
   "cell_type": "code",
   "execution_count": 38,
   "id": "7457d203",
   "metadata": {},
   "outputs": [
    {
     "data": {
      "text/html": [
       "<div>\n",
       "<style scoped>\n",
       "    .dataframe tbody tr th:only-of-type {\n",
       "        vertical-align: middle;\n",
       "    }\n",
       "\n",
       "    .dataframe tbody tr th {\n",
       "        vertical-align: top;\n",
       "    }\n",
       "\n",
       "    .dataframe thead th {\n",
       "        text-align: right;\n",
       "    }\n",
       "</style>\n",
       "<table border=\"1\" class=\"dataframe\">\n",
       "  <thead>\n",
       "    <tr style=\"text-align: right;\">\n",
       "      <th></th>\n",
       "      <th>ClusterNo</th>\n",
       "      <th>Max</th>\n",
       "      <th>VtxMax</th>\n",
       "      <th>Size(mm^2)</th>\n",
       "      <th>MNIX</th>\n",
       "      <th>MNIY</th>\n",
       "      <th>MNIZ</th>\n",
       "      <th>CWP</th>\n",
       "      <th>CWPLow</th>\n",
       "      <th>CWPHi</th>\n",
       "      <th>NVtxs</th>\n",
       "      <th>WghtVtx</th>\n",
       "      <th>Annot</th>\n",
       "    </tr>\n",
       "  </thead>\n",
       "  <tbody>\n",
       "    <tr>\n",
       "      <th>0</th>\n",
       "      <td>PDall_lh</td>\n",
       "      <td></td>\n",
       "      <td></td>\n",
       "      <td></td>\n",
       "      <td></td>\n",
       "      <td></td>\n",
       "      <td></td>\n",
       "      <td></td>\n",
       "      <td></td>\n",
       "      <td></td>\n",
       "      <td></td>\n",
       "      <td></td>\n",
       "      <td></td>\n",
       "    </tr>\n",
       "    <tr>\n",
       "      <th>1</th>\n",
       "      <td>PDall_rh</td>\n",
       "      <td></td>\n",
       "      <td></td>\n",
       "      <td></td>\n",
       "      <td></td>\n",
       "      <td></td>\n",
       "      <td></td>\n",
       "      <td></td>\n",
       "      <td></td>\n",
       "      <td></td>\n",
       "      <td></td>\n",
       "      <td></td>\n",
       "      <td></td>\n",
       "    </tr>\n",
       "  </tbody>\n",
       "</table>\n",
       "</div>"
      ],
      "text/plain": [
       "  ClusterNo Max VtxMax Size(mm^2) MNIX MNIY MNIZ CWP CWPLow CWPHi NVtxs  \\\n",
       "0  PDall_lh                                                               \n",
       "1  PDall_rh                                                               \n",
       "\n",
       "  WghtVtx Annot  \n",
       "0                \n",
       "1                "
      ]
     },
     "execution_count": 38,
     "metadata": {},
     "output_type": "execute_result"
    }
   ],
   "source": [
    "results_corr = pd.read_csv(\n",
    "    \"result_corr.txt\",\n",
    "    sep=\"\\\\s+\",\n",
    "    keep_default_na=False,\n",
    "    na_values=\" \",\n",
    "    comment=\"#\",\n",
    "    names=[\n",
    "        \"ClusterNo\",\n",
    "        \"Max\",\n",
    "        \"VtxMax\",\n",
    "        \"Size(mm^2)\",\n",
    "        \"MNIX\",\n",
    "        \"MNIY\",\n",
    "        \"MNIZ\",\n",
    "        \"CWP\",\n",
    "        \"CWPLow\",\n",
    "        \"CWPHi\",\n",
    "        \"NVtxs\",\n",
    "        \"WghtVtx\",\n",
    "        \"Annot\",\n",
    "    ],\n",
    ")\n",
    "results_corr"
   ]
  },
  {
   "cell_type": "markdown",
   "id": "ae40f535",
   "metadata": {},
   "source": [
    "## group differences - baseline - ANCOVA"
   ]
  },
  {
   "cell_type": "code",
   "execution_count": 40,
   "id": "30f5eb06",
   "metadata": {},
   "outputs": [],
   "source": [
    "# group differences\n",
    "\n",
    "result_group = open(\"result_group_baseline.txt\", \"w\")\n",
    "\n",
    "# print(\"Group analysis\\n\")\n",
    "for pair in [\"PDMCI_PDnonMCI\", \"PDMCI_HC\", \"PDnonMCI_HC\"]:\n",
    "    # print(\"** Significant group differences between {pair} **\\n\".format(pair=pair))\n",
    "    for hemi in [\"lh\", \"rh\"]:\n",
    "        # print(\"Hemisphere {hemi}\\n\".format(hemi=hemi))\n",
    "        file = open(\n",
    "            \"results_group_baseline_{hemi}/con_group_{pair}/cache.th13.abs.sig.cluster.summary\".format(\n",
    "                hemi=hemi, pair=pair\n",
    "            ),\n",
    "            \"r\",\n",
    "        )\n",
    "        always_print = False\n",
    "        lines = file.readlines()\n",
    "        result_group.write(pair + \"_\" + hemi + \"\\n\")\n",
    "        for line in lines:\n",
    "            if always_print or \"ClusterNo\" in line:\n",
    "                # print(line)\n",
    "                result_group.write(line)\n",
    "                always_print = True"
   ]
  },
  {
   "cell_type": "code",
   "execution_count": 41,
   "id": "809c099f",
   "metadata": {},
   "outputs": [
    {
     "data": {
      "text/html": [
       "<div>\n",
       "<style scoped>\n",
       "    .dataframe tbody tr th:only-of-type {\n",
       "        vertical-align: middle;\n",
       "    }\n",
       "\n",
       "    .dataframe tbody tr th {\n",
       "        vertical-align: top;\n",
       "    }\n",
       "\n",
       "    .dataframe thead th {\n",
       "        text-align: right;\n",
       "    }\n",
       "</style>\n",
       "<table border=\"1\" class=\"dataframe\">\n",
       "  <thead>\n",
       "    <tr style=\"text-align: right;\">\n",
       "      <th></th>\n",
       "      <th>ClusterNo</th>\n",
       "      <th>Max</th>\n",
       "      <th>VtxMax</th>\n",
       "      <th>Size(mm^2)</th>\n",
       "      <th>MNIX</th>\n",
       "      <th>MNIY</th>\n",
       "      <th>MNIZ</th>\n",
       "      <th>CWP</th>\n",
       "      <th>CWPLow</th>\n",
       "      <th>CWPHi</th>\n",
       "      <th>NVtxs</th>\n",
       "      <th>WghtVtx</th>\n",
       "      <th>Annot</th>\n",
       "    </tr>\n",
       "  </thead>\n",
       "  <tbody>\n",
       "    <tr>\n",
       "      <th>0</th>\n",
       "      <td>PDMCI_PDnonMCI_lh</td>\n",
       "      <td></td>\n",
       "      <td></td>\n",
       "      <td></td>\n",
       "      <td></td>\n",
       "      <td></td>\n",
       "      <td></td>\n",
       "      <td></td>\n",
       "      <td></td>\n",
       "      <td></td>\n",
       "      <td></td>\n",
       "      <td></td>\n",
       "      <td></td>\n",
       "    </tr>\n",
       "    <tr>\n",
       "      <th>1</th>\n",
       "      <td>PDMCI_PDnonMCI_rh</td>\n",
       "      <td></td>\n",
       "      <td></td>\n",
       "      <td></td>\n",
       "      <td></td>\n",
       "      <td></td>\n",
       "      <td></td>\n",
       "      <td></td>\n",
       "      <td></td>\n",
       "      <td></td>\n",
       "      <td></td>\n",
       "      <td></td>\n",
       "      <td></td>\n",
       "    </tr>\n",
       "    <tr>\n",
       "      <th>2</th>\n",
       "      <td>PDMCI_HC_lh</td>\n",
       "      <td></td>\n",
       "      <td></td>\n",
       "      <td></td>\n",
       "      <td></td>\n",
       "      <td></td>\n",
       "      <td></td>\n",
       "      <td></td>\n",
       "      <td></td>\n",
       "      <td></td>\n",
       "      <td></td>\n",
       "      <td></td>\n",
       "      <td></td>\n",
       "    </tr>\n",
       "    <tr>\n",
       "      <th>3</th>\n",
       "      <td>PDMCI_HC_rh</td>\n",
       "      <td></td>\n",
       "      <td></td>\n",
       "      <td></td>\n",
       "      <td></td>\n",
       "      <td></td>\n",
       "      <td></td>\n",
       "      <td></td>\n",
       "      <td></td>\n",
       "      <td></td>\n",
       "      <td></td>\n",
       "      <td></td>\n",
       "      <td></td>\n",
       "    </tr>\n",
       "    <tr>\n",
       "      <th>4</th>\n",
       "      <td>PDnonMCI_HC_lh</td>\n",
       "      <td></td>\n",
       "      <td></td>\n",
       "      <td></td>\n",
       "      <td></td>\n",
       "      <td></td>\n",
       "      <td></td>\n",
       "      <td></td>\n",
       "      <td></td>\n",
       "      <td></td>\n",
       "      <td></td>\n",
       "      <td></td>\n",
       "      <td></td>\n",
       "    </tr>\n",
       "    <tr>\n",
       "      <th>5</th>\n",
       "      <td>PDnonMCI_HC_rh</td>\n",
       "      <td></td>\n",
       "      <td></td>\n",
       "      <td></td>\n",
       "      <td></td>\n",
       "      <td></td>\n",
       "      <td></td>\n",
       "      <td></td>\n",
       "      <td></td>\n",
       "      <td></td>\n",
       "      <td></td>\n",
       "      <td></td>\n",
       "      <td></td>\n",
       "    </tr>\n",
       "  </tbody>\n",
       "</table>\n",
       "</div>"
      ],
      "text/plain": [
       "           ClusterNo Max VtxMax Size(mm^2) MNIX MNIY MNIZ CWP CWPLow CWPHi  \\\n",
       "0  PDMCI_PDnonMCI_lh                                                         \n",
       "1  PDMCI_PDnonMCI_rh                                                         \n",
       "2        PDMCI_HC_lh                                                         \n",
       "3        PDMCI_HC_rh                                                         \n",
       "4     PDnonMCI_HC_lh                                                         \n",
       "5     PDnonMCI_HC_rh                                                         \n",
       "\n",
       "  NVtxs WghtVtx Annot  \n",
       "0                      \n",
       "1                      \n",
       "2                      \n",
       "3                      \n",
       "4                      \n",
       "5                      "
      ]
     },
     "execution_count": 41,
     "metadata": {},
     "output_type": "execute_result"
    }
   ],
   "source": [
    "results_group = pd.read_csv(\n",
    "    \"result_group_baseline.txt\",\n",
    "    sep=\"\\\\s+\",\n",
    "    keep_default_na=False,\n",
    "    na_values=\" \",\n",
    "    comment=\"#\",\n",
    "    names=[\n",
    "        \"ClusterNo\",\n",
    "        \"Max\",\n",
    "        \"VtxMax\",\n",
    "        \"Size(mm^2)\",\n",
    "        \"MNIX\",\n",
    "        \"MNIY\",\n",
    "        \"MNIZ\",\n",
    "        \"CWP\",\n",
    "        \"CWPLow\",\n",
    "        \"CWPHi\",\n",
    "        \"NVtxs\",\n",
    "        \"WghtVtx\",\n",
    "        \"Annot\",\n",
    "    ],\n",
    ")\n",
    "results_group"
   ]
  },
  {
   "cell_type": "markdown",
   "id": "df3a9f35",
   "metadata": {},
   "source": [
    "### Differences in baseline cortical thickness in patients with Parkinson’s disease.\n"
   ]
  },
  {
   "cell_type": "markdown",
   "id": "216ffdc4",
   "metadata": {},
   "source": [
    "## group differences - longitudinal data - ANCOVA"
   ]
  },
  {
   "cell_type": "code",
   "execution_count": 43,
   "id": "04d8e172",
   "metadata": {},
   "outputs": [],
   "source": [
    "# group differences\n",
    "\n",
    "result_group = open(\"result_group_long.txt\", \"w\")\n",
    "\n",
    "# print(\"Group analysis\\n\")\n",
    "for pair in [\"PDMCI_PDnonMCI\", \"PDMCI_HC\", \"PDnonMCI_HC\"]:\n",
    "    # print(\"** Significant group differences between {pair} **\\n\".format(pair=pair))\n",
    "    for hemi in [\"lh\", \"rh\"]:\n",
    "        # print(\"Hemisphere {hemi}\\n\".format(hemi=hemi))\n",
    "        file = open(\n",
    "            \"results_group_long_{hemi}/con_group_{pair}/cache.th13.abs.sig.cluster.summary\".format(\n",
    "                hemi=hemi, pair=pair\n",
    "            ),\n",
    "            \"r\",\n",
    "        )\n",
    "        always_print = False\n",
    "        lines = file.readlines()\n",
    "        result_group.write(pair + \"_\" + hemi + \"\\n\")\n",
    "        for line in lines:\n",
    "            if always_print or \"ClusterNo\" in line:\n",
    "                # print(line)\n",
    "                result_group.write(line)\n",
    "                always_print = True"
   ]
  },
  {
   "cell_type": "code",
   "execution_count": 44,
   "id": "d28584eb",
   "metadata": {},
   "outputs": [
    {
     "data": {
      "text/html": [
       "<div>\n",
       "<style scoped>\n",
       "    .dataframe tbody tr th:only-of-type {\n",
       "        vertical-align: middle;\n",
       "    }\n",
       "\n",
       "    .dataframe tbody tr th {\n",
       "        vertical-align: top;\n",
       "    }\n",
       "\n",
       "    .dataframe thead th {\n",
       "        text-align: right;\n",
       "    }\n",
       "</style>\n",
       "<table border=\"1\" class=\"dataframe\">\n",
       "  <thead>\n",
       "    <tr style=\"text-align: right;\">\n",
       "      <th></th>\n",
       "      <th>ClusterNo</th>\n",
       "      <th>Max</th>\n",
       "      <th>VtxMax</th>\n",
       "      <th>Size(mm^2)</th>\n",
       "      <th>MNIX</th>\n",
       "      <th>MNIY</th>\n",
       "      <th>MNIZ</th>\n",
       "      <th>CWP</th>\n",
       "      <th>CWPLow</th>\n",
       "      <th>CWPHi</th>\n",
       "      <th>NVtxs</th>\n",
       "      <th>WghtVtx</th>\n",
       "      <th>Annot</th>\n",
       "    </tr>\n",
       "  </thead>\n",
       "  <tbody>\n",
       "    <tr>\n",
       "      <th>0</th>\n",
       "      <td>PDMCI_PDnonMCI_lh</td>\n",
       "      <td></td>\n",
       "      <td></td>\n",
       "      <td></td>\n",
       "      <td></td>\n",
       "      <td></td>\n",
       "      <td></td>\n",
       "      <td></td>\n",
       "      <td></td>\n",
       "      <td></td>\n",
       "      <td></td>\n",
       "      <td></td>\n",
       "      <td></td>\n",
       "    </tr>\n",
       "    <tr>\n",
       "      <th>1</th>\n",
       "      <td>1</td>\n",
       "      <td>2.4495</td>\n",
       "      <td>3925</td>\n",
       "      <td>1370.43</td>\n",
       "      <td>-25.4</td>\n",
       "      <td>-81.6</td>\n",
       "      <td>-9.4</td>\n",
       "      <td>0.00360</td>\n",
       "      <td>0.00260</td>\n",
       "      <td>0.00479</td>\n",
       "      <td>1757</td>\n",
       "      <td>2986.58</td>\n",
       "      <td>lateraloccipital</td>\n",
       "    </tr>\n",
       "    <tr>\n",
       "      <th>2</th>\n",
       "      <td>PDMCI_PDnonMCI_rh</td>\n",
       "      <td></td>\n",
       "      <td></td>\n",
       "      <td></td>\n",
       "      <td></td>\n",
       "      <td></td>\n",
       "      <td></td>\n",
       "      <td></td>\n",
       "      <td></td>\n",
       "      <td></td>\n",
       "      <td></td>\n",
       "      <td></td>\n",
       "      <td></td>\n",
       "    </tr>\n",
       "    <tr>\n",
       "      <th>3</th>\n",
       "      <td>PDMCI_HC_lh</td>\n",
       "      <td></td>\n",
       "      <td></td>\n",
       "      <td></td>\n",
       "      <td></td>\n",
       "      <td></td>\n",
       "      <td></td>\n",
       "      <td></td>\n",
       "      <td></td>\n",
       "      <td></td>\n",
       "      <td></td>\n",
       "      <td></td>\n",
       "      <td></td>\n",
       "    </tr>\n",
       "    <tr>\n",
       "      <th>4</th>\n",
       "      <td>PDMCI_HC_rh</td>\n",
       "      <td></td>\n",
       "      <td></td>\n",
       "      <td></td>\n",
       "      <td></td>\n",
       "      <td></td>\n",
       "      <td></td>\n",
       "      <td></td>\n",
       "      <td></td>\n",
       "      <td></td>\n",
       "      <td></td>\n",
       "      <td></td>\n",
       "      <td></td>\n",
       "    </tr>\n",
       "    <tr>\n",
       "      <th>5</th>\n",
       "      <td>PDnonMCI_HC_lh</td>\n",
       "      <td></td>\n",
       "      <td></td>\n",
       "      <td></td>\n",
       "      <td></td>\n",
       "      <td></td>\n",
       "      <td></td>\n",
       "      <td></td>\n",
       "      <td></td>\n",
       "      <td></td>\n",
       "      <td></td>\n",
       "      <td></td>\n",
       "      <td></td>\n",
       "    </tr>\n",
       "    <tr>\n",
       "      <th>6</th>\n",
       "      <td>PDnonMCI_HC_rh</td>\n",
       "      <td></td>\n",
       "      <td></td>\n",
       "      <td></td>\n",
       "      <td></td>\n",
       "      <td></td>\n",
       "      <td></td>\n",
       "      <td></td>\n",
       "      <td></td>\n",
       "      <td></td>\n",
       "      <td></td>\n",
       "      <td></td>\n",
       "      <td></td>\n",
       "    </tr>\n",
       "  </tbody>\n",
       "</table>\n",
       "</div>"
      ],
      "text/plain": [
       "           ClusterNo     Max VtxMax Size(mm^2)   MNIX   MNIY  MNIZ      CWP  \\\n",
       "0  PDMCI_PDnonMCI_lh                                                          \n",
       "1                  1  2.4495   3925    1370.43  -25.4  -81.6  -9.4  0.00360   \n",
       "2  PDMCI_PDnonMCI_rh                                                          \n",
       "3        PDMCI_HC_lh                                                          \n",
       "4        PDMCI_HC_rh                                                          \n",
       "5     PDnonMCI_HC_lh                                                          \n",
       "6     PDnonMCI_HC_rh                                                          \n",
       "\n",
       "    CWPLow    CWPHi NVtxs  WghtVtx             Annot  \n",
       "0                                                     \n",
       "1  0.00260  0.00479  1757  2986.58  lateraloccipital  \n",
       "2                                                     \n",
       "3                                                     \n",
       "4                                                     \n",
       "5                                                     \n",
       "6                                                     "
      ]
     },
     "execution_count": 44,
     "metadata": {},
     "output_type": "execute_result"
    }
   ],
   "source": [
    "results_group = pd.read_csv(\n",
    "    \"result_group_long.txt\",\n",
    "    sep=\"\\\\s+\",\n",
    "    keep_default_na=False,\n",
    "    na_values=\" \",\n",
    "    comment=\"#\",\n",
    "    names=[\n",
    "        \"ClusterNo\",\n",
    "        \"Max\",\n",
    "        \"VtxMax\",\n",
    "        \"Size(mm^2)\",\n",
    "        \"MNIX\",\n",
    "        \"MNIY\",\n",
    "        \"MNIZ\",\n",
    "        \"CWP\",\n",
    "        \"CWPLow\",\n",
    "        \"CWPHi\",\n",
    "        \"NVtxs\",\n",
    "        \"WghtVtx\",\n",
    "        \"Annot\",\n",
    "    ],\n",
    ")\n",
    "results_group"
   ]
  },
  {
   "cell_type": "markdown",
   "id": "0fd9ba8f",
   "metadata": {},
   "source": [
    "### Longitudinal differences in the cortical thickness in patients with Parkinson’s disease.\n",
    "\n",
    "\n",
    "PD-MCI versus PD-non-MCI, left hemisphere\n",
    "\n",
    "<img src=\"images/img_group_long_PDMCI_PDnonMCI_lh_mid.jpg\"/>"
   ]
  },
  {
   "cell_type": "markdown",
   "id": "70641a93",
   "metadata": {},
   "source": [
    "## group differences - baseline - t-test"
   ]
  },
  {
   "cell_type": "code",
   "execution_count": 46,
   "id": "b585b232",
   "metadata": {},
   "outputs": [],
   "source": [
    "# group differences\n",
    "\n",
    "result_group = open(\"result_group_baseline.txt\", \"w\")\n",
    "\n",
    "# print(\"Group analysis\\n\")\n",
    "for pair in [\"PDnonMCI_PDMCI\", \"HC_PDMCI\", \"HC_PDnonMCI\"]:\n",
    "    # print(\"** Significant group differences between {pair} **\\n\".format(pair=pair))\n",
    "    for hemi in [\"lh\", \"rh\"]:\n",
    "        # print(\"Hemisphere {hemi}\\n\".format(hemi=hemi))\n",
    "        file = open(\n",
    "            \"results_group_baseline_{pair}_{hemi}/con_group_{pair}/cache.th13.abs.sig.cluster.summary\".format(\n",
    "                hemi=hemi, pair=pair\n",
    "            ),\n",
    "            \"r\",\n",
    "        )\n",
    "        always_print = False\n",
    "        lines = file.readlines()\n",
    "        result_group.write(pair + \"_\" + hemi + \"\\n\")\n",
    "        for line in lines:\n",
    "            if always_print or \"ClusterNo\" in line:\n",
    "                # print(line)\n",
    "                result_group.write(line)\n",
    "                always_print = True"
   ]
  },
  {
   "cell_type": "code",
   "execution_count": 47,
   "id": "448d528f",
   "metadata": {},
   "outputs": [
    {
     "data": {
      "text/html": [
       "<div>\n",
       "<style scoped>\n",
       "    .dataframe tbody tr th:only-of-type {\n",
       "        vertical-align: middle;\n",
       "    }\n",
       "\n",
       "    .dataframe tbody tr th {\n",
       "        vertical-align: top;\n",
       "    }\n",
       "\n",
       "    .dataframe thead th {\n",
       "        text-align: right;\n",
       "    }\n",
       "</style>\n",
       "<table border=\"1\" class=\"dataframe\">\n",
       "  <thead>\n",
       "    <tr style=\"text-align: right;\">\n",
       "      <th></th>\n",
       "      <th>ClusterNo</th>\n",
       "      <th>Max</th>\n",
       "      <th>VtxMax</th>\n",
       "      <th>Size(mm^2)</th>\n",
       "      <th>MNIX</th>\n",
       "      <th>MNIY</th>\n",
       "      <th>MNIZ</th>\n",
       "      <th>CWP</th>\n",
       "      <th>CWPLow</th>\n",
       "      <th>CWPHi</th>\n",
       "      <th>NVtxs</th>\n",
       "      <th>WghtVtx</th>\n",
       "      <th>Annot</th>\n",
       "    </tr>\n",
       "  </thead>\n",
       "  <tbody>\n",
       "    <tr>\n",
       "      <th>0</th>\n",
       "      <td>PDnonMCI_PDMCI_lh</td>\n",
       "      <td></td>\n",
       "      <td></td>\n",
       "      <td></td>\n",
       "      <td></td>\n",
       "      <td></td>\n",
       "      <td></td>\n",
       "      <td></td>\n",
       "      <td></td>\n",
       "      <td></td>\n",
       "      <td></td>\n",
       "      <td></td>\n",
       "      <td></td>\n",
       "    </tr>\n",
       "    <tr>\n",
       "      <th>1</th>\n",
       "      <td>PDnonMCI_PDMCI_rh</td>\n",
       "      <td></td>\n",
       "      <td></td>\n",
       "      <td></td>\n",
       "      <td></td>\n",
       "      <td></td>\n",
       "      <td></td>\n",
       "      <td></td>\n",
       "      <td></td>\n",
       "      <td></td>\n",
       "      <td></td>\n",
       "      <td></td>\n",
       "      <td></td>\n",
       "    </tr>\n",
       "    <tr>\n",
       "      <th>2</th>\n",
       "      <td>HC_PDMCI_lh</td>\n",
       "      <td></td>\n",
       "      <td></td>\n",
       "      <td></td>\n",
       "      <td></td>\n",
       "      <td></td>\n",
       "      <td></td>\n",
       "      <td></td>\n",
       "      <td></td>\n",
       "      <td></td>\n",
       "      <td></td>\n",
       "      <td></td>\n",
       "      <td></td>\n",
       "    </tr>\n",
       "    <tr>\n",
       "      <th>3</th>\n",
       "      <td>HC_PDMCI_rh</td>\n",
       "      <td></td>\n",
       "      <td></td>\n",
       "      <td></td>\n",
       "      <td></td>\n",
       "      <td></td>\n",
       "      <td></td>\n",
       "      <td></td>\n",
       "      <td></td>\n",
       "      <td></td>\n",
       "      <td></td>\n",
       "      <td></td>\n",
       "      <td></td>\n",
       "    </tr>\n",
       "    <tr>\n",
       "      <th>4</th>\n",
       "      <td>HC_PDnonMCI_lh</td>\n",
       "      <td></td>\n",
       "      <td></td>\n",
       "      <td></td>\n",
       "      <td></td>\n",
       "      <td></td>\n",
       "      <td></td>\n",
       "      <td></td>\n",
       "      <td></td>\n",
       "      <td></td>\n",
       "      <td></td>\n",
       "      <td></td>\n",
       "      <td></td>\n",
       "    </tr>\n",
       "    <tr>\n",
       "      <th>5</th>\n",
       "      <td>HC_PDnonMCI_rh</td>\n",
       "      <td></td>\n",
       "      <td></td>\n",
       "      <td></td>\n",
       "      <td></td>\n",
       "      <td></td>\n",
       "      <td></td>\n",
       "      <td></td>\n",
       "      <td></td>\n",
       "      <td></td>\n",
       "      <td></td>\n",
       "      <td></td>\n",
       "      <td></td>\n",
       "    </tr>\n",
       "  </tbody>\n",
       "</table>\n",
       "</div>"
      ],
      "text/plain": [
       "           ClusterNo Max VtxMax Size(mm^2) MNIX MNIY MNIZ CWP CWPLow CWPHi  \\\n",
       "0  PDnonMCI_PDMCI_lh                                                         \n",
       "1  PDnonMCI_PDMCI_rh                                                         \n",
       "2        HC_PDMCI_lh                                                         \n",
       "3        HC_PDMCI_rh                                                         \n",
       "4     HC_PDnonMCI_lh                                                         \n",
       "5     HC_PDnonMCI_rh                                                         \n",
       "\n",
       "  NVtxs WghtVtx Annot  \n",
       "0                      \n",
       "1                      \n",
       "2                      \n",
       "3                      \n",
       "4                      \n",
       "5                      "
      ]
     },
     "execution_count": 47,
     "metadata": {},
     "output_type": "execute_result"
    }
   ],
   "source": [
    "results_group = pd.read_csv(\n",
    "    \"result_group_baseline.txt\",\n",
    "    sep=\"\\\\s+\",\n",
    "    keep_default_na=False,\n",
    "    na_values=\" \",\n",
    "    comment=\"#\",\n",
    "    names=[\n",
    "        \"ClusterNo\",\n",
    "        \"Max\",\n",
    "        \"VtxMax\",\n",
    "        \"Size(mm^2)\",\n",
    "        \"MNIX\",\n",
    "        \"MNIY\",\n",
    "        \"MNIZ\",\n",
    "        \"CWP\",\n",
    "        \"CWPLow\",\n",
    "        \"CWPHi\",\n",
    "        \"NVtxs\",\n",
    "        \"WghtVtx\",\n",
    "        \"Annot\",\n",
    "    ],\n",
    ")\n",
    "results_group"
   ]
  },
  {
   "cell_type": "markdown",
   "id": "41e012fe",
   "metadata": {},
   "source": [
    "### Differences in the baseline cortical thickness in patients with Parkinson’s disease.\n",
    "\n"
   ]
  },
  {
   "cell_type": "markdown",
   "id": "2f9aa5b0",
   "metadata": {},
   "source": [
    "## group differences - longitudinal - t-test"
   ]
  },
  {
   "cell_type": "code",
   "execution_count": 49,
   "id": "288cd27a",
   "metadata": {},
   "outputs": [],
   "source": [
    "# group differences\n",
    "\n",
    "result_group = open(\"result_group_long.txt\", \"w\")\n",
    "\n",
    "# print(\"Group analysis\\n\")\n",
    "for pair in [\"PDnonMCI_PDMCI\", \"HC_PDMCI\", \"HC_PDnonMCI\"]:\n",
    "    # print(\"** Significant group differences between {pair} **\\n\".format(pair=pair))\n",
    "    for hemi in [\"lh\", \"rh\"]:\n",
    "        # print(\"Hemisphere {hemi}\\n\".format(hemi=hemi))\n",
    "        file = open(\n",
    "            \"results_group_long_{pair}_{hemi}/con_group_{pair}/cache.th13.abs.sig.cluster.summary\".format(\n",
    "                hemi=hemi, pair=pair\n",
    "            ),\n",
    "            \"r\",\n",
    "        )\n",
    "        always_print = False\n",
    "        lines = file.readlines()\n",
    "        result_group.write(pair + \"_\" + hemi + \"\\n\")\n",
    "        for line in lines:\n",
    "            if always_print or \"ClusterNo\" in line:\n",
    "                # print(line)\n",
    "                result_group.write(line)\n",
    "                always_print = True"
   ]
  },
  {
   "cell_type": "code",
   "execution_count": 50,
   "id": "b5bb0f27",
   "metadata": {},
   "outputs": [
    {
     "data": {
      "text/html": [
       "<div>\n",
       "<style scoped>\n",
       "    .dataframe tbody tr th:only-of-type {\n",
       "        vertical-align: middle;\n",
       "    }\n",
       "\n",
       "    .dataframe tbody tr th {\n",
       "        vertical-align: top;\n",
       "    }\n",
       "\n",
       "    .dataframe thead th {\n",
       "        text-align: right;\n",
       "    }\n",
       "</style>\n",
       "<table border=\"1\" class=\"dataframe\">\n",
       "  <thead>\n",
       "    <tr style=\"text-align: right;\">\n",
       "      <th></th>\n",
       "      <th>ClusterNo</th>\n",
       "      <th>Max</th>\n",
       "      <th>VtxMax</th>\n",
       "      <th>Size(mm^2)</th>\n",
       "      <th>MNIX</th>\n",
       "      <th>MNIY</th>\n",
       "      <th>MNIZ</th>\n",
       "      <th>CWP</th>\n",
       "      <th>CWPLow</th>\n",
       "      <th>CWPHi</th>\n",
       "      <th>NVtxs</th>\n",
       "      <th>WghtVtx</th>\n",
       "      <th>Annot</th>\n",
       "    </tr>\n",
       "  </thead>\n",
       "  <tbody>\n",
       "    <tr>\n",
       "      <th>0</th>\n",
       "      <td>PDnonMCI_PDMCI_lh</td>\n",
       "      <td></td>\n",
       "      <td></td>\n",
       "      <td></td>\n",
       "      <td></td>\n",
       "      <td></td>\n",
       "      <td></td>\n",
       "      <td></td>\n",
       "      <td></td>\n",
       "      <td></td>\n",
       "      <td></td>\n",
       "      <td></td>\n",
       "      <td></td>\n",
       "    </tr>\n",
       "    <tr>\n",
       "      <th>1</th>\n",
       "      <td>1</td>\n",
       "      <td>-2.5817</td>\n",
       "      <td>114641</td>\n",
       "      <td>1482.38</td>\n",
       "      <td>-17.4</td>\n",
       "      <td>-83.2</td>\n",
       "      <td>-9.2</td>\n",
       "      <td>0.00320</td>\n",
       "      <td>0.00220</td>\n",
       "      <td>0.00420</td>\n",
       "      <td>1900</td>\n",
       "      <td>-3350.08</td>\n",
       "      <td>lingual</td>\n",
       "    </tr>\n",
       "    <tr>\n",
       "      <th>2</th>\n",
       "      <td>PDnonMCI_PDMCI_rh</td>\n",
       "      <td></td>\n",
       "      <td></td>\n",
       "      <td></td>\n",
       "      <td></td>\n",
       "      <td></td>\n",
       "      <td></td>\n",
       "      <td></td>\n",
       "      <td></td>\n",
       "      <td></td>\n",
       "      <td></td>\n",
       "      <td></td>\n",
       "      <td></td>\n",
       "    </tr>\n",
       "    <tr>\n",
       "      <th>3</th>\n",
       "      <td>HC_PDMCI_lh</td>\n",
       "      <td></td>\n",
       "      <td></td>\n",
       "      <td></td>\n",
       "      <td></td>\n",
       "      <td></td>\n",
       "      <td></td>\n",
       "      <td></td>\n",
       "      <td></td>\n",
       "      <td></td>\n",
       "      <td></td>\n",
       "      <td></td>\n",
       "      <td></td>\n",
       "    </tr>\n",
       "    <tr>\n",
       "      <th>4</th>\n",
       "      <td>HC_PDMCI_rh</td>\n",
       "      <td></td>\n",
       "      <td></td>\n",
       "      <td></td>\n",
       "      <td></td>\n",
       "      <td></td>\n",
       "      <td></td>\n",
       "      <td></td>\n",
       "      <td></td>\n",
       "      <td></td>\n",
       "      <td></td>\n",
       "      <td></td>\n",
       "      <td></td>\n",
       "    </tr>\n",
       "    <tr>\n",
       "      <th>5</th>\n",
       "      <td>HC_PDnonMCI_lh</td>\n",
       "      <td></td>\n",
       "      <td></td>\n",
       "      <td></td>\n",
       "      <td></td>\n",
       "      <td></td>\n",
       "      <td></td>\n",
       "      <td></td>\n",
       "      <td></td>\n",
       "      <td></td>\n",
       "      <td></td>\n",
       "      <td></td>\n",
       "      <td></td>\n",
       "    </tr>\n",
       "    <tr>\n",
       "      <th>6</th>\n",
       "      <td>HC_PDnonMCI_rh</td>\n",
       "      <td></td>\n",
       "      <td></td>\n",
       "      <td></td>\n",
       "      <td></td>\n",
       "      <td></td>\n",
       "      <td></td>\n",
       "      <td></td>\n",
       "      <td></td>\n",
       "      <td></td>\n",
       "      <td></td>\n",
       "      <td></td>\n",
       "      <td></td>\n",
       "    </tr>\n",
       "  </tbody>\n",
       "</table>\n",
       "</div>"
      ],
      "text/plain": [
       "           ClusterNo      Max  VtxMax Size(mm^2)   MNIX   MNIY  MNIZ      CWP  \\\n",
       "0  PDnonMCI_PDMCI_lh                                                            \n",
       "1                  1  -2.5817  114641    1482.38  -17.4  -83.2  -9.2  0.00320   \n",
       "2  PDnonMCI_PDMCI_rh                                                            \n",
       "3        HC_PDMCI_lh                                                            \n",
       "4        HC_PDMCI_rh                                                            \n",
       "5     HC_PDnonMCI_lh                                                            \n",
       "6     HC_PDnonMCI_rh                                                            \n",
       "\n",
       "    CWPLow    CWPHi NVtxs   WghtVtx    Annot  \n",
       "0                                             \n",
       "1  0.00220  0.00420  1900  -3350.08  lingual  \n",
       "2                                             \n",
       "3                                             \n",
       "4                                             \n",
       "5                                             \n",
       "6                                             "
      ]
     },
     "execution_count": 50,
     "metadata": {},
     "output_type": "execute_result"
    }
   ],
   "source": [
    "results_group = pd.read_csv(\n",
    "    \"result_group_long.txt\",\n",
    "    sep=\"\\\\s+\",\n",
    "    keep_default_na=False,\n",
    "    na_values=\" \",\n",
    "    comment=\"#\",\n",
    "    names=[\n",
    "        \"ClusterNo\",\n",
    "        \"Max\",\n",
    "        \"VtxMax\",\n",
    "        \"Size(mm^2)\",\n",
    "        \"MNIX\",\n",
    "        \"MNIY\",\n",
    "        \"MNIZ\",\n",
    "        \"CWP\",\n",
    "        \"CWPLow\",\n",
    "        \"CWPHi\",\n",
    "        \"NVtxs\",\n",
    "        \"WghtVtx\",\n",
    "        \"Annot\",\n",
    "    ],\n",
    ")\n",
    "results_group"
   ]
  },
  {
   "cell_type": "markdown",
   "id": "2f58fe04",
   "metadata": {},
   "source": [
    "### Longitudinal differences in the cortical thickness in patients with Parkinson’s disease.\n",
    "\n",
    "\n",
    "PD-non-MCI versus PD-MCI, left hemisphere\n",
    "\n",
    "<img src=\"images/img_group_ttest_long_PDnonMCI_PDMCI_lh_mid.jpg\"/>"
   ]
  },
  {
   "cell_type": "markdown",
   "id": "b4fc8359",
   "metadata": {},
   "source": [
    "## Conclusion\n",
    "\n",
    "Based on the results obtained, we were unable to reproduce the findings of the original paper. While the original study found greater atrophy in PD-MCI in the left hippocampus and left nucleus accumbens, our results showed significant group differences in the volume of the left amygdala. The original study found group differences in the change of volumes in the left caudate and the right hippocampus. We found group differences in the change of the right putamen volume.\n",
    "\n",
    "We did not replicate voxel-wise correlation analysis. We found no correlation between the MoCA scores and the cortical thickness at baseline.\n",
    "\n",
    "We did not replicate voxel-wise group differences in baseline and longitudinal analysis.\n",
    "\n",
    "However, there is still room for improvement. For example, we could try preprocessing the images using the freesurfer version from the original study, as this may affect the results. Additionally, the small number of PD-MCI patients and the use of a mix of 12 and 24 month follow-up data instead of 18 month follow-up data could have influenced the results of the analysis."
   ]
  }
 ],
 "metadata": {
  "kernelspec": {
   "display_name": "Python 3 (ipykernel)",
   "language": "python",
   "name": "python3"
  },
  "language_info": {
   "codemirror_mode": {
    "name": "ipython",
    "version": 3
   },
   "file_extension": ".py",
   "mimetype": "text/x-python",
   "name": "python",
   "nbconvert_exporter": "python",
   "pygments_lexer": "ipython3",
   "version": "3.10.8"
  }
 },
 "nbformat": 4,
 "nbformat_minor": 5
}
